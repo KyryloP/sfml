{
 "cells": [
  {
   "cell_type": "markdown",
   "metadata": {},
   "source": [
    "# SkillFactory\n",
    "## Введение в ML, введение в sklearn"
   ]
  },
  {
   "cell_type": "markdown",
   "metadata": {},
   "source": [
    "В этом задании мы с вами рассмотрим данные с конкурса [Задача предсказания отклика клиентов ОТП Банка](http://www.machinelearning.ru/wiki/index.php?title=%D0%97%D0%B0%D0%B4%D0%B0%D1%87%D0%B0_%D0%BF%D1%80%D0%B5%D0%B4%D1%81%D0%BA%D0%B0%D0%B7%D0%B0%D0%BD%D0%B8%D1%8F_%D0%BE%D1%82%D0%BA%D0%BB%D0%B8%D0%BA%D0%B0_%D0%BA%D0%BB%D0%B8%D0%B5%D0%BD%D1%82%D0%BE%D0%B2_%D0%9E%D0%A2%D0%9F_%D0%91%D0%B0%D0%BD%D0%BA%D0%B0_%28%D0%BA%D0%BE%D0%BD%D0%BA%D1%83%D1%80%D1%81%29)"
   ]
  },
  {
   "cell_type": "code",
   "execution_count": 1,
   "metadata": {
    "collapsed": true
   },
   "outputs": [],
   "source": [
    "import pandas as pd\n",
    "import numpy as np\n",
    "import matplotlib.pyplot as plt\n",
    "\n",
    "%matplotlib inline\n",
    "\n",
    "plt.style.use('ggplot')\n",
    "plt.rcParams['figure.figsize'] = (12,5)"
   ]
  },
  {
   "cell_type": "markdown",
   "metadata": {},
   "source": [
    "### Грузим данные"
   ]
  },
  {
   "cell_type": "markdown",
   "metadata": {},
   "source": [
    "Считаем описание данных"
   ]
  },
  {
   "cell_type": "code",
   "execution_count": 2,
   "metadata": {
    "collapsed": true
   },
   "outputs": [],
   "source": [
    "\n",
    "df_descr = pd.read_csv('data/otp_description.csv', sep='\\t', encoding='utf8')"
   ]
  },
  {
   "cell_type": "code",
   "execution_count": 3,
   "metadata": {
    "collapsed": false
   },
   "outputs": [
    {
     "data": {
      "text/html": [
       "<div>\n",
       "<style scoped>\n",
       "    .dataframe tbody tr th:only-of-type {\n",
       "        vertical-align: middle;\n",
       "    }\n",
       "\n",
       "    .dataframe tbody tr th {\n",
       "        vertical-align: top;\n",
       "    }\n",
       "\n",
       "    .dataframe thead th {\n",
       "        text-align: right;\n",
       "    }\n",
       "</style>\n",
       "<table border=\"1\" class=\"dataframe\">\n",
       "  <thead>\n",
       "    <tr style=\"text-align: right;\">\n",
       "      <th></th>\n",
       "      <th>ПОЛЕ</th>\n",
       "      <th>ОПИСАНИЕ</th>\n",
       "    </tr>\n",
       "  </thead>\n",
       "  <tbody>\n",
       "    <tr>\n",
       "      <th>0</th>\n",
       "      <td>AGREEMENT_RK</td>\n",
       "      <td>уникальный идентификатор объекта в выборке</td>\n",
       "    </tr>\n",
       "    <tr>\n",
       "      <th>1</th>\n",
       "      <td>AGE</td>\n",
       "      <td>возраст клиента</td>\n",
       "    </tr>\n",
       "    <tr>\n",
       "      <th>2</th>\n",
       "      <td>SOCSTATUS_WORK_FL</td>\n",
       "      <td>социальный статус клиента относительно работы ...</td>\n",
       "    </tr>\n",
       "    <tr>\n",
       "      <th>3</th>\n",
       "      <td>SOCSTATUS_PENS_FL</td>\n",
       "      <td>социальный статус клиента относительно пенсии ...</td>\n",
       "    </tr>\n",
       "    <tr>\n",
       "      <th>4</th>\n",
       "      <td>GENDER</td>\n",
       "      <td>пол клиента (1- женщины, 0-мужчины)</td>\n",
       "    </tr>\n",
       "    <tr>\n",
       "      <th>5</th>\n",
       "      <td>CHILD_TOTAL</td>\n",
       "      <td>количество детей клиента</td>\n",
       "    </tr>\n",
       "    <tr>\n",
       "      <th>6</th>\n",
       "      <td>DEPENDANTS</td>\n",
       "      <td>количество иждивенцев клиента</td>\n",
       "    </tr>\n",
       "    <tr>\n",
       "      <th>7</th>\n",
       "      <td>EDUCATION</td>\n",
       "      <td>образование</td>\n",
       "    </tr>\n",
       "    <tr>\n",
       "      <th>8</th>\n",
       "      <td>MARITAL_STATUS</td>\n",
       "      <td>семейное положение</td>\n",
       "    </tr>\n",
       "    <tr>\n",
       "      <th>9</th>\n",
       "      <td>GEN_INDUSTRY</td>\n",
       "      <td>отрасль работы клиента</td>\n",
       "    </tr>\n",
       "    <tr>\n",
       "      <th>10</th>\n",
       "      <td>GEN_TITLE</td>\n",
       "      <td>должность</td>\n",
       "    </tr>\n",
       "    <tr>\n",
       "      <th>11</th>\n",
       "      <td>ORG_TP_STATE</td>\n",
       "      <td>форма собственности компании</td>\n",
       "    </tr>\n",
       "    <tr>\n",
       "      <th>12</th>\n",
       "      <td>ORG_TP_FCAPITAL</td>\n",
       "      <td>отношение к иностранному капиталу</td>\n",
       "    </tr>\n",
       "    <tr>\n",
       "      <th>13</th>\n",
       "      <td>JOB_DIR</td>\n",
       "      <td>направление деятельности в нутри компании</td>\n",
       "    </tr>\n",
       "    <tr>\n",
       "      <th>14</th>\n",
       "      <td>FAMILY_INCOME</td>\n",
       "      <td>семейный доход (несколько категорий)</td>\n",
       "    </tr>\n",
       "    <tr>\n",
       "      <th>15</th>\n",
       "      <td>PERSONAL_INCOME</td>\n",
       "      <td>личный доход клиента (в рублях)</td>\n",
       "    </tr>\n",
       "    <tr>\n",
       "      <th>16</th>\n",
       "      <td>REG_ADDRESS_PROVINCE</td>\n",
       "      <td>область регистрации клиента</td>\n",
       "    </tr>\n",
       "    <tr>\n",
       "      <th>17</th>\n",
       "      <td>FACT_ADDRESS_PROVINCE</td>\n",
       "      <td>область фактического пребывания клиента</td>\n",
       "    </tr>\n",
       "    <tr>\n",
       "      <th>18</th>\n",
       "      <td>POSTAL_ADDRESS_PROVINCE</td>\n",
       "      <td>почтовый адрес область</td>\n",
       "    </tr>\n",
       "    <tr>\n",
       "      <th>19</th>\n",
       "      <td>TP_PROVINCE</td>\n",
       "      <td>область торговой точки, где клиент брал послед...</td>\n",
       "    </tr>\n",
       "    <tr>\n",
       "      <th>20</th>\n",
       "      <td>REGION_NM</td>\n",
       "      <td>регион РФ</td>\n",
       "    </tr>\n",
       "    <tr>\n",
       "      <th>21</th>\n",
       "      <td>REG_FACT_FL</td>\n",
       "      <td>адрес регистрации и адрес фактического пребыва...</td>\n",
       "    </tr>\n",
       "    <tr>\n",
       "      <th>22</th>\n",
       "      <td>FACT_POST_FL</td>\n",
       "      <td>адрес фактического пребывания клиента и его по...</td>\n",
       "    </tr>\n",
       "    <tr>\n",
       "      <th>23</th>\n",
       "      <td>REG_POST_FL</td>\n",
       "      <td>адрес регистрации клиента и его почтовый адрес...</td>\n",
       "    </tr>\n",
       "    <tr>\n",
       "      <th>24</th>\n",
       "      <td>REG_FACT_POST_FL</td>\n",
       "      <td>почтовый, фактический и адрес регистрации совп...</td>\n",
       "    </tr>\n",
       "    <tr>\n",
       "      <th>25</th>\n",
       "      <td>REG_FACT_POST_TP_FL</td>\n",
       "      <td>область регистрации, фактического пребывания, ...</td>\n",
       "    </tr>\n",
       "    <tr>\n",
       "      <th>26</th>\n",
       "      <td>FL_PRESENCE_FL</td>\n",
       "      <td>наличие в собственности квартиры (1 - есть, 0 ...</td>\n",
       "    </tr>\n",
       "    <tr>\n",
       "      <th>27</th>\n",
       "      <td>OWN_AUTO</td>\n",
       "      <td>кол-во автомобилей в собственности</td>\n",
       "    </tr>\n",
       "    <tr>\n",
       "      <th>28</th>\n",
       "      <td>AUTO_RUS_FL</td>\n",
       "      <td>наличие в собственности автомобиля российского...</td>\n",
       "    </tr>\n",
       "    <tr>\n",
       "      <th>29</th>\n",
       "      <td>HS_PRESENCE_FL</td>\n",
       "      <td>наличие в собственности загородного дома (1 - ...</td>\n",
       "    </tr>\n",
       "    <tr>\n",
       "      <th>30</th>\n",
       "      <td>COT_PRESENCE_FL</td>\n",
       "      <td>наличие в собственности котеджа (1 - есть, 0 -...</td>\n",
       "    </tr>\n",
       "    <tr>\n",
       "      <th>31</th>\n",
       "      <td>GAR_PRESENCE_FL</td>\n",
       "      <td>наличие в собственности гаража (1 - есть, 0 - ...</td>\n",
       "    </tr>\n",
       "    <tr>\n",
       "      <th>32</th>\n",
       "      <td>LAND_PRESENCE_FL</td>\n",
       "      <td>наличие в собственности земельного участка (1 ...</td>\n",
       "    </tr>\n",
       "    <tr>\n",
       "      <th>33</th>\n",
       "      <td>CREDIT</td>\n",
       "      <td>сумма последнего кредита клиента (в рублях)</td>\n",
       "    </tr>\n",
       "    <tr>\n",
       "      <th>34</th>\n",
       "      <td>TERM</td>\n",
       "      <td>срок кредита</td>\n",
       "    </tr>\n",
       "    <tr>\n",
       "      <th>35</th>\n",
       "      <td>FST_PAYMENT</td>\n",
       "      <td>первоначальный взнос (в рублях)</td>\n",
       "    </tr>\n",
       "    <tr>\n",
       "      <th>36</th>\n",
       "      <td>DL_DOCUMENT_FL</td>\n",
       "      <td>в анкете клиент указал водительское удостовере...</td>\n",
       "    </tr>\n",
       "    <tr>\n",
       "      <th>37</th>\n",
       "      <td>GPF_DOCUMENT_FL</td>\n",
       "      <td>в анкете клиен указал ГПФ (1 - указал, 0 - не ...</td>\n",
       "    </tr>\n",
       "    <tr>\n",
       "      <th>38</th>\n",
       "      <td>FACT_LIVING_TERM</td>\n",
       "      <td>количество месяцев проживания по месту фактиче...</td>\n",
       "    </tr>\n",
       "    <tr>\n",
       "      <th>39</th>\n",
       "      <td>WORK_TIME</td>\n",
       "      <td>время работы на текущем месте (в месяцах)</td>\n",
       "    </tr>\n",
       "    <tr>\n",
       "      <th>40</th>\n",
       "      <td>FACT_PHONE_FL</td>\n",
       "      <td>наличие в заявке телефона по фактическому мест...</td>\n",
       "    </tr>\n",
       "    <tr>\n",
       "      <th>41</th>\n",
       "      <td>REG_PHONE_FL</td>\n",
       "      <td>наличие в заявке телефона по месту регистрации</td>\n",
       "    </tr>\n",
       "    <tr>\n",
       "      <th>42</th>\n",
       "      <td>GEN_PHONE_FL</td>\n",
       "      <td>наличие в заявке рабочего телефона</td>\n",
       "    </tr>\n",
       "    <tr>\n",
       "      <th>43</th>\n",
       "      <td>LOAN_NUM_TOTAL</td>\n",
       "      <td>количество ссуд клиента</td>\n",
       "    </tr>\n",
       "    <tr>\n",
       "      <th>44</th>\n",
       "      <td>LOAN_NUM_CLOSED</td>\n",
       "      <td>количество погашенных ссуд клиента</td>\n",
       "    </tr>\n",
       "    <tr>\n",
       "      <th>45</th>\n",
       "      <td>LOAN_NUM_PAYM</td>\n",
       "      <td>количество платежей, которые сделал клиент</td>\n",
       "    </tr>\n",
       "    <tr>\n",
       "      <th>46</th>\n",
       "      <td>LOAN_DLQ_NUM</td>\n",
       "      <td>количество просрочек, допущенных клиентом</td>\n",
       "    </tr>\n",
       "    <tr>\n",
       "      <th>47</th>\n",
       "      <td>LOAN_MAX_DLQ</td>\n",
       "      <td>номер максимальной просрочки, допущенной клиентом</td>\n",
       "    </tr>\n",
       "    <tr>\n",
       "      <th>48</th>\n",
       "      <td>LOAN_AVG_DLQ_AMT</td>\n",
       "      <td>средняя сумма просрочки (в рублях)</td>\n",
       "    </tr>\n",
       "    <tr>\n",
       "      <th>49</th>\n",
       "      <td>LOAN_MAX_DLQ_AMT</td>\n",
       "      <td>максимальная сумма просрочки (в рублях)</td>\n",
       "    </tr>\n",
       "    <tr>\n",
       "      <th>50</th>\n",
       "      <td>PREVIOUS_CARD_NUM_UTILIZED</td>\n",
       "      <td>количество уже утилизированных карт ( если пус...</td>\n",
       "    </tr>\n",
       "  </tbody>\n",
       "</table>\n",
       "</div>"
      ],
      "text/plain": [
       "                          ПОЛЕ  \\\n",
       "0                 AGREEMENT_RK   \n",
       "1                          AGE   \n",
       "2            SOCSTATUS_WORK_FL   \n",
       "3            SOCSTATUS_PENS_FL   \n",
       "4                       GENDER   \n",
       "5                  CHILD_TOTAL   \n",
       "6                   DEPENDANTS   \n",
       "7                    EDUCATION   \n",
       "8               MARITAL_STATUS   \n",
       "9                 GEN_INDUSTRY   \n",
       "10                   GEN_TITLE   \n",
       "11                ORG_TP_STATE   \n",
       "12             ORG_TP_FCAPITAL   \n",
       "13                     JOB_DIR   \n",
       "14               FAMILY_INCOME   \n",
       "15             PERSONAL_INCOME   \n",
       "16        REG_ADDRESS_PROVINCE   \n",
       "17       FACT_ADDRESS_PROVINCE   \n",
       "18     POSTAL_ADDRESS_PROVINCE   \n",
       "19                 TP_PROVINCE   \n",
       "20                   REGION_NM   \n",
       "21                 REG_FACT_FL   \n",
       "22                FACT_POST_FL   \n",
       "23                 REG_POST_FL   \n",
       "24            REG_FACT_POST_FL   \n",
       "25         REG_FACT_POST_TP_FL   \n",
       "26              FL_PRESENCE_FL   \n",
       "27                    OWN_AUTO   \n",
       "28                 AUTO_RUS_FL   \n",
       "29              HS_PRESENCE_FL   \n",
       "30             COT_PRESENCE_FL   \n",
       "31             GAR_PRESENCE_FL   \n",
       "32            LAND_PRESENCE_FL   \n",
       "33                      CREDIT   \n",
       "34                        TERM   \n",
       "35                 FST_PAYMENT   \n",
       "36              DL_DOCUMENT_FL   \n",
       "37             GPF_DOCUMENT_FL   \n",
       "38            FACT_LIVING_TERM   \n",
       "39                   WORK_TIME   \n",
       "40               FACT_PHONE_FL   \n",
       "41                REG_PHONE_FL   \n",
       "42                GEN_PHONE_FL   \n",
       "43              LOAN_NUM_TOTAL   \n",
       "44             LOAN_NUM_CLOSED   \n",
       "45               LOAN_NUM_PAYM   \n",
       "46                LOAN_DLQ_NUM   \n",
       "47                LOAN_MAX_DLQ   \n",
       "48            LOAN_AVG_DLQ_AMT   \n",
       "49            LOAN_MAX_DLQ_AMT   \n",
       "50  PREVIOUS_CARD_NUM_UTILIZED   \n",
       "\n",
       "                                             ОПИСАНИЕ  \n",
       "0          уникальный идентификатор объекта в выборке  \n",
       "1                                     возраст клиента  \n",
       "2   социальный статус клиента относительно работы ...  \n",
       "3   социальный статус клиента относительно пенсии ...  \n",
       "4                 пол клиента (1- женщины, 0-мужчины)  \n",
       "5                            количество детей клиента  \n",
       "6                       количество иждивенцев клиента  \n",
       "7                                         образование  \n",
       "8                                  семейное положение  \n",
       "9                              отрасль работы клиента  \n",
       "10                                          должность  \n",
       "11                       форма собственности компании  \n",
       "12                  отношение к иностранному капиталу  \n",
       "13          направление деятельности в нутри компании  \n",
       "14               семейный доход (несколько категорий)  \n",
       "15                    личный доход клиента (в рублях)  \n",
       "16                        область регистрации клиента  \n",
       "17            область фактического пребывания клиента  \n",
       "18                             почтовый адрес область  \n",
       "19  область торговой точки, где клиент брал послед...  \n",
       "20                                          регион РФ  \n",
       "21  адрес регистрации и адрес фактического пребыва...  \n",
       "22  адрес фактического пребывания клиента и его по...  \n",
       "23  адрес регистрации клиента и его почтовый адрес...  \n",
       "24  почтовый, фактический и адрес регистрации совп...  \n",
       "25  область регистрации, фактического пребывания, ...  \n",
       "26  наличие в собственности квартиры (1 - есть, 0 ...  \n",
       "27                кол-во автомобилей в собственности   \n",
       "28  наличие в собственности автомобиля российского...  \n",
       "29  наличие в собственности загородного дома (1 - ...  \n",
       "30  наличие в собственности котеджа (1 - есть, 0 -...  \n",
       "31  наличие в собственности гаража (1 - есть, 0 - ...  \n",
       "32  наличие в собственности земельного участка (1 ...  \n",
       "33        сумма последнего кредита клиента (в рублях)  \n",
       "34                                       срок кредита  \n",
       "35                    первоначальный взнос (в рублях)  \n",
       "36  в анкете клиент указал водительское удостовере...  \n",
       "37  в анкете клиен указал ГПФ (1 - указал, 0 - не ...  \n",
       "38  количество месяцев проживания по месту фактиче...  \n",
       "39          время работы на текущем месте (в месяцах)  \n",
       "40  наличие в заявке телефона по фактическому мест...  \n",
       "41     наличие в заявке телефона по месту регистрации  \n",
       "42                 наличие в заявке рабочего телефона  \n",
       "43                            количество ссуд клиента  \n",
       "44                 количество погашенных ссуд клиента  \n",
       "45         количество платежей, которые сделал клиент  \n",
       "46          количество просрочек, допущенных клиентом  \n",
       "47  номер максимальной просрочки, допущенной клиентом  \n",
       "48                 средняя сумма просрочки (в рублях)  \n",
       "49            максимальная сумма просрочки (в рублях)  \n",
       "50  количество уже утилизированных карт ( если пус...  "
      ]
     },
     "execution_count": 3,
     "metadata": {},
     "output_type": "execute_result"
    }
   ],
   "source": [
    "df_descr"
   ]
  },
  {
   "cell_type": "markdown",
   "metadata": {},
   "source": [
    "Считаем обучающую выборки и тестовую (которую мы как бы не видим)"
   ]
  },
  {
   "cell_type": "code",
   "execution_count": 4,
   "metadata": {
    "collapsed": true
   },
   "outputs": [],
   "source": [
    "df_train = pd.read_csv('data/otp_train.csv', sep='\\t', encoding='utf8')"
   ]
  },
  {
   "cell_type": "code",
   "execution_count": 5,
   "metadata": {
    "collapsed": false
   },
   "outputs": [
    {
     "data": {
      "text/plain": [
       "(15223, 52)"
      ]
     },
     "execution_count": 5,
     "metadata": {},
     "output_type": "execute_result"
    }
   ],
   "source": [
    "df_train.shape"
   ]
  },
  {
   "cell_type": "code",
   "execution_count": 6,
   "metadata": {
    "collapsed": true
   },
   "outputs": [],
   "source": [
    "df_test = pd.read_csv('data/otp_test.csv', sep='\\t', encoding='utf8')"
   ]
  },
  {
   "cell_type": "code",
   "execution_count": 7,
   "metadata": {
    "collapsed": false
   },
   "outputs": [
    {
     "data": {
      "text/plain": [
       "(14910, 52)"
      ]
     },
     "execution_count": 7,
     "metadata": {},
     "output_type": "execute_result"
    }
   ],
   "source": [
    "df_test.shape"
   ]
  },
  {
   "cell_type": "code",
   "execution_count": 8,
   "metadata": {
    "collapsed": false
   },
   "outputs": [
    {
     "data": {
      "text/html": [
       "<div>\n",
       "<style scoped>\n",
       "    .dataframe tbody tr th:only-of-type {\n",
       "        vertical-align: middle;\n",
       "    }\n",
       "\n",
       "    .dataframe tbody tr th {\n",
       "        vertical-align: top;\n",
       "    }\n",
       "\n",
       "    .dataframe thead th {\n",
       "        text-align: right;\n",
       "    }\n",
       "</style>\n",
       "<table border=\"1\" class=\"dataframe\">\n",
       "  <thead>\n",
       "    <tr style=\"text-align: right;\">\n",
       "      <th></th>\n",
       "      <th>AGREEMENT_RK</th>\n",
       "      <th>TARGET</th>\n",
       "      <th>AGE</th>\n",
       "      <th>SOCSTATUS_WORK_FL</th>\n",
       "      <th>SOCSTATUS_PENS_FL</th>\n",
       "      <th>GENDER</th>\n",
       "      <th>CHILD_TOTAL</th>\n",
       "      <th>DEPENDANTS</th>\n",
       "      <th>EDUCATION</th>\n",
       "      <th>MARITAL_STATUS</th>\n",
       "      <th>...</th>\n",
       "      <th>REG_PHONE_FL</th>\n",
       "      <th>GEN_PHONE_FL</th>\n",
       "      <th>LOAN_NUM_TOTAL</th>\n",
       "      <th>LOAN_NUM_CLOSED</th>\n",
       "      <th>LOAN_NUM_PAYM</th>\n",
       "      <th>LOAN_DLQ_NUM</th>\n",
       "      <th>LOAN_MAX_DLQ</th>\n",
       "      <th>LOAN_AVG_DLQ_AMT</th>\n",
       "      <th>LOAN_MAX_DLQ_AMT</th>\n",
       "      <th>PREVIOUS_CARD_NUM_UTILIZED</th>\n",
       "    </tr>\n",
       "  </thead>\n",
       "  <tbody>\n",
       "    <tr>\n",
       "      <th>0</th>\n",
       "      <td>59910150</td>\n",
       "      <td>0</td>\n",
       "      <td>49</td>\n",
       "      <td>1</td>\n",
       "      <td>0</td>\n",
       "      <td>1</td>\n",
       "      <td>2</td>\n",
       "      <td>1</td>\n",
       "      <td>Среднее специальное</td>\n",
       "      <td>Состою в браке</td>\n",
       "      <td>...</td>\n",
       "      <td>0</td>\n",
       "      <td>1</td>\n",
       "      <td>1</td>\n",
       "      <td>1</td>\n",
       "      <td>6</td>\n",
       "      <td>2</td>\n",
       "      <td>1</td>\n",
       "      <td>1580</td>\n",
       "      <td>1580</td>\n",
       "      <td>NaN</td>\n",
       "    </tr>\n",
       "    <tr>\n",
       "      <th>1</th>\n",
       "      <td>59910230</td>\n",
       "      <td>0</td>\n",
       "      <td>32</td>\n",
       "      <td>1</td>\n",
       "      <td>0</td>\n",
       "      <td>1</td>\n",
       "      <td>3</td>\n",
       "      <td>3</td>\n",
       "      <td>Среднее</td>\n",
       "      <td>Состою в браке</td>\n",
       "      <td>...</td>\n",
       "      <td>0</td>\n",
       "      <td>1</td>\n",
       "      <td>1</td>\n",
       "      <td>1</td>\n",
       "      <td>6</td>\n",
       "      <td>1</td>\n",
       "      <td>1</td>\n",
       "      <td>4020</td>\n",
       "      <td>4020</td>\n",
       "      <td>NaN</td>\n",
       "    </tr>\n",
       "    <tr>\n",
       "      <th>2</th>\n",
       "      <td>59910525</td>\n",
       "      <td>0</td>\n",
       "      <td>52</td>\n",
       "      <td>1</td>\n",
       "      <td>0</td>\n",
       "      <td>1</td>\n",
       "      <td>4</td>\n",
       "      <td>0</td>\n",
       "      <td>Неполное среднее</td>\n",
       "      <td>Состою в браке</td>\n",
       "      <td>...</td>\n",
       "      <td>0</td>\n",
       "      <td>1</td>\n",
       "      <td>2</td>\n",
       "      <td>1</td>\n",
       "      <td>11</td>\n",
       "      <td>0</td>\n",
       "      <td>0</td>\n",
       "      <td>0</td>\n",
       "      <td>0</td>\n",
       "      <td>NaN</td>\n",
       "    </tr>\n",
       "    <tr>\n",
       "      <th>3</th>\n",
       "      <td>59910803</td>\n",
       "      <td>0</td>\n",
       "      <td>39</td>\n",
       "      <td>1</td>\n",
       "      <td>0</td>\n",
       "      <td>1</td>\n",
       "      <td>1</td>\n",
       "      <td>1</td>\n",
       "      <td>Высшее</td>\n",
       "      <td>Состою в браке</td>\n",
       "      <td>...</td>\n",
       "      <td>1</td>\n",
       "      <td>1</td>\n",
       "      <td>1</td>\n",
       "      <td>1</td>\n",
       "      <td>6</td>\n",
       "      <td>3</td>\n",
       "      <td>1</td>\n",
       "      <td>1589,92333333333</td>\n",
       "      <td>1590</td>\n",
       "      <td>NaN</td>\n",
       "    </tr>\n",
       "    <tr>\n",
       "      <th>4</th>\n",
       "      <td>59911781</td>\n",
       "      <td>0</td>\n",
       "      <td>30</td>\n",
       "      <td>1</td>\n",
       "      <td>0</td>\n",
       "      <td>0</td>\n",
       "      <td>0</td>\n",
       "      <td>0</td>\n",
       "      <td>Среднее</td>\n",
       "      <td>Состою в браке</td>\n",
       "      <td>...</td>\n",
       "      <td>0</td>\n",
       "      <td>1</td>\n",
       "      <td>2</td>\n",
       "      <td>1</td>\n",
       "      <td>16</td>\n",
       "      <td>2</td>\n",
       "      <td>1</td>\n",
       "      <td>1152,15</td>\n",
       "      <td>2230</td>\n",
       "      <td>NaN</td>\n",
       "    </tr>\n",
       "  </tbody>\n",
       "</table>\n",
       "<p>5 rows × 52 columns</p>\n",
       "</div>"
      ],
      "text/plain": [
       "   AGREEMENT_RK  TARGET  AGE  SOCSTATUS_WORK_FL  SOCSTATUS_PENS_FL  GENDER  \\\n",
       "0      59910150       0   49                  1                  0       1   \n",
       "1      59910230       0   32                  1                  0       1   \n",
       "2      59910525       0   52                  1                  0       1   \n",
       "3      59910803       0   39                  1                  0       1   \n",
       "4      59911781       0   30                  1                  0       0   \n",
       "\n",
       "   CHILD_TOTAL  DEPENDANTS            EDUCATION  MARITAL_STATUS  \\\n",
       "0            2           1  Среднее специальное  Состою в браке   \n",
       "1            3           3              Среднее  Состою в браке   \n",
       "2            4           0     Неполное среднее  Состою в браке   \n",
       "3            1           1               Высшее  Состою в браке   \n",
       "4            0           0              Среднее  Состою в браке   \n",
       "\n",
       "             ...             REG_PHONE_FL GEN_PHONE_FL LOAN_NUM_TOTAL  \\\n",
       "0            ...                        0            1              1   \n",
       "1            ...                        0            1              1   \n",
       "2            ...                        0            1              2   \n",
       "3            ...                        1            1              1   \n",
       "4            ...                        0            1              2   \n",
       "\n",
       "  LOAN_NUM_CLOSED LOAN_NUM_PAYM LOAN_DLQ_NUM LOAN_MAX_DLQ  LOAN_AVG_DLQ_AMT  \\\n",
       "0               1             6            2            1              1580   \n",
       "1               1             6            1            1              4020   \n",
       "2               1            11            0            0                 0   \n",
       "3               1             6            3            1  1589,92333333333   \n",
       "4               1            16            2            1           1152,15   \n",
       "\n",
       "  LOAN_MAX_DLQ_AMT PREVIOUS_CARD_NUM_UTILIZED  \n",
       "0             1580                        NaN  \n",
       "1             4020                        NaN  \n",
       "2                0                        NaN  \n",
       "3             1590                        NaN  \n",
       "4             2230                        NaN  \n",
       "\n",
       "[5 rows x 52 columns]"
      ]
     },
     "execution_count": 8,
     "metadata": {},
     "output_type": "execute_result"
    }
   ],
   "source": [
    "df_train.head()"
   ]
  },
  {
   "cell_type": "markdown",
   "metadata": {},
   "source": [
    "## Объединим две выборки\n",
    "\n",
    "Так как пока мы пока не умеем работать sklearn  Pipeline, то для того, чтобы после предобработки столбцы в двух выборках находились на своих местах.\n",
    "\n",
    "Для того, чтобы в дальнейшем отделить их введем новый столбец \"sample\""
   ]
  },
  {
   "cell_type": "code",
   "execution_count": 9,
   "metadata": {
    "collapsed": true
   },
   "outputs": [],
   "source": [
    "df_train.loc[:, 'sample'] = 'train'\n",
    "df_test.loc[:, 'sample'] = 'test'"
   ]
  },
  {
   "cell_type": "code",
   "execution_count": 10,
   "metadata": {
    "collapsed": true
   },
   "outputs": [],
   "source": [
    "df = df_test.append(df_train).reset_index(drop=True)"
   ]
  },
  {
   "cell_type": "code",
   "execution_count": 11,
   "metadata": {
    "collapsed": false
   },
   "outputs": [
    {
     "data": {
      "text/plain": [
       "(30133, 53)"
      ]
     },
     "execution_count": 11,
     "metadata": {},
     "output_type": "execute_result"
    }
   ],
   "source": [
    "df.shape"
   ]
  },
  {
   "cell_type": "markdown",
   "metadata": {},
   "source": [
    "### Чуть-чуть посмотрим на данные"
   ]
  },
  {
   "cell_type": "markdown",
   "metadata": {
    "collapsed": true
   },
   "source": [
    "Посмотрим типы данных и их заполняемость"
   ]
  },
  {
   "cell_type": "code",
   "execution_count": 12,
   "metadata": {
    "collapsed": false,
    "scrolled": false
   },
   "outputs": [
    {
     "name": "stdout",
     "output_type": "stream",
     "text": [
      "<class 'pandas.core.frame.DataFrame'>\n",
      "RangeIndex: 30133 entries, 0 to 30132\n",
      "Data columns (total 53 columns):\n",
      "AGREEMENT_RK                  30133 non-null int64\n",
      "TARGET                        30133 non-null int64\n",
      "AGE                           30133 non-null int64\n",
      "SOCSTATUS_WORK_FL             30133 non-null int64\n",
      "SOCSTATUS_PENS_FL             30133 non-null int64\n",
      "GENDER                        30133 non-null int64\n",
      "CHILD_TOTAL                   30133 non-null int64\n",
      "DEPENDANTS                    30133 non-null int64\n",
      "EDUCATION                     30133 non-null object\n",
      "MARITAL_STATUS                30133 non-null object\n",
      "GEN_INDUSTRY                  27420 non-null object\n",
      "GEN_TITLE                     27420 non-null object\n",
      "ORG_TP_STATE                  27420 non-null object\n",
      "ORG_TP_FCAPITAL               27425 non-null object\n",
      "JOB_DIR                       27420 non-null object\n",
      "FAMILY_INCOME                 30133 non-null object\n",
      "PERSONAL_INCOME               30133 non-null object\n",
      "REG_ADDRESS_PROVINCE          30133 non-null object\n",
      "FACT_ADDRESS_PROVINCE         30133 non-null object\n",
      "POSTAL_ADDRESS_PROVINCE       30133 non-null object\n",
      "TP_PROVINCE                   29543 non-null object\n",
      "REGION_NM                     30131 non-null object\n",
      "REG_FACT_FL                   30133 non-null int64\n",
      "FACT_POST_FL                  30133 non-null int64\n",
      "REG_POST_FL                   30133 non-null int64\n",
      "REG_FACT_POST_FL              30133 non-null int64\n",
      "REG_FACT_POST_TP_FL           30133 non-null int64\n",
      "FL_PRESENCE_FL                30133 non-null int64\n",
      "OWN_AUTO                      30133 non-null int64\n",
      "AUTO_RUS_FL                   30133 non-null int64\n",
      "HS_PRESENCE_FL                30133 non-null int64\n",
      "COT_PRESENCE_FL               30133 non-null int64\n",
      "GAR_PRESENCE_FL               30133 non-null int64\n",
      "LAND_PRESENCE_FL              30133 non-null int64\n",
      "CREDIT                        30133 non-null object\n",
      "TERM                          30133 non-null int64\n",
      "FST_PAYMENT                   30133 non-null object\n",
      "DL_DOCUMENT_FL                30133 non-null int64\n",
      "GPF_DOCUMENT_FL               30133 non-null int64\n",
      "FACT_LIVING_TERM              30133 non-null int64\n",
      "WORK_TIME                     27416 non-null float64\n",
      "FACT_PHONE_FL                 30133 non-null int64\n",
      "REG_PHONE_FL                  30133 non-null int64\n",
      "GEN_PHONE_FL                  30133 non-null int64\n",
      "LOAN_NUM_TOTAL                30133 non-null int64\n",
      "LOAN_NUM_CLOSED               30133 non-null int64\n",
      "LOAN_NUM_PAYM                 30133 non-null int64\n",
      "LOAN_DLQ_NUM                  30133 non-null int64\n",
      "LOAN_MAX_DLQ                  30133 non-null int64\n",
      "LOAN_AVG_DLQ_AMT              30133 non-null object\n",
      "LOAN_MAX_DLQ_AMT              30133 non-null object\n",
      "PREVIOUS_CARD_NUM_UTILIZED    600 non-null float64\n",
      "sample                        30133 non-null object\n",
      "dtypes: float64(2), int64(32), object(19)\n",
      "memory usage: 12.2+ MB\n"
     ]
    }
   ],
   "source": [
    "df.info()"
   ]
  },
  {
   "cell_type": "markdown",
   "metadata": {
    "collapsed": true
   },
   "source": [
    "Видим, что часть данных - object, скорее всего стоки.\n",
    "\n",
    "\n",
    "Давайте выведем эти значения для каждого столбца"
   ]
  },
  {
   "cell_type": "code",
   "execution_count": 13,
   "metadata": {
    "collapsed": false
   },
   "outputs": [
    {
     "name": "stdout",
     "output_type": "stream",
     "text": [
      "==========\n",
      "EDUCATION\n",
      "{'Ученая степень', 'Высшее', 'Среднее специальное', 'Неполное среднее', 'Два и более высших образования', 'Неоконченное высшее', 'Среднее'}\n",
      "\n",
      "\n",
      "==========\n",
      "MARITAL_STATUS\n",
      "{'Не состоял в браке', 'Разведен(а)', 'Гражданский брак', 'Состою в браке', 'Вдовец/Вдова'}\n",
      "\n",
      "\n",
      "==========\n",
      "GEN_INDUSTRY\n",
      "{nan, 'Нефтегазовая промышленность', 'Другие сферы', 'Маркетинг', 'Информационные услуги', 'ЧОП/Детективная д-ть', 'Сельское хозяйство', 'Коммунальное хоз-во/Дорожные службы', 'Торговля', 'Наука', 'Салоны красоты и здоровья', 'Страхование', 'Туризм', 'Здравоохранение', 'Образование', 'Энергетика', 'Химия/Парфюмерия/Фармацевтика', 'Транспорт', 'Металлургия/Промышленность/Машиностроение', 'Строительство', 'СМИ/Реклама/PR-агенства', 'Юридические услуги/нотариальные услуги', 'Логистика', 'Сборочные производства', 'Подбор персонала', 'Государственная служба', 'Управляющая компания', 'Ресторанный бизнес/Общественное питание', 'Развлечения/Искусство', 'Недвижимость', 'Банк/Финансы', 'Информационные технологии'}\n",
      "\n",
      "\n",
      "==========\n",
      "GEN_TITLE\n",
      "{nan, 'Руководитель высшего звена', 'Военнослужащий по контракту', 'Специалист', 'Партнер', 'Другое', 'Работник сферы услуг', 'Индивидуальный предприниматель', 'Руководитель низшего звена', 'Высококвалифиц. специалист', 'Рабочий', 'Руководитель среднего звена', 'Служащий'}\n",
      "\n",
      "\n",
      "==========\n",
      "ORG_TP_STATE\n",
      "{nan, 'Частная компания', 'Частная ком. с инос. капиталом', 'Индивидуальный предприниматель', 'Государственная комп./учреж.', 'Некоммерческая организация'}\n",
      "\n",
      "\n",
      "==========\n",
      "ORG_TP_FCAPITAL\n",
      "{nan, 'С участием', 'Без участия'}\n",
      "\n",
      "\n",
      "==========\n",
      "JOB_DIR\n",
      "{nan, 'Бухгалтерия, финансы, планир.', 'Участие в основ. деятельности', 'Реклама и маркетинг', 'Служба безопасности', 'Пр-техн. обесп. и телеком.', 'Адм-хоз. и трансп. службы', 'Кадровая служба и секретариат', 'Снабжение и сбыт', 'Юридическая служба', 'Вспомогательный техперсонал'}\n",
      "\n",
      "\n",
      "==========\n",
      "FAMILY_INCOME\n",
      "{'от 5000 до 10000 руб.', 'до 5000 руб.', 'от 20000 до 50000 руб.', 'свыше 50000 руб.', 'от 10000 до 20000 руб.'}\n",
      "\n",
      "\n",
      "==========\n",
      "PERSONAL_INCOME\n",
      "{'3900', '15200', '38000', '5790', '60000', '12900', '6700', '15000', '7300', '6100', '45000', '3100', '9340', '4950', '5200', '30000', '13500', '15400', '17000', '6180', '13300', '22500', '7250', '7600', '9700', '17700', '13150', '2300', '2000', '110000', '67700', '10500', '1950', '12400', '7640', '6608', '13000', '14300', '3300', '3800', '17600', '7200', '12800', '3200', '15300', '19600', '21000', '20500', '40000', '8500', '11900', '49000', '7050', '4600', '7850', '11800', '15380', '37000', '27300', '4000', '19000', '8600', '7900', '4330', '11700', '42000', '24800', '8000', '75000', '4200', '10900', '55000', '5400', '9500', '18500', '5425', '20000', '8900', '42500', '70000', '19500', '33000', '4515', '4100', '19700', '5360', '65000', '250000', '9000', '12500', '5446', '13200', '10100', '51000', '9300', '27000', '8300', '8726', '160000', '21800', '18200', '23000', '14500', '28300', '16500', '13600', '46000', '19300', '17404', '8200', '15560', '8100', '5700', '13900', '25000', '4500', '2100', '18600', '9400', '16200', '7000', '23500', '6400', '23100', '22000', '7101', '16100', '4800', '11600', '23800', '8700', '68000', '9600', '67000', '18700', '15500', '25800', '31000', '24000', '5339', '4590', '29000', '220000', '41900', '7550', '17500', '11500', '21500', '7650', '8350', '14800', '34000', '5600', '14700', '6500', '16700', '10700', '12300', '5800', '5100', '7500', '44000', '32640', '35000', '17200', '7830', '5088', '43000', '12700', '20646,16', '3500', '26500', '5000', '22955', '5582', '10000', '17800', '16000', '10600', '50000', '3400', '47000', '52000', '6600', '5500', '11000', '8400', '7800', '6800', '4700', '8250', '7400', '32000', '41000', '53000', '13800', '4900', '9628', '29800', '10200', '12600', '10300', '80000', '12000', '9800', '5050', '7251', '16050', '13450', '5350', '3700', '77000', '12650', '5680', '2800', '11400', '14358', '16900', '5900', '9900', '3600', '56000', '36000', '9330', '4360', '15600', '54000', '4340', '12100', '18000', '9240', '5230', '16800', '19800', '6359', '4400', '9100', '6000', '39000', '11640', '150000', '48000', '6300', '13700', '13400', '17900', '11200', '4300', '14000', '8800', '7700', '10400', '7220', '92000', '100000', '3000', '5300', '5460', '24500', '6299,19', '7100', '10800', '28000', '6900', '29500', '24', '13160', '8066', '170000', '9200', '11300', '6670', '6200', '26000'}\n",
      "\n",
      "\n",
      "==========\n",
      "REG_ADDRESS_PROVINCE\n",
      "{'Адыгея', 'Новгородская область', 'Курская область', 'Магаданская область', 'Татарстан', 'Владимирская область', 'Смоленская область', 'Самарская область', 'Архангельская область', 'Свердловская область', 'Омская область', 'Мурманская область', 'Брянская область', 'Бурятия', 'Горный Алтай', 'Псковская область', 'Пензенская область', 'Приморский край', 'Ставропольский край', 'Северная Осетия', 'Калужская область', 'Костромская область', 'Иркутская область', 'Хабаровский край', 'Саратовская область', 'Удмуртия', 'Тюменская область', 'Рязанская область', 'Ямало-Ненецкий АО', 'Ростовская область', 'Оренбургская область', 'Орловская область', 'Карачаево-Черкесия', 'Ивановская область', 'Калининградская область', 'Краснодарский край', 'Челябинская область', 'Астраханская область', 'Москва', 'Томская область', 'Красноярский край', 'Калмыкия', 'Тульская область', 'Ярославская область', 'Нижегородская область', 'Московская область', 'Кабардино-Балкария', 'Ленинградская область', 'Тверская область', 'Ханты-Мансийский АО', 'Дагестан', 'Эвенкийский АО', 'Читинская область', 'Усть-Ордынский Бурятский АО', 'Белгородская область', 'Вологодская область', 'Карелия', 'Кемеровская область', 'Мордовская республика', 'Амурская область', 'Новосибирская область', 'Кировская область', 'Чувашия', 'Санкт-Петербург', 'Марийская республика', 'Агинский Бурятский АО', 'Якутия', 'Ульяновская область', 'Волгоградская область', 'Пермская область', 'Воронежская область', 'Тамбовская область', 'Еврейская АО', 'Камчатская область', 'Курганская область', 'Сахалинская область', 'Хакасия', 'Липецкая область', 'Алтайский край', 'Коми', 'Башкирия'}\n",
      "\n",
      "\n",
      "==========\n",
      "FACT_ADDRESS_PROVINCE\n",
      "{'Адыгея', 'Новгородская область', 'Курская область', 'Магаданская область', 'Татарстан', 'Владимирская область', 'Смоленская область', 'Самарская область', 'Архангельская область', 'Свердловская область', 'Омская область', 'Мурманская область', 'Брянская область', 'Бурятия', 'Горный Алтай', 'Псковская область', 'Пензенская область', 'Приморский край', 'Ставропольский край', 'Северная Осетия', 'Калужская область', 'Костромская область', 'Иркутская область', 'Хабаровский край', 'Саратовская область', 'Удмуртия', 'Тюменская область', 'Рязанская область', 'Ямало-Ненецкий АО', 'Ростовская область', 'Оренбургская область', 'Орловская область', 'Карачаево-Черкесия', 'Ивановская область', 'Калининградская область', 'Краснодарский край', 'Челябинская область', 'Астраханская область', 'Москва', 'Томская область', 'Красноярский край', 'Калмыкия', 'Тульская область', 'Ярославская область', 'Московская область', 'Нижегородская область', 'Кабардино-Балкария', 'Ленинградская область', 'Тверская область', 'Ханты-Мансийский АО', 'Эвенкийский АО', 'Дагестан', 'Читинская область', 'Усть-Ордынский Бурятский АО', 'Белгородская область', 'Вологодская область', 'Карелия', 'Кемеровская область', 'Мордовская республика', 'Амурская область', 'Новосибирская область', 'Кировская область', 'Чувашия', 'Санкт-Петербург', 'Марийская республика', 'Агинский Бурятский АО', 'Якутия', 'Ульяновская область', 'Волгоградская область', 'Пермская область', 'Воронежская область', 'Тамбовская область', 'Еврейская АО', 'Камчатская область', 'Курганская область', 'Сахалинская область', 'Хакасия', 'Липецкая область', 'Алтайский край', 'Коми', 'Башкирия'}\n",
      "\n",
      "\n",
      "==========\n",
      "POSTAL_ADDRESS_PROVINCE\n",
      "{'Адыгея', 'Новгородская область', 'Курская область', 'Магаданская область', 'Татарстан', 'Владимирская область', 'Смоленская область', 'Самарская область', 'Архангельская область', 'Свердловская область', 'Омская область', 'Мурманская область', 'Брянская область', 'Бурятия', 'Горный Алтай', 'Псковская область', 'Пензенская область', 'Приморский край', 'Ставропольский край', 'Северная Осетия', 'Калужская область', 'Костромская область', 'Иркутская область', 'Хабаровский край', 'Саратовская область', 'Удмуртия', 'Тюменская область', 'Рязанская область', 'Ямало-Ненецкий АО', 'Ростовская область', 'Оренбургская область', 'Орловская область', 'Карачаево-Черкесия', 'Ивановская область', 'Калининградская область', 'Краснодарский край', 'Челябинская область', 'Астраханская область', 'Москва', 'Томская область', 'Красноярский край', 'Калмыкия', 'Тульская область', 'Ярославская область', 'Московская область', 'Нижегородская область', 'Кабардино-Балкария', 'Ленинградская область', 'Тверская область', 'Ханты-Мансийский АО', 'Эвенкийский АО', 'Читинская область', 'Усть-Ордынский Бурятский АО', 'Белгородская область', 'Вологодская область', 'Карелия', 'Кемеровская область', 'Мордовская республика', 'Амурская область', 'Новосибирская область', 'Кировская область', 'Чувашия', 'Санкт-Петербург', 'Марийская республика', 'Агинский Бурятский АО', 'Якутия', 'Ульяновская область', 'Волгоградская область', 'Пермская область', 'Воронежская область', 'Тамбовская область', 'Еврейская АО', 'Камчатская область', 'Курганская область', 'Сахалинская область', 'Хакасия', 'Липецкая область', 'Алтайский край', 'Коми', 'Башкирия'}\n",
      "\n",
      "\n",
      "==========\n",
      "TP_PROVINCE\n",
      "{nan, 'Адыгея', 'Новгородская область', 'Курская область', 'Магаданская область', 'Татарстан', 'Владимирская область', 'Смоленская область', 'Самарская область', 'Архангельская область', 'Свердловская область', 'Омская область', 'Мурманская область', 'Брянская область', 'Бурятия', 'Горный Алтай', 'Псковская область', 'Пензенская область', 'Приморский край', 'Ставропольский край', 'Калужская область', 'Костромская область', 'Иркутская область', 'Хабаровский край', 'Саратовская область', 'Удмуртия', 'Тюменская область', 'Рязанская область', 'Ростовская область', 'Оренбургская область', 'Орловская область', 'Ивановская область', 'Калининградская область', 'Краснодарский край', 'Челябинская область', 'Астраханская область', 'Москва', 'Томская область', 'Красноярский край', 'Тульская область', 'Ярославская область', 'Нижегородская область', 'Кабардино-Балкария', 'Тверская область', 'Ханты-Мансийский АО', 'Читинская область', 'Белгородская область', 'Вологодская область', 'Карелия', 'Кемеровская область', 'Мордовская республика', 'Амурская область', 'Новосибирская область', 'Кировская область', 'Чувашия', 'Санкт-Петербург', 'Марийская республика', 'Якутия', 'Ульяновская область', 'Волгоградская область', 'Пермская область', 'Воронежская область', 'Тамбовская область', 'Еврейская АО', 'Камчатская область', 'Курганская область', 'Сахалинская область', 'Липецкая область', 'Алтайский край', 'Коми', 'Башкирия'}\n",
      "\n",
      "\n",
      "==========\n",
      "REGION_NM\n",
      "{nan, 'ПОВОЛЖСКИЙ', 'УРАЛЬСКИЙ', 'ДАЛЬНЕВОСТОЧНЫЙ', 'ЗАПАДНО-СИБИРСКИЙ', 'СЕВЕРО-ЗАПАДНЫЙ', 'ЦЕНТРАЛЬНЫЙ 1', 'ЦЕНТРАЛЬНЫЙ ОФИС', 'ВОСТОЧНО-СИБИРСКИЙ', 'ЦЕНТРАЛЬНЫЙ 2', 'ПРИВОЛЖСКИЙ', 'ЮЖНЫЙ'}\n",
      "\n",
      "\n",
      "==========\n",
      "CREDIT\n",
      "{'16647', '19143', '8117', '10539', '14866', '13750', '3801', '19145', '30000', '63271', '18329', '17347', '7250', '11298', '10448', '19540', '17980', '14670', '15468', '4260', '15110', '18497', '74482', '5085', '20060', '8235', '21220', '9515', '4175', '23390,91', '6958,92', '28210', '10990,91', '9140', '13229', '22167,6', '12148', '27800', '6653', '23595', '10953', '7439', '14383', '14629', '15856', '7137', '5931', '19051', '60500', '32114', '7452,4', '10972', '2514', '4580,92', '15619', '12570', '9940', '17962', '10430', '16362', '5011', '23025', '6999', '13998', '19736', '10820', '34500', '20800', '6979', '26022', '7495', '49743', '33700', '7228,2', '12029', '15822', '39110', '15164', '13496', '17704', '8400', '15725', '9837', '27062', '7098', '18204', '7991', '4679', '19772', '20960', '37495,2', '6835', '7710', '7541', '3385', '9241', '32391', '17648', '11335', '8056', '77860', '22428', '10456', '10852', '4579', '5482', '10978', '5499', '18217', '3924', '4949', '15247', '23516,84', '23020', '3530', '21124', '19045', '12060', '25440', '3031', '19983', '36136', '27149', '16776', '24131', '3784', '5239', '40050', '7492', '19850', '15904', '7679', '6960', '25881', '18590', '8055', '35060', '38070', '14260', '6419,78', '20500', '25290', '5625', '4908', '19746', '11685', '2310', '4021', '14189', '4276', '16704', '4041', '73230', '10900', '42928', '41936', '21658', '19400', '11489,91', '6543', '19500', '14065', '12490,9', '12849', '18370', '14724', '3405', '5898', '3943', '5590', '26080', '11399', '25137', '26060', '50330', '12340', '18600', '25587', '6744', '18603', '6726,1', '12170', '21726', '21214', '9263', '6867', '4392', '46800', '18400', '2629,8', '9720', '24840', '13734', '27347', '4021,92', '20710', '7763', '14875', '27990', '7166', '6966', '12755', '9768', '18825', '14796', '5636', '13888', '6600', '18553', '13018,1', '12799', '5720', '78800', '18350', '7599', '31875,3', '32200', '7370', '14148', '15496', '24027', '41451', '3749', '7590,31', '3516', '2366', '2889', '15552', '7797,6', '13409', '4428,1', '22082', '27759', '30150', '3407', '3647', '15756', '7272', '12330', '6380', '4300', '5857', '8361', '21382', '11330', '4838', '9448', '22100', '6941', '17366', '31502', '25538', '17561,8', '26524', '27270', '3348', '7895', '69188', '19542', '6035', '15615', '3515', '4401', '5829', '14725', '7997', '11148', '8160', '5827', '21780', '2676', '7799', '42930', '62000', '31800', '18398', '8780', '81423', '17649', '15870', '22299', '16890', '10279', '16547,3', '3028', '15435', '24970', '3377', '32449', '16189,4', '5377', '19883', '6918,34', '12708', '18840', '12495', '6075', '11115', '12784', '3237', '3250', '4673', '20263', '16598', '8389,91', '22000', '12890,92', '19080', '15859', '23820', '31000', '8698,1', '8470', '3420', '11376', '12191', '8180', '11395', '9215', '7417,5', '18900', '26120', '12610', '12700', '2500', '10431', '6330', '14013', '5936', '9019', '9301', '27796', '27448', '9248', '10052', '17990', '2430', '16613', '6109', '19750', '3296', '16298', '4248', '28308', '20768', '19210', '49653', '9651', '7310', '29760', '36900', '23990,83', '72000', '20856', '19230', '3984', '19021', '9268', '7847', '24647', '8556', '3448,8', '17811', '4242', '11150', '14744', '4241', '17593', '8912', '24260', '16859', '26580', '35035,2', '74690', '9095', '2873', '15347', '8997', '4018', '29980', '13920', '18269', '7360', '5340', '26051', '3199,2', '8420', '28050', '4743', '7891', '9199', '23251', '6397', '30313', '29006', '10457', '6799', '7637,63', '30011', '3663', '3350', '5930', '26820', '14950', '4788', '16662', '8076', '80440', '30820', '12651', '6856', '22962', '8099', '22050', '10490', '10250', '13600', '22495', '35992', '2781', '6240', '24236', '12424', '29694', '8244', '5120', '21845', '20590', '8730', '28288', '28221', '9180', '10348', '27449', '22075', '16616', '11460', '6189,3', '6142', '25340', '56964,6', '10575', '20129', '20648', '42746', '21685', '19037,2', '21624', '4182', '2633', '14860', '7740', '4454', '25896', '30596', '11081,52', '15600', '3616', '19280', '19590', '13671', '20400', '26055', '69000', '9749', '17325', '12810,94', '65629,5', '28186', '8432', '26547,1', '43732,8', '12780', '3651', '16949', '4998', '15950', '35550', '34650', '16140', '21009', '12160', '7100', '2259,9', '50950', '8564', '9759,4', '9484', '11317', '9045', '7259', '17215', '23104', '25300', '4491', '9053', '13380,56', '27670', '11259', '10840', '14620', '15127,4', '16169', '12639', '87673', '35097,66', '20040', '13000', '9846', '10021', '8811', '15840', '24680', '3951', '10150', '15838', '3310', '5169', '9365', '15482', '14257,91', '14872', '10394', '3590', '21910', '15653', '19417', '18198', '10174', '19929', '13200', '14760', '12159', '33120', '20620', '13563', '10286', '15327', '29707', '16257', '8405', '6749', '3553', '28600', '11295', '98030', '11911', '7849', '22522', '3792,92', '6445', '11833', '11571', '8725', '26355', '25167', '20338', '18630', '3060', '5427', '12138', '9679', '14960', '10114', '16680', '4535', '40180', '16736', '17531', '18380', '3080', '47691', '19250', '5540', '3385,83', '15481', '31070', '5088', '7201', '14096', '25999', '22488', '30430', '13975', '14820', '23750', '11620', '6168', '7890', '4492', '16392', '5542', '12425', '3779', '3497', '27860', '5995,46', '9040', '32750', '8536', '17006', '13016', '14611', '5639', '3490,92', '9100', '21246', '39000', '60080', '8204', '35598', '20690', '3063', '14560', '22799', '92000', '25390,94', '14480', '12606', '5516', '9153', '7741', '2600', '2270', '14994', '41990', '8581', '21597', '34479', '19665', '8303', '11999', '6380,91', '5304', '6639', '13300', '3537', '10373', '8697', '34396', '18643', '15914', '4674', '12499', '14660', '13476', '5231', '33358,84', '8070', '3006', '40480', '7416', '6454,8', '17720', '13699', '4328,1', '15523', '6036', '21802', '3825', '6828', '5045', '11700', '6665', '23990', '15960', '29475', '6365', '11270', '28055', '10987', '8699', '29094', '15844', '12972', '13990', '14989', '27428', '88000', '26232', '10508', '24475', '6999,9', '28820', '34999', '17020', '25225', '21015', '10350', '29599', '13748', '13221', '24495', '5456', '16988', '60300', '23040', '17988', '16052', '4765', '16285', '16990', '26276', '14800', '9412', '9804', '5294', '17688', '29070', '7017', '10700', '18550', '5100', '11098,8', '22640', '27744', '9880', '8041', '3321', '5019', '11055', '18782,2', '89640', '12443', '15518', '17398,2', '31317', '19797,1', '8620', '4980', '5225', '45750', '16893', '29877,3', '13698', '6452', '3413', '4212', '7965', '9250', '23792', '10479', '29789,91', '9341,5', '8419', '12080', '23854', '25145,79', '40037', '6513', '24949,09', '14387', '16576,2', '8530', '9858', '39980', '7336,3', '10555', '35500', '19316', '4984', '13179', '12478', '9308', '14215', '13591', '3048', '9733', '26960', '19440', '5179', '14880', '46600', '10837', '13110', '14646', '3800', '3200', '11212,06', '11586', '44440', '17610', '27369', '3752,9', '8850', '11230', '12908', '12822', '4380', '23320', '2620', '79380', '8777,1', '30300', '21238', '11753', '8900', '17810,82', '10855', '65000', '17339', '10100', '4767', '3001', '23584', '25990', '19650', '15975', '16720', '10990,92', '18180', '5508', '4869,66', '12057', '16381', '13790', '23459', '19977', '21490', '2559', '17460', '10352', '16733', '5300,9', '27096', '13491', '30428', '63700', '30826', '5242,3', '47309', '20343', '11798', '4845', '11269', '19129', '17254', '24300', '17528', '3311', '32580', '13462', '22040', '2690', '21700', '19358', '11723,2', '18972', '5297', '14006', '12599', '6021', '46385', '18472', '5818,5', '29615', '31806', '5900', '7735', '53400', '2910', '21989', '10910,6', '37456', '12024', '18648', '3910', '12560,01', '15319', '19235', '34695', '54738', '21450', '22904', '16501', '13918', '6809', '23945', '15895', '7035', '3498', '44879', '14994,6', '69282', '13847', '6373', '16199,2', '18660', '26100', '7448', '6507', '6959', '10478', '7115', '24132', '21105', '6190,92', '13148', '5232', '17609', '12209,5', '5436', '9212', '17712', '51140', '10712', '11877', '8396', '6935', '6910', '6186,7', '18240,91', '15440', '16991', '13695', '97000', '7454', '31300', '3840', '14494', '11995', '11151', '60888', '5426', '9999', '12737', '4200', '17765', '8694', '16840', '17263', '15246', '10590', '12405', '3110', '26174', '5888', '13191', '3238', '27020', '3640', '14487', '9879', '9534', '6703', '2680', '4775', '14201', '3391', '30520', '3996,9', '24000', '24760', '3743', '8445', '27208', '28850', '23971', '8998', '96000', '20826', '9416', '12520', '21536', '4576,5', '24933', '12070', '28400', '17198', '8625', '17200', '13848', '10580', '35990', '17360', '20670', '17556', '21590', '15121', '9754', '11954', '19200', '7152', '26875', '6978', '29012', '4117,5', '32576,5', '9898', '11619,84', '37857,2', '7917', '11789', '7770', '6338', '5105,7', '4641', '18592', '4607', '6995', '74700', '16449', '7580', '4095', '4110', '2699', '13410', '8490,92', '23478', '26479', '30361', '8543', '10735', '9870', '20882', '25211', '34190', '43353', '37000', '6424', '33800', '3140', '12470', '42940', '19289', '14770', '25360', '70360', '45034', '10904', '13720', '15750,91', '4005', '7144', '10935', '5170', '4878', '5555', '12044', '20601', '7063', '20850', '7677', '17550', '4082', '11495', '7556', '12412', '8984', '49750', '42669', '32444', '32975,3', '3980', '4760', '31900', '21042', '9927', '8858,8', '8840', '21850,94', '32100', '6893', '29052', '18426', '29858', '16500', '20691', '7769', '12690', '24552', '7815', '13205', '9799', '10116', '8499', '4575', '23109', '11724', '23980', '5847', '21209', '8570', '19770', '71243', '5531,8', '4720', '75535,08', '5131', '3500', '56130', '4202', '37069', '91168', '13930', '2569', '18004', '11880', '25263', '6345', '11466', '11430', '14527', '7619', '4994', '40110', '30673', '8102,08', '5230', '5968', '13489', '32938', '4400', '14460', '9990', '7235', '6520', '7690', '7471', '11192', '6269', '5020', '6998', '21328', '19580', '11135', '2119', '10995', '5140', '4570', '23094', '7713,42', '15696', '16989,92', '6297', '17422', '4026,55', '22263', '29430', '7870', '7040,92', '2440', '4430', '6170', '23850', '28310', '13688', '9700', '19254', '26461,91', '14890', '7478', '12474', '11935', '18330', '22233', '9610', '41730', '3130', '13492', '15690', '7488', '5759', '20640', '18171', '10151', '7509', '27500', '2855', '2322', '5400', '18498', '31882', '22616', '16908', '6088', '12498', '9351', '6181', '7589', '39020', '31672', '18280', '19100', '19615', '22490', '5364', '3289', '24479', '4885', '8373', '16070', '6146', '40534', '16065', '35770', '6780,95', '9230', '22097', '3701', '6116', '2333', '19106', '5694', '4915', '13170', '18050', '5051', '17476', '11093', '16358', '6237,03', '8195', '45438', '8648,5', '2831,97', '25140', '21860', '13669', '19295', '10061', '3816', '2570', '25180', '4168,8', '2595', '6800', '23037', '15460', '8295', '15863', '2095', '35955', '9931', '19570', '13259', '4963', '24580', '6182', '14999', '24275', '35142', '61920', '13275', '88555', '8050', '3490', '6415', '4399', '24830', '12940', '19734', '4274', '2880', '14688', '41620', '29830', '17076,2', '33570', '4488', '12239', '46921', '10785', '18913', '37818', '8767', '31991', '2890', '3152', '10998', '5260', '26989', '18810', '84000', '24833', '20132', '20009', '11786,85', '79200', '17546', '19170', '6782', '5221', '12628,91', '9648', '5780', '27750', '8442', '13829', '3604', '28500', '9729', '16460', '23095', '8398,1', '10714', '26658,9', '20069,33', '5504', '25299', '29001', '17815', '27895', '11689', '9072', '5345', '4239', '25298', '8071', '18100', '58500', '21724', '3668', '14528', '39865', '14089', '7766', '22880', '23795', '14949', '13469', '20326', '9367', '17080', '3128,2', '30340', '5665', '19998', '14700', '14337', '16701', '13747', '35201', '18121', '20753', '10330', '5860', '54105', '21620', '8880', '28999', '6672', '4475', '13288', '4900', '70047', '16399', '14190', '26090', '20433', '77000', '26999', '3255', '5369', '17763', '4360', '34466,4', '5620', '12132', '14398', '5015', '4807', '16785', '7982', '13020', '3745', '8399', '5240', '4365', '2290,7', '5300', '20113', '17480', '9345', '2158', '12249', '3385,92', '8606', '14320', '22870', '19760', '4905', '13326', '11362', '19377', '6938', '23453', '16993', '3143', '14370', '7385', '12393', '4672', '26138', '10025', '14927,83', '33030', '27617,1', '7888', '17838', '33292', '4230', '4297', '16880', '19095', '5805', '26300', '25122', '7588', '11321', '6127', '20767', '11986', '8006,1', '30500', '18376', '23800', '18319', '5505', '18700', '3771', '16530', '12508,2', '21408', '28110', '3418,5', '11189', '11795', '30420', '11243', '3670', '10233', '21218', '13679', '9430', '8529', '12300', '4135', '21123', '27962', '5455,8', '9759', '7563', '13257', '4638', '20225', '17873,75', '23070,6', '23950', '15920', '21938', '27248', '34990,8', '12411', '3598', '9530', '14196', '14990,95', '6193', '19602', '8669', '20431', '10238', '16002', '21762', '25632', '13301', '27560', '14840', '18300', '8639', '7510', '37531', '14787', '7747', '82800', '15788', '29500', '14900', '29234', '41210', '2704', '2872', '7857', '18891', '38032', '6130,8', '14780', '21280', '5977', '16280', '31694', '18880', '21510', '21985', '15340', '28580', '6189,92', '17789,2', '13136', '14005', '6790', '7513', '4548', '12530', '39741', '4125', '5295', '10248,2', '15520', '17567', '29600', '18099', '11409', '12646', '21696', '4280', '25641', '6504', '4810', '27541', '7068', '46500', '15041', '8057', '12903', '18328,6', '18140', '12434', '8253', '39600', '5178', '26999,2', '3528', '30418', '30131', '9315', '15556', '27795', '6099', '10680', '9586', '9557,1', '27986', '3883', '21690', '12549,07', '20900', '22180', '52250', '3580', '26183,5', '22498', '4220', '2450', '4268', '14360', '14593', '26543', '14690', '9520', '28241', '21120', '61832', '6650', '9060', '13365', '5292', '7544', '14481', '4689', '10200', '16010', '21190', '37016', '7892', '10112,8', '22105', '23399,2', '22384', '25855', '31560', '9695', '6272', '17998,2', '78150', '11477', '13090', '10089', '20209', '11778', '17450', '9097', '11212', '37881', '14205', '10585', '3959', '25520', '23735', '82700,9', '28530', '4436', '6145', '4132,5', '15045', '9996', '78390', '7486,1', '4938', '3900', '24015', '28509', '13999,2', '11601', '18495', '4752', '12959', '11560', '27599', '18632', '21980', '7249', '7676', '15640', '7845', '16150', '8292', '4040', '31091', '4804', '8755', '16740', '11590,92', '16743', '11100', '15315', '26091', '10190', '5748,3', '27313', '27342,5', '9525', '6559', '3983', '17432', '19700', '6027', '13843', '19390', '6792', '29266', '10693', '17501', '15160', '14980', '5097', '8322,77', '29612', '11697,1', '21586', '12246', '7570', '29471', '24017', '5480', '52509', '21717', '7000', '17770', '10280', '2871', '19439', '5415', '50700', '50098', '2050', '14849', '29075', '5928,1', '22225', '3547,42', '2389', '2936', '17130', '15907', '26920', '5487', '23009', '22460', '25950', '4592', '2165,16', '29630', '81743,87', '13680', '23216', '28970', '40084', '15780', '5078', '3448', '9260', '28460', '2909', '34154', '22102', '10319', '16669,84', '9928', '5282', '21279', '9595', '61600', '12130', '11943', '17549', '23128', '4369', '5616,15', '5931,8', '17399,2', '15650', '2555', '18190', '6900', '3383', '16765', '6449', '11691', '27012', '26650', '10020', '11322', '13640', '15020', '21920', '14406', '9719', '7703,1', '30545', '22250', '23475', '26538', '16590', '30360', '14240', '39240', '82910', '4350', '25899', '26200', '94330', '32819', '11159', '9573', '14144', '7749', '10805', '3899', '30230', '9500', '7280', '16107', '16064', '11113', '7240', '20646', '8037', '22881', '16824', '37017', '43996', '10021,5', '10320', '9460', '6461', '9655', '38725', '10795', '23154', '35400', '12598', '3880', '17483', '7597', '9791', '24330', '18970', '27470', '9580', '20530', '18060', '23297', '31588', '34555', '7651', '7150', '13550', '14199', '7876', '29470', '3875', '10548', '31333', '4180', '9445', '4777', '20320', '22588', '14450', '3340', '3591', '45160', '22955', '23647', '12645', '16218', '7422', '29948', '12488,25', '3510', '22645', '9924', '84570', '3762', '18602', '8487', '11488', '7985', '29975', '3715', '41132', '5568', '22317', '14750', '12389', '24346', '7604', '16897', '14680', '10310', '23490', '12038', '6707', '6691', '13235', '22497', '13382', '2979', '9128', '4922', '23797', '7105', '19278', '4947', '14588', '17590', '5749', '23930', '9690', '8970', '21197', '25492', '12290', '15770', '14321', '26440', '39500', '7433', '6985', '5232,2', '8940', '7981', '3769', '15748', '8500', '36701', '86041', '4921', '15745', '26085', '8641', '13122', '14200', '10439', '12591', '17280', '11340', '19843', '26346', '5355', '8675', '8275', '21069,8', '11938', '6329', '21750', '18490', '14245', '14500', '9290', '14229', '19529', '17117', '4390', '41397', '4602', '5058', '18045', '24640', '9567', '14356', '16380', '13785', '14290', '15099', '23720', '4653', '19513', '37440', '8025', '28945', '7830', '8835', '10989', '14781', '3380', '21640', '16425', '41500', '19547', '19560', '11034', '6407,5', '24003', '3928', '6567', '21858', '5329', '4522', '6282', '5076', '51700,5', '22927', '13438,3', '13050', '15980', '23749,76', '3789', '25490', '28879', '3565', '13890', '16800', '9702', '21482', '24233', '19660', '40080', '35563', '81000', '19877', '4982,4', '21487', '21295', '39025', '10690', '27166', '18318', '12189', '6490,5', '6049', '12870', '4858', '10992', '13441', '18997', '3199', '7872', '10930,52', '34390', '33881', '11960', '21907', '19044', '7905', '4504', '27970', '31580', '31224', '23713', '8320', '6004', '5091', '25020', '18890', '15990', '16995', '30735', '9025', '5478', '5465,26', '7157', '14348', '14390', '11130', '13112', '22920', '30837', '20370', '22987', '10338', '30951', '31415', '15398', '23684', '18797', '14080', '28502', '26928', '21496', '10778', '7586', '28238', '23170', '11660,93', '23598', '15292', '5310', '8935', '19315', '23100', '13025', '18711,05', '10389', '66680', '10466', '6570', '20883', '14669', '37415', '26865', '7999', '10551', '61540', '15030', '21740', '35610', '15625', '7621', '8156', '20294', '6950', '17991', '16814', '23050', '39720', '3389', '11751', '22589', '22940', '13727', '5684', '5820', '17510', '17595', '6220', '15897', '7019', '23220', '21128', '5220', '25998', '17624', '21349', '3460', '5775', '4498', '7523', '22345', '7919', '9814', '3493', '6745', '15027', '8459', '13598', '45863', '2878', '24314', '11300', '23470', '87600', '10526', '27130', '10950', '4842', '26997', '4962', '10752', '19820', '22195', '24864', '24962', '27922', '21814', '41170', '9282', '25599', '3570', '21880', '12421', '3555', '7750', '16191', '26600', '6945', '12385', '23944', '10496', '4217', '14910', '19960', '20242', '10770', '9840,6', '12750', '4852', '21082', '33000', '4872', '8068', '28428', '6230', '3033', '5043', '70500', '31885', '16948', '10775', '29790', '6514', '10912', '36177', '22302', '12890', '9342', '6903', '4366,8', '5346', '6597', '15090', '33097', '6892', '16244,9', '3222', '4758', '10274', '5742', '15771', '10124', '17448', '14331', '9760', '9497', '7878', '18760,75', '8905', '22803', '13030', '4928,96', '20802', '86900', '7327,8', '20295', '2490,92', '16687', '2125', '16870', '4889', '16830', '32700', '26485', '19490', '14292', '9970', '16910', '20792', '16520', '28440', '19464', '66504', '6885', '37480', '22711,21', '44225', '23912', '13820', '18260', '20046', '22692', '18499', '6848', '19419', '28861', '11651', '4986', '22999', '8741', '6470', '11200', '25783', '18334', '14193', '12725', '4730', '11830', '8299', '22890', '99308', '15875', '3173', '29690', '17850', '6750', '20053', '20985,62', '11892', '28955', '16379', '20536,1', '5736,6', '23382', '7739', '10216', '5789', '16395', '6530', '22252', '8720', '7357', '15759', '8098', '20706', '7395', '30110', '10298', '5490', '27005', '16199', '18074', '6475', '13138', '7391', '17599', '21470', '24550', '20250', '11776', '4362', '25068,94', '8648', '19620', '12110', '20450', '15790', '6289', '4318,2', '16591', '34821', '11025', '4477', '7812', '12200', '17949', '11293', '51900', '18001,28', '10672', '2990', '18187', '7709', '24283', '63306', '16160', '4738', '35750', '20779', '24750', '15100,82', '18390', '8857', '5099', '14490', '9730', '32617', '5589', '13495', '5963', '25600', '10105', '3710', '37656', '13195', '9107', '37790', '29949,7', '19140', '10413', '10981,82', '5645', '2529,61', '52200', '13078', '13993', '5560', '7440', '6327', '31538', '14355', '5770', '11428', '3675', '32850', '20477', '41490', '9900', '6860', '9592', '10706', '18517,1', '3023,58', '22221', '12236', '14598', '18990', '21499', '24239', '4109', '18528', '19810', '8393', '13507', '7180', '26750', '13460', '16400', '83407', '17592', '27598', '6460', '18230', '6562', '15214', '5612', '9738', '6680', '11175', '11389', '6969', '32481,83', '16985', '4590,2', '11126', '17379,99', '14618', '11190', '16005', '30738', '3119', '35940', '8280', '4244', '14925', '48900', '2860', '10576', '16330', '4920', '8600', '18906', '4827', '4652', '10260', '44100', '12898', '6319', '4250', '3353', '13921,36', '6469', '21240', '9560', '4188', '17775', '11434', '6854', '8994', '7348,52', '8108', '35683', '3039', '6360', '11188,14', '8228', '29445', '13950', '21960', '21062', '17756', '4830', '23437', '7335', '3628', '4770', '19627', '3674', '5997', '5339', '16489,9', '8590', '23390', '4010', '21473', '15732', '12896', '19889,92', '10331', '3860', '16700', '30590', '13289', '13489,91', '9406', '8416', '4170', '3442', '6495', '12749', '17106', '15226', '24112', '13841', '19993,4', '35450', '7863', '15390', '7493', '18740', '15040', '4930', '6390', '24519', '15865,65', '9425', '3750,91', '25966', '10381,5', '16961,1', '32955', '8491,82', '3650', '6477', '17920', '35669', '29386', '9971,3', '23758', '5431,2', '3000', '27234', '24500', '9813', '8833', '20050', '28258', '17380', '6820', '7300', '43573', '20977', '13456', '5889', '98644', '67795', '11240', '14207,1', '4978', '5152', '16789,98', '31790', '13897', '17600', '2745,9', '15096', '13922', '22509', '21481', '12417', '10480', '59590', '17538', '3990', '5994', '4302', '75000', '26819', '20313', '25343', '6050', '16823', '26560', '13948,2', '27905', '17270', '14698', '7498', '9963', '23745', '83106', '10447', '8088', '5265', '31484,1', '5988', '9396', '15325', '7875', '3015,2', '20379,5', '14993', '23680', '18144', '13216', '37508', '6544', '21243', '4089', '6081', '31050', '19343', '8460', '29700', '5607', '29206', '72890', '9427', '9278,1', '4890', '6605', '2650', '6517', '6783', '13745', '7123', '53000', '17697', '24470', '38830', '22969', '8330', '3617', '4339', '15789', '21728', '5449', '6386', '13366', '2900', '4140,2', '3909', '16760', '18693', '3240', '38120', '19980', '4314', '15730', '7629', '5440', '18560', '23148', '27398', '23300', '19880', '5347', '11558', '8800', '7381', '12514', '5676', '2689', '18080', '4801', '22213', '11539', '3076', '6710', '17248', '5913', '34280', '20562,2', '3748', '6527', '43200', '9529', '12616', '18750', '8078', '7795', '38300', '16786', '11669', '18006', '3051', '5630', '32670,79', '6561,9', '6430', '21498', '4773', '2245', '23197', '14717', '18460', '8550', '8517', '18580', '32400', '18392,91', '9173,88', '8604', '15097', '12833', '7984', '56518', '4262', '23331', '6970', '34195', '5602', '12339', '15367', '26164', '19360', '3320', '8355', '15621', '9820', '14938', '2189', '7632', '31090', '12384', '6590', '22080', '6040', '10646', '7639', '26642', '10853', '9789', '6746', '7460', '6781', '24301', '19626', '18896', '31404', '23204', '11194,06', '5438', '28041', '26150', '7970', '24835', '24771', '11850', '4265', '10704', '8979', '7560', '7980', '3602', '7752', '10757', '6199', '4390,91', '6236', '24423', '4967', '31450', '4275', '19797', '10628', '4160', '4499', '21187', '15750', '17190', '13098', '5390', '31680', '31278', '8185', '30825', '2088', '27493', '53499', '6899', '33126', '16407', '11389,2', '17594', '27846', '28932', '20220', '19482', '16092', '43515', '6204', '7874', '17854', '23852', '6898', '6210', '3690,92', '10323', '12365,2', '16860', '5160', '15220', '11876', '9540', '13965', '26930', '12559', '15912', '3895', '6018,39', '7649', '4704', '10940', '4189', '9371', '16838', '29478', '16799,4', '15740', '2039', '19959', '6983', '10256,1', '11219', '18740,5', '25662', '59760', '15638', '17049', '17499', '21440', '27196,1', '25940', '12400', '20277', '21866', '4387', '10540', '14522', '13100', '6141,75', '23280', '3718', '7084,28', '7050', '29177', '5424', '15115', '12636', '12904', '11345', '13267', '6281', '25271', '17379', '7011', '5272', '23663', '15245', '19300', '4882', '24344', '14047', '17840', '5839', '29526,12', '8698', '18470', '33340', '3768', '13624', '5688', '20980', '4800', '28900', '2350', '35700', '21398', '9551', '9842', '10740,64', '13321', '6619', '6024', '22280', '9444', '24506', '33344', '20636,91', '93400', '20698', '12541', '12077', '7450', '16980', '21936', '4148', '4729,72', '17330', '25385', '21948', '11305', '9809', '10265', '7660,42', '27200', '21060', '15280', '10290', '22198,1', '4540', '10130', '7281,94', '11760', '13300,91', '4727', '6273', '7296', '9950', '30796', '22959', '6793', '4858,1', '56277', '11672', '4186', '15279', '10990,2', '34699', '23358', '62800', '20587', '13139', '20464', '8597', '26170', '17575', '6130', '30696', '20305', '29382', '18049', '5195', '20440', '7362', '7302', '12546', '32499', '8999', '10287', '6757', '6030', '75500', '12672', '9669', '25900', '28090', '7197', '15300', '40756', '46960', '31263', '34891', '32041', '10697', '12713', '9432', '35360', '28557', '5669', '14092', '30060', '11698', '7182', '25150', '8832', '27170', '10618', '10659', '4756,5', '34499,2', '22970', '13635', '7262', '20280', '11090', '22145,1', '10665', '14625', '11456', '7229', '18445', '20298', '24130', '3149', '5614', '5793,3', '4299', '10960', '24889', '13390', '13985', '19860', '40499', '28230', '43376', '4097', '15100', '16999', '9420', '9902', '8289', '22324', '23399', '12366', '14854', '14206', '8715', '16485', '16039', '4660', '25680', '13630', '13443', '13006', '31990', '3870', '11677', '35960', '5350', '25713', '7315', '25447', '21615', '12347', '15192', '21021,9', '9972', '32940', '35091', '71400', '24721', '15755', '29490', '13356', '32706', '31587', '50652,94', '6499', '4013', '19950', '3547', '22124', '85100', '5149', '11899', '55846', '5837', '18020', '25887', '3271,5', '16045', '12608', '99313', '16227', '21480', '37800', '24599', '11719', '15400', '23667', '26886', '13989,4', '7910', '5718', '4329', '27706', '6280', '10755', '14440', '7858', '26889', '2072,7', '17184', '12240', '8453', '10467,1', '6201', '19224', '32970', '31096', '5807', '36980', '3886', '16596', '15763', '13520', '14498', '18895', '5253', '19120', '4853', '10630', '16185', '22798', '22621', '17350', '2000,51', '8595', '8978', '10528,3', '14891', '18440', '6246', '4918', '8450', '5176,8', '5533', '10560', '4869', '32800', '2990,92', '42436', '9955', '13351', '6545', '2100', '15359', '8090', '9910', '13421', '10024', '12228', '13240', '2200', '35145', '7578', '19502', '4650', '6020', '7514', '14632', '4951', '25200', '4408', '16260', '11050', '17630', '2540', '4840', '6741', '4761', '8118', '10495', '38832', '15035', '27080', '23240', '8067', '99000', '16629', '61250', '23539', '2160', '26099', '17361,76', '2223', '9800', '3869', '7258', '15466', '28242', '17981,9', '16900', '36350', '21312', '7032', '37450', '4919', '88300', '25508', '15389', '31221', '11978', '6086', '6679', '96860', '15150', '3305', '3970', '11536', '23351', '7829', '20495', '18861', '100000', '17622', '16364', '15269', '5135', '23124', '29285', '21990', '9031', '17911', '15033', '6150', '28666', '5488', '8650', '9034', '5790', '20088', '8298', '21930', '7978', '11385', '35326', '33476', '7376', '28800', '9009,91', '22072', '28016', '15313', '18216', '8744', '11410', '22747,4', '33660', '5730', '18649', '21298', '9176', '22361', '6893,7', '6880', '19085', '19320', '7720', '4746', '24871', '10366', '50177', '6560', '11487', '4103', '9074', '38625', '2899', '13115', '11455', '24850', '5751', '8644', '3850', '36400', '16175', '12092', '29997,24', '6228', '4312', '5723', '11500', '11804', '3550', '4835', '5912', '70410', '12360', '7595', '23411', '8360', '7342', '7163', '28728', '22419', '52000', '3906', '10097', '9326', '19415', '15393', '25623', '17901', '79910', '3740', '23202', '3960', '34422', '6166', '20510', '4790', '4851,81', '28722', '7975', '29205', '5119', '7459,6', '4611', '12289', '7530', '7279', '23110', '6354', '3798', '12554', '11768', '19382', '14000', '18162', '5530', '24502', '17750', '7020', '10617', '13490,2', '11510', '6071', '7790', '5611', '27680', '7459', '18225', '94300', '8116', '9728', '18515,03', '19457', '16883', '50940', '35950', '30471', '7420', '29799', '14848', '25898', '7140', '23290', '11441', '20090', '3205', '25992', '14619', '40490,91', '26020', '11498', '27939', '2881', '22860', '14765', '12428,7', '10525', '18105', '4130', '44760', '29200', '24800', '10410', '10432', '17397', '7431', '12150', '20519', '5247', '18500', '41021', '7660', '11690,91', '12500', '15830', '22490,91', '15084', '14310', '14140', '15560', '50400', '3270', '4966', '5306', '23395', '23410', '4996,8', '6181,09', '42689', '8381', '3990,92', '18414', '4970', '25278,14', '16114', '10445', '15314', '31646', '9596', '23147', '8435', '40581', '13846', '19630', '7317', '8790', '28661', '94720', '39090', '8381,5', '4983', '7498,9', '13921,52', '9246', '16491', '24399', '3760', '6346', '5268,47', '6529', '7899', '27510', '70300', '2457', '34804', '4999', '13989', '2573', '38553', '5279', '27925', '19765', '48600', '30999', '17193', '10262,2', '21889,92', '4366', '13952,73', '34618', '48920', '9370', '20475', '7066', '28162', '39590', '12702', '11730', '11576', '30198', '18251', '10128,8', '23377', '34493', '16090', '20505', '10360', '30050', '19342', '8788', '28930', '31910', '25315', '16110', '3717,9', '10390', '27589', '15147', '16498', '8127', '37350', '15170', '7380', '8225', '11180', '7047', '17459', '13830', '3520', '97220', '7898', '18340', '21237', '11900', '13465', '13080', '18130', '2330', '60720', '4450', '2030', '7030', '11170', '36730', '72885,57', '7478,2', '3107,7', '20862', '2819', '20600', '4389', '12198', '14100', '18010', '10080', '26379,91', '20715', '6364', '16512', '3889', '9664,5', '5482,3', '22047', '5250', '16571', '5261', '12390', '30325', '44660', '21300', '26848', '33821', '7860', '12899', '12816', '14396', '2520', '19930', '3396', '6279', '20268', '28490', '13650', '2009', '15098', '11304', '12948', '16284', '16960', '7909', '13623', '7859', '5848', '55500', '8990,9', '36617', '18690', '22293', '13232,88', '6662', '21895', '21479', '7116', '7399', '22977', '5450', '14338', '37752', '23861', '5710', '14845', '25695', '22212', '13165', '3301', '4290', '38810', '32335', '2635', '23989', '8869', '15293', '23498', '5312', '19799', '24362', '17842', '85270', '5016', '11810', '27620', '24458', '15900', '6697', '6192', '6748', '6575', '22310', '6964', '10791', '6470,9', '33996', '21460', '18749', '29880', '4410', '3072', '25460', '23625', '18119', '22210', '51370', '27820', '3470', '11077', '22427', '86071', '2120', '50020', '18692', '4420', '9295', '25584', '24741', '9985', '19830', '17399,1', '3030', '4935', '13155', '4057', '62240', '27190', '18206', '22650', '26510', '9375', '6270', '25515', '13959', '44697', '11297', '5941', '2748', '20330', '21619', '18624', '13566', '5384', '3188', '17960', '20091', '40410', '12099,1', '18615', '30756', '10860', '23865', '15309', '19857', '61487', '6139', '9440', '4744', '23425', '4500,95', '4898', '15221', '18962', '7425', '24367', '25740', '11748,2', '16669', '23999', '17279,2', '30197', '34740', '14230', '8033', '12820', '12318', '10450', '20925', '10029,92', '2638', '14052', '22390', '41498', '11288', '3215', '17572,68', '12696', '22550', '5877', '20397', '12120', '3540,2', '6651', '5174', '18696', '29788', '4310', '4460', '18578', '4973', '8311,29', '17247', '9597', '8441', '15085', '36000', '8735', '29100', '22536', '15190', '20598', '20903,5', '16448', '35943', '90200', '30925', '83871', '10854', '15290', '2610', '15299,9', '8580', '36086', '2190,2', '7810', '13480', '5880', '3419', '13197', '7695', '27736', '8754', '30170', '9116', '9405', '25812,5', '6982', '16250', '7290', '32293', '25937', '4950', '3061,45', '22395', '5706', '25702', '29250', '9251', '22320', '84800', '4212,8', '17860', '25640', '30372', '8617', '4510', '7194,72', '3961', '8199', '12995', '8598', '12910', '24389', '3998', '3892', '8977', '10505,5', '8262', '16781', '9468', '27260', '4671', '12945', '3955', '30455', '5070', '12451', '35596', '23259', '36260', '3307', '24711', '7511', '8011', '10760', '11296', '3725', '15240', '10512', '9457', '8150', '28417', '19740', '5562', '9349,92', '7373', '2180', '9647', '6756', '4647', '21730', '19611', '5955', '23690,91', '11195', '2341', '12944', '6721', '6947', '30220', '7667', '7224', '16190', '2031', '8846', '20698,2', '29040', '3729', '3865', '23480', '5268', '10600', '22810', '7711', '10529', '21086', '15034', '62700', '15120', '24520', '7400', '22660', '30930', '28781', '9235', '19324', '18185', '25732,2', '18286', '5050', '13456,82', '24490', '21736,2', '11400', '16170', '19790', '42320', '17430', '6089', '33475', '6991', '3014', '54000', '4120', '31014', '17100', '13173', '19177', '8410', '37517', '13494', '17340', '19130', '18399', '4240,91', '15998', '19840', '10022', '4743,68', '36570', '14316', '14636', '23784', '15695', '15540', '19567', '6347', '32844', '3179', '56673', '19008', '4680', '18374', '12598,1', '6873', '5210', '6375', '13934', '19046', '23530', '6556', '4493', '9536', '26770', '7848', '12991,82', '9550,82', '24858', '12455', '11740', '3764', '5207', '7469', '21000', '15565,5', '38406', '21809', '6980', '4870', '3770', '30813', '13882,92', '12320', '4047', '5869', '8951', '5333', '4789,92', '30729', '4986,5', '18067', '18719', '3168', '7625', '23700', '24752', '18984', '38718', '4413', '66578', '40574', '32175', '8480', '5879', '5405', '7559', '5095', '12463', '5765', '19895', '2499', '3358', '20943', '29750', '15899', '6323', '12342', '12919', '14388,3', '12716', '22575', '2572', '6309', '18698', '15575', '16222', '2511,82', '11368', '31499', '13825', '10584', '10750', '6997', '10668', '15647', '25574', '26780', '23661', '29677', '53364', '3280', '9892', '18175', '9949', '18780', '19290', '24340', '24198,2', '7611', '23954', '19940', '12818', '2680,4', '9550', '2745', '8883', '5632', '4455', '11666', '16796', '32525', '11446', '56899', '8034,2', '40970', '13360', '7319', '11692', '4377', '14170', '14330', '4118', '52295', '29699', '17966', '9577,8', '10670', '4664', '12598,2', '12902', '23355', '24370', '4372,2', '22617', '14510', '6101', '29640', '19839', '17428', '3090', '13978', '10115', '9866', '3549', '7353', '28341', '3099', '13009', '9167', '4165', '30190', '30960', '18220', '10616', '17329,92', '4495', '15889', '19680', '14083', '70000', '11817', '7693', '13263', '32450', '14243', '17714', '10440', '25313', '24459', '25280', '28750', '13005', '4207', '10158', '22905', '32540', '12572', '2957', '4500', '35744', '4074', '21597,8', '45952', '8717', '11600', '6462', '28070', '8700', '21877', '7180,9', '24223', '15500', '7776', '39638', '9270', '6480', '18410', '76000', '35825', '4240', '5592', '16020', '30630', '2190', '15555', '3820', '8250', '11764', '6070', '16579', '12557', '7349', '4879', '20874', '8038', '6594', '10767', '8260', '14755', '21940', '30799', '12710', '13402', '71500', '22070', '6377', '5328', '16220', '3861', '15704', '31400', '90590', '8775', '29950', '8689', '22098', '18650', '5690', '3359', '15984', '18413', '17300', '17790', '7755', '23511', '20190', '12900', '11136', '31474', '25250', '27250', '22560', '58567', '16011', '9349', '10163', '23029', '10730', '2578', '18669,2', '48700', '22194', '9150', '19991', '22670', '23450', '23985', '51685', '23226', '22440', '28208', '14470', '12328', '20699,1', '6399', '16063,29', '13130', '7334', '23689', '7340', '17505', '8188,04', '9054', '17660', '7089', '8750', '5285', '26315', '3429', '9998', '7327', '16048', '30615', '3690,82', '7968', '8610', '47704', '12398', '31498', '9908', '24085', '15639', '22756', '8995', '15700', '7760', '13227,7', '3329', '27637', '34391', '8010', '12345', '8619', '16322', '30224', '47600', '19748', '5162', '23793', '4725', '3949,92', '12680', '10799', '5600', '8346', '6136', '2720', '12687', '22410', '18096', '4563', '24945', '41125,88', '27540', '15470', '3941', '45900', '41000', '37235', '12868', '18999,2', '7230', '7209', '14400', '2045', '7638', '6105', '9219', '10740', '2730', '17439', '10550', '7642', '6000', '11600,6', '24199', '15806', '13250', '4048', '14574', '2751', '12199', '12960', '39028', '6420', '23370', '26461', '27228', '12210', '41400', '12447', '23650', '8380', '30946,29', '4398', '3100', '21506', '8890', '19079', '14580', '45110', '15210', '23126', '9480', '44290', '30920', '9793', '14456', '9447', '7236', '8745', '23608', '11496', '20931', '12590', '9429', '15806,5', '22369', '20063', '10188', '12450', '17298', '8377', '37780', '24810', '14110', '10420', '27000', '31294', '70245', '11349', '41470', '3890', '5130', '14921', '6350', '16950', '13389', '28420', '5189', '18085', '4487,4', '9050', '16868', '6393', '12260', '16766', '19699', '28674', '16416', '4351', '38800', '33500', '21950', '34900', '3195,9', '9160', '14916', '4050', '8878', '11727', '9430,38', '9390', '17529,91', '9296', '28775', '26970,6', '11049', '15580', '15727', '7470', '3040', '20570', '9620', '7908', '18573', '11021', '16849', '9276', '6367', '7443', '4550', '17320', '16180', '24290', '25588', '28890', '7220', '11204', '33192', '7002', '22139', '24768', '5580', '20430', '12310', '11996', '9755', '31509', '28755', '8369', '35787', '3415', '4185', '16745', '3898', '14270', '20169', '5064', '33088,5', '18197', '16660', '18799', '29460', '12490', '7839', '3614', '3300', '5865', '5938', '13815', '10671', '6491', '10225', '5610', '14031', '25182,4', '26489', '2255,4', '5932', '10655', '22469', '2691,9', '8630', '5419', '9098', '23517', '49100', '12860', '14661', '41907', '15602', '13527', '9840', '38200', '21994', '39830', '17839,92', '7507', '7794', '35100', '30031', '12542', '38408', '14609', '17203', '28845', '2099', '17367', '5579', '9614', '31702', '13302', '17999', '17500', '20871', '21112', '6374,78', '5670', '24263', '31895,48', '6370', '12550', '23499', '18170', '7404', '13620', '10040', '21881', '6125', '8797', '37710', '32000', '10361', '28810', '2660', '19011', '61915', '9973', '4379', '14766', '20196', '24047', '11039', '41929', '26490', '18734', '9464', '15602,5', '16996', '9287', '19125', '3722', '21899,94', '25639', '9680', '23600', '2390', '13140', '15524', '10198', '32348', '9009', '16865', '10818', '24030', '16063', '14328', '19572,1', '15843', '12989', '13430', '30324', '19970', '19460', '18990,5', '11429', '4930,95', '5970', '19099', '24272', '17220', '16499', '4969', '31491', '3308', '4469', '21494', '22944', '10599', '39627', '7430', '4952', '5109', '5660', '23130', '15832', '4320', '3411', '7885', '28247', '28220', '8149', '15354', '3398', '13653', '16263', '7551', '15999', '8430', '28350', '29944', '11639', '25220', '9085', '9994', '6733', '18361', '11450', '5077', '5899', '15003', '9660', '14947', '25109', '29450', '13558', '62550', '12262', '33725', '13310', '29933,4', '50678', '11754', '25146', '17760', '43631', '10170', '29220', '83000', '18720', '5370', '14678', '14758', '21038', '47789', '10660', '19341,2', '33978,63', '5185', '10648', '4099', '8389', '2360', '27810', '22236', '5989', '3916', '23391', '8844', '6266', '11674', '7800', '22599', '31015', '5129', '34641', '35991', '69500', '11499', '4525', '14976', '24700', '9689', '10442', '20143', '10980', '16649', '2679', '11422', '21717,92', '5389', '23488', '26700', '4489', '21784', '8609,92', '20179', '2998', '34806', '19689', '3059', '5738', '23365', '25820', '28160', '23485', '11670', '58947', '74466', '6191', '5320', '14469', '28059', '9889', '17780', '24682', '11063', '5910', '13324', '5397', '2947', '96200', '5238', '3636,9', '32490', '2428,2', '14133', '6919', '19840,5', '25177', '11687', '4290,9', '14600', '17789', '14493', '19089', '5599', '6539', '5380', '40500', '16420', '14094', '11589', '17568,3', '26890', '16479', '7780', '61290', '5960', '55000', '3294', '4293', '26590', '6944', '39160', '11370', '17970', '5360', '12840', '36527', '6039', '12048', '6256,8', '3827', '12655', '7598', '10471', '5980', '15372', '12835', '6250', '18980', '7369,7', '19999', '13336', '11085', '6881', '4644', '18115', '27781', '14119', '20910', '6056', '5908', '14150', '5942', '43682', '16635', '35670', '5353,5', '50000', '5950', '21890', '6797', '16561', '17091', '4629', '5681', '16657', '4581,87', '10300', '5496', '13001', '10520', '3599', '10490,91', '28450', '11398', '37305', '13949', '3720', '81612', '10616,4', '11966', '5018', '17896', '23060', '12935', '3160', '5768', '25317', '41837', '29697', '4099,9', '13580', '33330', '7497', '2797', '10446', '16145', '25168', '4820', '23998', '6624', '6519', '16245', '33678,2', '38520', '17470', '5575', '15705', '29875', '18899', '37560', '11042', '20317', '17231', '4990', '11519,1', '19600', '7902', '63776', '22789', '11990,95', '21861', '27850', '25980', '16621', '89344', '5859', '9977', '7995', '38244', '15010', '13388', '20000', '6920', '5678', '24059,83', '32650', '24587', '10536', '14917', '4440', '9000', '13141', '14295', '9338', '15017', '12580', '11518', '24280', '16367', '5270', '17769', '83194', '6119', '7729', '15890', '7210', '25780', '26595', '26054', '10349', '19491', '7920', '12317', '6883', '23160', '3145', '33760', '14891,92', '29661', '11936', '15199', '20658,2', '7198', '4319', '16490', '7500', '31810', '28922', '8589', '4940', '11520', '6740', '27898', '14472', '4114', '56340', '31040', '6219', '5988,46', '17573', '5695', '18819', '25936', '35640', '7949', '60829', '6625', '9988', '21350', '35529', '16099', '13570', '12843', '22960', '4210', '11799', '26395', '10147', '5451', '9825', '98042', '5391', '3868', '3128', '47195,92', '27088', '4617', '16748,1', '18547', '18934', '22394', '20375', '36308', '4658', '14530', '5715', '9913', '7090', '28172', '8568', '10864', '18610', '20755', '24897', '6785', '54700', '5193', '23315', '21484', '25540', '19218', '4624', '17073', '5200', '19503', '44690', '87570', '3180', '12999', '24059', '5966,7', '16653', '5840', '11167', '3010', '22150', '6822', '8544', '15503', '13208', '10245', '10194', '3808', '7207', '18707,1', '20699', '8020', '18425', '14461', '4670', '10991', '13463', '20592', '6940', '14130', '25720', '8901', '33400', '26730', '22482', '31460', '4020', '21204', '7820', '6400', '3067', '31490', '11855', '18210', '16100', '19083', '9750', '22300', '23185', '14489,2', '6060', '39422', '73300', '24200', '21670', '25631', '4726', '17530', '30940', '6073', '20179,3', '9021', '6698', '13899', '9080', '17802', '6522', '5984', '8456', '9443', '16050', '25301', '16880,91', '25330', '35580,91', '18599', '71740', '19269', '19745', '77210', '43950', '14550', '28280', '27673', '4039', '11502', '22830', '24210', '11989', '33280', '18855', '11514', '8186', '12127', '6776', '12889', '14709', '7632,92', '11977', '9169', '30100', '34148', '18881', '11665', '12195', '12410', '20390', '22792', '19798', '5832', '5748', '6540', '6492', '13199', '56310', '18535', '3940', '28224', '2065,5', '17580', '5184', '3619', '13916', '20355', '41100', '7850', '16480', '14204', '2599,2', '17039,91', '8980', '11426', '4435', '3930,81', '21050', '9237', '16730', '10999', '19608', '7441', '22214,69', '25897', '2268', '9498', '3520,8', '13730', '10429', '19522', '3045', '14107', '19844', '7020,9', '16438', '17390', '8221', '34990', '20480', '20296', '12597', '5835', '12906', '59009', '28042', '116360', '7650', '16872,3', '12566', '23396', '4349', '14169,1', '12283', '7515', '21578', '50929,82', '3276', '35000', '15850', '4645', '5110', '21838', '21704', '28116', '11333', '5937', '6283', '20820,44', '3535', '12600', '21160', '3682', '43880', '6450', '12650', '11250', '3137', '19670', '22850', '18458', '4191', '10193', '7204', '11290', '24900', '29300', '22160', '10463', '13700', '25730', '13592', '19184', '20200', '8723', '11225', '25785', '23577', '5288', '9991', '4315', '10720', '19789', '17000', '25765', '23166', '5799', '11080', '4375', '4140', '7394', '44560', '3231', '19610', '58541', '13060', '12325', '32370', '21665', '27490', '5772', '29990', '34630', '25400', '27450', '55174', '33598', '3046', '10971', '39327,2', '8991', '31716', '11958', '24690', '11853', '4470', '2399', '59629', '5409', '12593,7', '5037', '29900', '27348', '5280', '67500', '4100', '6342', '4648', '15190,5', '11926', '3117', '19730', '6479', '28991', '27340', '6165', '30720', '84558', '12734', '29663', '96490', '3834', '7630', '10635', '4004', '6928', '5337', '20650', '9570', '16750', '39800', '7547,2', '9997', '41600', '20381', '9117', '78550', '27501', '10870', '9980', '17520', '8424', '40521', '13941', '26529', '3879', '18789', '2151', '13290', '3185', '12465', '5999', '3885', '94358', '33830', '3933', '5211', '4911', '8297', '7191', '6658', '6093', '11748', '28410', '18250', '13793', '11699', '4608', '39276', '26941', '51300', '22781', '22349', '38108', '23696', '58900', '12581,89', '5398', '39254', '11020', '6948', '12290,9', '7173', '22240', '21660', '9538', '33510', '29622', '10920', '9990,91', '12213', '13298', '38250', '25480', '13770', '26547', '30656', '4837', '9340', '5296', '17605', '4880', '6264', '5929,95', '13260', '6033', '11236', '14097', '51200', '6053', '13776', '30800', '4243', '44900', '12095', '5025', '3610', '30597', '2104', '6584', '9630', '12998', '9823', '3499', '6518', '18898', '5222', '8515,7', '19924', '18631', '46881', '11040', '6103', '13891,5', '19993', '23451', '13447', '24295', '20133', '6643', '65250', '20750', '2490', '21083', '8906', '28565', '21721,1', '11980', '5806', '2961', '6278', '7480', '8049', '19189', '46671', '4610', '37360', '27040', '13686', '21410', '7285', '6950,7', '18538', '14599', '20252', '7998', '33111', '4700', '5922', '36290', '10354', '4936', '15078', '39388', '21974', '11842', '80000', '8095', '16650', '6787,8', '29905', '20140', '10530', '34700', '16551', '8421', '10936', '26871', '17099,1', '4131', '15036', '17900', '5606', '9477', '15570', '10910', '34766', '18012', '5544', '22269', '16605', '12830', '29650', '21870', '24408', '22450', '16630', '17290', '20059', '26708', '11769', '2495', '19286', '15629', '24466', '13500', '13063', '4190', '16272', '17700', '13875', '4505', '8240', '23121', '17043', '6288', '5128', '48800', '15624', '8990', '23140', '40000', '21170', '13039', '9264,69', '19990', '11030', '5410', '15128', '10057', '19000', '52469,87', '7160', '26818', '18530', '10470', '5712', '12290,94', '4228', '3034', '21919', '11450,9', '5852', '10780', '17752', '19475', '3339', '25406', '5005,8', '10779', '7655', '20583', '10880', '16455', '9499', '14250', '13644', '11927', '8398', '14280', '6830', '21999,2', '7798', '7240,5', '35320', '20928', '9590', '2700', '26660,2', '11279', '33850', '26900', '7390', '6500', '14177', '16780', '11280', '14185', '2870', '5175', '27065', '2590', '33320', '15680', '2950', '40200', '8171', '8770', '21347', '13800', '22980', '9158', '9467', '6698,3', '13450', '13392', '6163', '16198', '29380', '5435', '33183,4', '16920', '7590', '21778', '7289', '42950', '19791', '2400', '3730', '21840', '11595', '12220', '6967', '21850', '3450', '47247', '7174,6', '3245', '24160', '20789', '86618', '21999', '10656', '32828', '18598', '15200', '21847', '4056', '6537', '9280', '6381', '6180', '23706', '18850', '14596', '7473', '4941', '27971', '11910', '7640', '4896', '3639', '7291,85', '24357', '5060', '9298', '59224', '3222,9', '31250', '9510', '11308', '5920', '29592', '17150', '4600', '4888', '5757,1', '14453', '18360', '28026', '67950', '98996', '13010', '4386', '3690', '75581', '20488', '16045,2', '20272', '13590', '26896', '2671,2', '6503', '10790', '31792', '12136', '6916', '4030', '36910', '30974', '3824', '5430', '21673', '24570', '21808', '29580', '22091', '8230', '11646', '13995', '9600', '6863', '18784', '17010', '6712', '4703', '9606', '13769,2', '4619', '5298,1', '11680', '13383', '32935', '15291', '2470', '3314', '19446', '9798', '10542', '6295', '18686', '11749', '4291', '5500', '27690', '6770', '19890', '19520', '17451', '2844', '15480', '12380', '65747', '35165', '27600', '16428', '18463', '33920', '7386,75', '16507', '9710', '5870', '17633', '9675', '12460', '9290,91', '4428', '21265', '13439', '74319', '23579', '23882', '11303', '22356', '5432', '8188', '4169', '49227', '9144', '17650', '90747,9', '6796', '8633,7', '26000', '14696', '18296', '8685', '22307', '3930', '14060', '16112', '7618', '22674', '9769', '22500', '44030', '8603', '27570', '13420', '17276', '4290,95', '44500', '6780', '25081,98', '26365,6', '20095', '28338', '21330', '11529', '89196', '2799', '17310', '30686', '4750', '25100', '3134', '4769', '8340', '3390', '16634,5', '25459,3', '6550', '9850', '95441', '19976', '7190', '6161', '15930', '26910', '13287', '26410', '11394', '23822', '10342', '8100', '27472', '23975', '18090', '17388', '6887', '10631', '23500', '17370', '17888', '7101', '11489', '15810', '9198', '37640,77', '14747,1', '4675', '4590', '12304', '15616', '30918', '12315', '27645', '6525', '19430', '11725', '36267', '6549,83', '12741', '6875', '3190', '5761,9', '4780', '14885', '11968', '11635', '7039', '14850', '8064', '12454', '3400', '25454', '11590', '2380', '6719', '19240', '8560', '14030', '7336', '16040', '4326', '6048', '13567', '11550', '13792', '22945', '21550', '16440', '26550', '6301', '9629', '17097', '7369', '19040', '12631', '10428', '16450,71', '93000', '31520', '4508', '14349', '6739', '17997', '12720', '27686,2', '21166', '12575', '5005', '9004', '13709', '9599', '6197', '89018', '19521', '10830', '4270', '25920', '4221', '13190', '37400', '4462', '10422', '2907', '38880', '6080', '2759', '6260', '11470', '14978', '45297', '38570', '13665', '14300', '8904', '8508', '71600', '15599', '3848', '31850', '6831', '16070,5', '10647', '78000', '10315', '3141', '18940', '8448', '10525,01', '29898', '26260', '91536', '34140', '6622', '19116', '58490', '18999', '17670', '6245', '9120', '13387', '12061', '32280', '9452,97', '8547', '53673', '5817', '3089', '25904', '4311', '4139', '26084', '13225', '18549', '23400', '16627', '6489', '4735', '28402', '26555', '13887,68', '16979', '10506,76', '58640', '17272', '8128', '20498,1', '25749', '20580', '2792', '5520', '14197', '6510', '27180', '34000', '53162', '19133', '16278', '11615,4', '2219', '17240', '21100', '20249', '18150', '16000', '4630', '15940', '13248', '12493', '6889', '26547,3', '2372', '12280', '6876', '8957', '12050', '29780', '17869', '5494', '14020', '23992', '7307', '70936,32', '10803,84', '25080', '9979', '3877', '37100', '15857', '5594', '13479', '11950', '7299', '27550', '17875', '14209', '8515', '4816', '8652', '15370', '13448', '14449', '6290', '17906', '11528', '17820', '21430', '20990', '7183', '4710', '21146,4', '18885', '13344', '15442', '25897,4', '32292', '5198', '10605', '6455', '12472', '45665', '7600', '4945', '24675,85', '8856', '37466', '8438', '22090', '10611', '15272', '3187', '30370', '26695,8', '18575,2', '10844', '14046', '10058,5', '28059,81', '4452,91', '17466', '19728', '88440', '24465', '18022', '4122', '19782', '9655,2', '30510', '18209', '5906', '13641,3', '11392', '8886', '3659,5', '29376', '57209', '23000', '28745', '12206', '38850', '11048', '11630', '17615', '13440', '21097', '7313', '15067', '29782', '17420', '21648', '9960', '10088', '22330', '9227', '7169', '6299', '6585', '5243', '31255', '22558', '15582', '32990', '3357', '7614', '23186', '12599,9', '23715', '6789', '15670', '22864', '4964', '7080', '23783', '9801', '13872', '17946,2', '8549,9', '25870', '13433', '23659', '7247', '10938', '87880', '42135', '48572', '16312', '4580', '7620', '8918', '6696', '22561', '27980', '5750', '5840,5', '7937', '9240', '19800', '2135,14', '3699', '6538', '7713', '13178', '48000', '5448', '26457', '24881', '30344', '22760', '13280', '27070', '17045', '16310', '8148', '4070', '28971', '14645', '10591', '20863', '21207', '20409', '22515', '9621', '23393', '14495,35', '22627', '17671,2', '13880', '24420', '15824', '21475', '23772,27', '30391', '7730', '9876', '5757', '14098,1', '20079', '17424', '8892', '11655', '5208', '15403,02', '7208', '13889', '15985', '7337', '17162', '37500', '8341', '24950', '3854', '13539,2', '9393', '3393', '9398', '6023,7', '5089', '15065', '18689', '8233,95', '20290', '14942', '13399', '16128', '7648', '24778', '41994', '44495', '2975', '11390', '27854', '15350', '13670', '21340', '42740', '7368', '6379', '6361', '6610', '3330', '5083', '2999', '20979', '13180', '19187', '7088', '12829', '34905', '3356', '10248', '7452', '9622,77', '23304,6', '47223', '11916', '3750', '11650', '11787', '7084', '20939', '3093', '4059', '4079', '15512', '17800', '11000', '9224', '5850', '21388', '24740', '20565', '53169', '13740', '26988', '6580', '26400', '22455', '15360', '4463', '12480', '7698', '6299,72', '13835', '24667', '11116', '3999', '2800', '3123', '25498', '10964', '8943', '3299', '12100', '7838', '10189', '8097', '6291', '4252', '9130', '22528', '33900', '6300', '10090', '12250', '17885', '4209,2', '27886', '24795', '6732', '26817', '10738,5', '9461,5', '41171', '3230', '4843', '22662', '2420', '11396', '9983', '21030', '7990', '20229', '3575', '6263', '41211', '14284', '15658', '6620', '31020', '8718,1', '23774', '5388', '12427,1', '17558', '2060', '7947', '3894', '11997,2', '10609,2', '28790', '13689,86', '6498', '13040', '21270', '14397', '29120', '6546', '9845', '9397', '21286', '15230', '19989', '4330', '17950', '20324,92', '14399', '21827', '22530', '19809', '23737', '2238', '23137', '8169,55', '3850,85', '15948', '25179', '10610', '20350', '98136', '4064', '2243,7', '25158', '19205', '6429', '33190', '23268', '29400', '19966', '7788', '12350', '21290', '21200', '10801', '32593', '4080', '16370', '5517', '34335', '5017,9', '21154', '2250', '14996', '26690', '7558', '3095', '3645', '6599', '8920', '19470', '10782', '7366', '29653', '27381', '13689', '30299', '21630', '2421', '4458', '62468', '34200', '4754', '18540', '20007', '10523', '11540', '5445', '13992', '12872', '2090', '8102', '9748', '18176', '3874', '7410', '6660', '3032', '8792', '7908,1', '2435', '22458', '25386', '119700', '16141', '4072', '26641', '36800', '16544', '14446,3', '4134,4', '8129', '13312', '6990', '19220', '10134', '11286', '17140', '26390', '18304', '9650', '8286', '19899', '15887', '4768', '3780', '4995', '4150,95', '17425', '2300', '35332', '8829', '8793', '19674', '3542', '18654', '3501', '7996', '37150', '16691', '17863', '16030', '10769', '18054', '6481,8', '13302,83', '23108', '8825', '17415', '11871', '19060', '7516', '21520', '6058,1', '14940', '12019', '30196', '4899', '6411,72', '46000', '6758', '14639', '5197', '7581', '25260', '9400', '28431', '50568', '7988', '8490', '3434', '18358', '10898', '17826', '13599', '22590', '19938', '42300', '3987', '29942', '10773', '27877', '21770', '40313', '24119', '6298,6', '33680', '9042', '4546', '22800', '16850', '18868', '5799,2', '22147', '22896', '29680', '10113', '32076', '10879', '14391', '14081', '3545', '20536', '10000', '9347', '12884', '10034', '14520', '39900', '7472', '28641', '8960', '11383', '22323', '20310', '28700', '15079,91', '16470', '28079,84', '11598', '3790', '26462', '26219', '13710', '20297', '20987', '4035,2', '21805', '18960', '14044', '14160', '3354', '9989', '3284', '5525', '2028,56', '17199', '52561', '7824', '24450', '19920', '16977', '34199', '8498', '2048', '5351', '20820,2', '22286', '18450', '41700', '17091,9', '9217', '24281', '24190', '16998', '3731', '15201', '6561', '21810', '19489,91', '9533', '7151', '73306', '21646', '10492', '10435', '20698,1', '22672', '57593', '2930', '17940', '34100', '11445', '26430', '4887', '14050', '9350', '10084', '7687', '26499', '5707,8', '6699', '19622', '11196', '2724', '33470', '7189,6', '21865', '8278', '18491', '62100', '20630', '34162', '17640', '4405', '10939', '2305,8', '32907,5', '31500', '9573,1', '9681,5', '22700', '25240', '22990', '22898', '27816', '13780', '7170', '5031', '27498', '20679', '2719,2', '61000', '4812', '3033,9', '9835', '24405,4', '25570', '16783', '20644', '17955', '29390', '6630', '23552', '5030', '7593', '22498,2', '19498', '26500', '16194', '44700', '9930', '13895', '51570', '26720', '4961', '47000', '4745', '4480', '11819', '7609,5', '4479', '15363', '7954', '4841', '3114', '17075', '20877', '12000', '17716', '21592', '59398,2', '22400', '45820', '12518,5', '32310', '19550', '17089,9', '8910', '27945', '22656', '23152', '20550', '30603', '17890', '2691', '23890', '17613', '20100', '5588', '13400', '9594', '33990', '8955', '8899', '16197', '27350', '6096,13', '79959', '17273', '13435', '5472', '17880', '27480', '4199', '9200', '8806', '22750', '60000', '9790', '6323,33', '19781', '9090', '5309', '11289', '16398', '12211', '8762', '5830', '19082,3', '12848', '24983', '20645', '6598', '6108', '12197', '3735', '9956', '8860', '16833', '6850', '27010', '13926', '16834', '8902', '7112', '18471', '8390', '4534', '9538,9', '20443', '21984,55', '27456', '40900', '13768', '12845', '5689', '20659', '19751', '8874', '15102', '5895', '11217', '14410', '14659,2', '43373', '13315', '17112', '12790', '17851', '26339', '27990,91', '4826', '21901', '16389', '12699', '4041,9', '20155', '19404', '14521', '9986', '73996', '23677', '2263', '5897', '6129', '12166', '7199', '6834', '5000', '18389', '70705,96', '45280', '12232', '23030', '3392', '75424', '23200', '16732', '57581', '10295', '14365', '19945,35', '13541', '22290', '97026', '3600', '6396', '29443', '4850', '13021', '10687', '13320', '35767,4', '7610', '23575', '5745', '3897', '7700', '6348', '16300', '19710', '15165', '14443', '12284', '10238,82', '3799', '4177', '6217', '16081', '17230', '15927', '19593', '20680', '4860', '29198', '13990,92', '5299', '12803,4', '17398,1', '28340', '9839', '5155', '12173', '49838', '20989', '9456', '5987', '2000', '11755', '26280', '3904,3', '15760', '18290', '18240', '7135', '18949', '64660', '51750', '17631', '14847', '21080', '17060', '24061', '5796', '13499', '14991', '16317', '24400', '2447', '6720', '76550', '5144', '25227', '5683', '9127', '33100', '21800', '6552', '19720', '13120', '3849', '28590', '30879,55', '9855', '22848', '25627', '20356', '21505', '19296', '26450', '4485', '18777', '12742', '28899', '10566', '10019', '18030', '15290,7', '8268', '3167', '23825', '30697', '3474', '8406', '19905', '21420', '25991', '3703', '45500', '19050', '30627', '5735,7', '6457', '30200', '14004', '6999,3', '4520', '16265', '25050', '21900', '5855', '38058', '16820', '21380', '16214', '18566', '3681', '8110', '21390', '31726', '14570', '25727', '3920', '17099', '5921', '5219', '13294', '31190', '24125', '3220', '13910', '10210', '42228', '47900', '10418', '20770', '10240', '5023', '7499', '40824', '19589', '14857', '30600', '8950', '29384', '87786', '20520', '12854', '29295', '32900', '22570', '49798,1', '2970', '24100,83', '5090', '3892,2', '11323', '17400', '4620', '17540', '5404', '4890,2', '29334', '11623', '17297,6', '12947', '49000', '11800', '18668', '5545', '26760', '14990', '8290', '8000', '20561', '6202', '14438', '9496', '12762', '2439', '12509,9', '6090', '27518', '23310', '51000', '10874', '16975', '23406', '24174', '7060', '4370', '17324', '12310,91', '14795', '2619', '50879,83', '12711', '4740', '3375', '3492', '8285', '12331', '9554', '14658', '22162', '8917', '5489', '10708', '6975', '4979', '5573', '4284', '24250', '7539', '6490', '31990,6', '18027', '12950', '22121,1', '10699', '34720', '18246', '19350', '13615', '8047', '12797', '9920', '22950', '15430', '3159', '3170', '27110', '3440', '24844', '12435', '19591,36', '25683', '14610', '10884', '28517', '24600', '28684', '21927', '3070', '10075', '24070', '25840', '48580', '11377', '79770', '6678', '5936,81', '11860', '24179', '13536', '3560', '8540', '30681', '3387', '8771', '18730', '7940', '3786', '24777', '32914,31', '21150', '5995', '49860', '7490', '3646', '9450', '20237', '13690', '8870', '15739', '31596,92', '15000', '9059,92', '8220', '4640', '19128,41', '9422', '14718', '16690', '7187', '33459', '18702', '10500', '13355', '14773', '2928', '25625', '2798', '11247', '26115', '7787', '11940', '4031', '10340', '21195', '6097,5', '5755', '23920', '15336', '24328', '28842', '18113', '4809', '7107', '15795', '10417', '14340', '20852', '24717', '14420', '24145', '11133', '19047', '3929', '58670', '8680', '27714', '5661', '9907,2', '9300', '18200', '9010', '6692', '6313', '6311', '76360', '4098', '18048', '4336,2', '53091', '5708', '13490', '4589', '16324', '25800', '4598,6', '10220', '17503', '10085,9', '14730', '9069', '12219', '6136,58', '14279', '23347', '3069,9', '17998', '34020', '2150', '10149', '5218', '13265', '14441', '4490', '18450,8', '9546', '38778,01', '11551', '6502', '3654', '10640', '4879,8', '20180', '19719', '32980', '27060', '2075', '18725', '11160', '10140', '12980', '31466', '22600', '5276', '18270', '3480', '9061', '4701,6', '11565', '26199', '6819', '13455', '20205', '7181', '5190', '24923', '89200', '6700', '45000', '20610', '8080', '11325', '13166', '4560', '10185', '9826', '9360', '12012', '3335', '8941', '12511', '22520', '9718', '8753', '32846', '5548', '2165,4', '11227', '9380', '5228', '3103,2', '10169', '10990', '7070', '23389', '8386', '11440', '24772', '23440', '16519', '15547', '31200', '6494', '13780,82', '22329,67', '11310', '3312', '8532', '29493', '9574', '22188', '4042', '29065', '6839', '6858', '16290', '20751', '14856', '2580', '18143', '4595', '9490', '22692,96', '10650', '29000', '11302', '8350', '47529,91', '12597,3', '15800', '6838', '3109', '6747', '8830', '14380', '29461,34', '17346', '19886', '19854', '27298', '18582', '25960', '24035,5', '5798', '5745,12', '5550', '11199', '15215', '88312', '15890,9', '12760', '29336,4', '11642,3', '15450', '14965', '11154', '18000', '14637', '31817,2', '10347', '5773', '10925', '4867', '7796', '26950', '24195', '11720', '33862', '3484', '14648', '14513', '28421', '23352', '45672', '6904', '4799', '17134', '10268', '17778', '24220', '13332', '3752', '28098', '20833', '32810', '19260', '6299,2', '17702', '13905', '8241', '4785', '31730,91', '27700', '8198', '32387', '22264', '2974,15', '46695', '79679', '12745', '77762', '29294', '12695', '9890', '3680', '2007', '10001', '64500', '16540', '25700', '11949', '12990', '14385', '16648', '35522', '10890', '22398', '9899,92', '13488', '2152', '20575', '9588', '6467', '18910', '10846', '63320', '15820', '2183', '11779', '11416', '27769', '5080', '30390', '2934', '8370', '6682', '18239', '16450', '10850', '5267', '17170', '20160', '4939', '11099', '10048', '19900', '5650', '6675', '18964', '29970', '3399', '99540', '6925', '21595', '10359', '19005', '3290', '7540', '3561', '9654', '16882', '11264,25', '28551', '7022,7', '25829,1', '36805', '29199', '36093', '42180', '26800', '15070', '2489,4', '8988', '12348', '26034', '7110', '7880', '4599', '29388', '4208', '13530', '28715', '4257', '26397', '16320', '19925', '15299', '11359', '4555', '4729', '21216', '7132', '35520', '3744', '10836', '14350', '6255,15', '12097', '15016', '16698', '18468', '7348', '21570', '22947', '11202,3', '17910', '6115', '5965', '13960', '21589,9', '6138', '9545', '15685', '12140', '10231', '25199', '21915', '8440', '74650', '18510', '8785', '9170', '3370', '21464', '19805', '17082', '5871', '15427', '5778', '5570', '39450', '30422', '13719', '7900', '13386', '8184', '4150', '14288', '26380', '17560', '3989', '29691', '5746', '22872', '16105', '10374', '26340', '3798,9', '23760', '3509', '28950', '26596', '3879,17', '21400', '21746', '9923', '9652', '4292', '2224,8', '19169', '25420', '8360,92', '21598', '76730', '30599', '14168', '26370', '28472', '11796', '35775', '22338,94', '8889', '11526', '11363,99', '16600', '22900', '25989', '44000', '2790', '6247,8', '4683', '2599', '11583', '24270', '20609', '15720,91', '15910', '22244', '32397', '18481', '22413', '35530', '29590', '39780', '3700', '14570,01', '20660', '5143', '7574', '5055', '11138', '7869,61', '10538', '20653', '7189', '9526', '27580', '20424', '9310', '5290', '17261', '26140', '8210', '3548', '18338', '28273', '63000', '10419', '8047,1', '26379', '9470', '21771', '56700', '15880', '4060', '12309', '3660', '7350', '26049', '11765', '11260', '42408', '28215', '32822', '11529,91', '8948', '16670', '10789', '16798,2', '4090', '23840', '28990,91', '10060', '26337,6', '34449', '25500', '2412', '5180', '5721', '26872', '9278', '4596', '2995', '27360', '17956', '13940', '5577', '22480', '28933', '13326,5', '6596', '27950', '25830', '15598', '15036,21', '11970', '34120', '17111', '15127,38', '23688', '16879', '5510', '5740', '10734', '7128', '6843', '7950', '38340', '12914', '27995', '15270', '84500', '22011', '24980', '11070', '43010', '8489', '31060', '35600', '4661', '7040', '16200', '19340', '3737,6', '10322', '28170', '2089', '14930', '26330', '17496', '46729', '10071', '3337', '27890', '12510', '12782', '5359', '3424', '32090', '46649', '4633', '28640', '18710', '9230,9', '12251', '92951', '33255', '17372', '12670', '3150', '3942', '6690', '16899', '35793', '5825', '20540', '7680', '5634', '26740', '11955', '4077', '7582', '9555', '13678', '24103', '12265', '8640', '21650', '22085', '35900', '16098', '2879', '10499', '7715', '23790', '29037,12', '3919', '5040', '7977', '18882', '3630', '26837', '9259', '24110', '17795', '9774', '11223', '21688', '5535', '8270', '11990', '21355', '10570', '4040,1', '21654', '28983', '6647', '9007', '14595', '5890', '27740', '8849', '4642', '4008', '24630', '11897', '84630', '23230', '4923', '29742', '12800', '12512', '14219', '12640', '22168', '31833', '6616', '5032', '26961', '9438', '16240', '13157', '25760', '3898,1', '18040', '20880', '22930', '10339', '16390', '9670', '6939', '3541', '25506,19', '18724', '4934', '24929', '5408', '26321', '9810', '2070', '16940', '13254', '13284', '5940', '10398', '7550', '76300', '90000', '10438', '7505', '30350', '16080', '5800', '22618', '14590', '5301', '11648', '12537', '11060', '3538', '17490', '12730', '25105,1', '5699', '13981,8', '3464', '5867', '19795', '3490,91', '82162', '22057', '11718,94', '16550', '27446', '14430', '23057', '34557,1', '22525', '22192', '46156', '5824', '17930', '17690', '4499,2', '11930', '25350', '10800', '8132', '7549,89', '9504', '9917', '4195', '2800,85', '22015', '13230', '20499', '49490', '17952', '15498', '34916', '6870', '30590,92', '13150', '13980', '17865', '5399', '5605', '16615', '7682', '7083,05', '23103', '3239', '25983', '6930', '23940', '10010', '8492', '4115', '24867', '14644', '13087', '2248', '20086', '6865', '4476', '21580', '6906', '9013', '13318', '13137', '17090', '3430', '10990,94', '5754', '26082', '8200', '19497', '5700', '28060', '11350', '10424,6', '8190', '17541', '37437,66', '13134', '3717', '10737', '32415', '13733', '3322', '12059,1', '6205', '10046', '11898', '3195', '5949', '8237', '9341', '9417', '17453', '7745', '6984', '9137', '15255', '3196', '8666', '65400', '6779', '16875', '5259', '44415', '10205,5', '3935', '19819', '13728', '24380', '27356', '5357', '9189', '14361', '16992', '80973', '12506', '2940', '8651', '10970', '18667', '36194', '16350', '11480', '13649', '17040', '10646,2', '38700', '9389', '8412', '9891', '19375', '14998', '14798', '35369,4', '6715,2', '20790', '28000', '26710', '22761', '19301', '5335', '3050', '6200', '5760', '4690', '14040', '26774', '6435', '10804', '4345', '3275', '3711', '14540,04', '30990', '3360', '31696', '24990', '16371', '28294', '5849', '16467', '16773', '17110', '11405', '18670', '8763', '23900', '20300', '16436', '3285', '7147', '64670', '14175', '14948', '31610', '4290,91', '4741', '6496,1', '23044', '21405', '10483', '6336', '10423', '12850', '14651', '13184', '13498', '11750,31', '5330', '22430', '23660', '22499', '14678,63', '13278', '17316', '4196', '13577', '25000', '14390,92', '27900', '2282', '5794', '13010,94', '6652', '22275', '9325', '6209', '9576', '23397', '34150', '23780', '13366,2', '14571', '21500', '11920', '23711', '32765', '8429', '19245', '6993', '10675', '4212,9', '4781', '3376,8', '21588', '8690', '16848', '5797', '7407', '17995', '34295', '16418', '17804', '4497', '37200', '5680', '27283', '16620', '11750', '37880', '6578', '42335', '30980', '21381,12', '13860', '23146', '27370', '16189', '8170', '14165', '4281', '6640', '3328', '22230', '10400', '7605', '6007', '4968', '5990', '14090', '25491', '5103', '5640', '5010', '24480', '15883', '14497', '2240', '3882', '15216,06', '24605', '20393', '6247', '38000', '7130', '10841', '11211', '7867', '27780', '12996', '16965', '12789', '3035', '27880', '12090', '23830', '8638', '2421,9', '5150', '17308', '29280', '24650', '13325', '9862', '36490', '14035', '18490,91', '15380', '9899,1', '18068', '5199', '42000', '35250', '7120', '6120', '40700', '27372', '13999', '2955', '17025', '19410', '78120', '4533', '8120', '18224', '3923', '16692', '33450', '18138', '4107', '21710', '8300', '3138', '10695,13', '11710', '5724,2', '21075', '13350', '15237,1', '6840', '21180', '24940', '6990,92', '22200', '32500', '9532', '16519,02', '50970', '7999,1', '23550', '12397', '17545', '7645', '18849', '4542', '12953', '10968', '2241', '11790', '6890', '28039', '26790', '17146', '4904', '30580', '20748', '12810', '9919', '19035', '17895', '22951', '19110', '20786', '11391', '18790', '11315', '8929', '15610', '20995', '11524,79', '56000', '11890', '11490', '25320', '32770', '31933', '3316', '8658', '27934', '6609', '32790,9', '2850', '10917', '15490', '9899', '12678', '24120', '20999', '26241,6', '13193', '28594', '10497', '26990', '3540', '28469', '33300', '5687', '17050', '8091', '17173', '22635', '6100', '19150', '3950', '2498', '21250', '4779', '15320', '22140', '7455', '17251', '20490', '19020', '11637', '9995', '5366', '10073', '29345', '4628', '20700', '21760', '6766,4', '9830', '7092', '3410', '8308,35', '7200', '3269', '6440', '22110', '13850', '9030', '10230', '15250', '6730', '4000', '27790', '52930', '8140', '21320', '16447', '18857', '36500', '15897,92', '12053', '16060', '9395', '5287', '16999,82', '19420', '6069', '76738', '13198', '11808', '21943', '13900', '93947', '3876', '28778,3', '15784', '4892', '17509', '17250', '49500', '11580', '93890', '19597', '15186', '11690', '6340', '4527', '63657', '39690', '4891', '18599,4', '3894,2', '4910', '2489', '6118', '2299', '3489', '4909', '10191', '4403', '4088', '32508,2', '3979', '12396', '22770', '10969', '10759', '7077', '4572', '19769', '16715', '8549', '26329', '18800', '9971,89', '78400', '8879', '20992,78', '46540', '27150', '27400', '3815', '27124', '17098,2', '22598,1', '20720', '21600', '11266', '6190', '18820', '19897,1'}\n",
      "\n",
      "\n",
      "==========\n",
      "FST_PAYMENT\n",
      "{'1948,92', '950', '4000,9', '8117', '4521', '697', '1360', '827', '5361', '13750', '6000,95', '3124', '30000', '7049', '4138', '432', '2060', '7250', '1517', '470', '1719', '41774', '4504', '1399,3', '4260', '8320', '1630', '2518', '1648', '383,2', '1300', '9845', '34492', '1087', '279', '11027', '985', '2460', '938', '5244', '1830', '256,2', '545', '4330', '680', '8750', '737', '498,6', '367', '1455', '1765', '4393', '362', '5075,84', '1491', '11044', '834', '2132', '2530', '3605', '2861', '2697', '10516', '2130', '2238', '1011', '7586', '668,71', '776', '336', '890', '358,1', '1914', '480,9', '2514', '2916', '2062,5', '1959', '1528', '1567', '2653', '1222', '5784', '5398,1', '677', '15886', '690,95', '1251', '6999', '2006', '1595', '5108', '1575', '352', '21094', '5761', '4080', '622', '5600', '6882', '2720', '5517', '1370', '2079,02', '7495', '1500,92', '2716', '3100,3', '3107', '835', '2250', '2259', '4546,8', '2415', '3095', '742', '952', '8400', '6950', '1805', '799,5', '41000', '13772,82', '5752', '711', '5820', '1081', '7230', '13539', '2045', '5234', '7019', '1989', '729', '1484', '138', '9639', '6835', '376,21', '7541', '3385', '571', '2730', '7882', '2090', '698', '3874', '10467', '8164', '10550', '1880', '63219', '2616', '4498', '6000', '2668', '1690', '4579', '4708', '2173', '1376', '39910', '3108', '4048', '1098', '2751', '46300', '1973', '5499', '5902', '4949', '2290', '8', '439', '350', '1219', '1029,41', '41580', '2878', '1580', '1229', '1715', '4944', '880,2', '560', '2647', '5387', '1175', '808', '6990', '767', '7000,5', '4398', '3100', '10950', '2204', '792', '4768', '3780', '1829,43', '4995', '4742', '30660', '2300', '5148', '9480', '9793', '3872', '1885', '25599', '3570', '1900', '3555', '814,2', '7750', '542,2', '861', '780,1', '1267', '1438', '1034', '878', '1512', '1500,95', '2310', '6945', '747', '648', '2365', '7670', '10900', '962', '1655', '250,6', '1160', '500,39', '3794', '229,5', '1200,8', '6543', '4363', '3902', '210', '3943', '18588', '14940', '455', '495', '27000', '2010', '2004', '1837', '2810', '177', '11076', '2564', '9047', '1503', '2796', '3975', '43359', '1703,2', '1829', '5130', '9400', '8008', '5461,11', '7816', '1997', '2455', '1991', '1910', '810', '917', '1890', '2409', '2784', '1939', '984', '2710', '18400', '2248,1', '1462', '38800', '2805', '694', '468', '25405', '2000,6', '14935', '3500,6', '3687,5', '3545', '2125', '10000', '4050', '2500,2', '1725', '6600', '2778', '524', '1510', '2780', '1046', '7633', '1233,2', '5044', '1201', '1275', '3516', '868,83', '6398', '5705', '3790', '2504', '2029', '54470', '681', '2749', '1266', '1847', '4550', '6010,3', '3284', '1656', '2670', '11200', '4300', '941', '868,42', '3318,4', '5985', '2665', '5521', '7148,1', '5022', '888', '2213', '1880,2', '5580', '446,88', '3173', '4053', '42518', '1280', '960', '6750', '2015', '375,2', '3415', '4185', '3678', '1146', '1994', '1254', '3969', '8923', '853', '754,2', '1343', '610', '940', '1770', '1303', '2696', '7395', '1958', '3300', '10015', '1204', '947', '3298', '2930', '1123', '2892', '4289', '2763', '5786', '7883', '1143', '1082', '6174', '6491', '3086', '5610', '5245', '870', '2053', '542', '50642', '6699', '2775', '48156,13', '323', '7082', '3028', '2643', '370', '1992', '130', '415', '5038', '1259', '971', '9190', '60360', '965', '6075', '2887', '13526', '1340', '7507', '1003', '60488', '3250', '1452', '2121', '2990', '2487', '1313', '22000', '1871,75', '1785', '685', '1588', '527', '7170', '3685', '1501', '2099', '31000', '1640', '959,3', '205', '674', '17500', '745', '8180', '5670', '349', '20644', '706', '340', '2179', '9730', '1556,8', '6370', '18900', '2395', '3710', '1651', '2830', '1444', '3435', '920', '2500', '19556', '10431', '12700', '676', '9248', '6151', '1380', '9288', '1978', '2430', '4480', '1369', '2437', '3114', '517', '2660', '1389,8', '5560', '1477', '2357', '13519', '12000', '1000,92', '554', '7805', '2858', '299', '1768', '3976,32', '4000,5', '22400', '14448', '1815', '4011', '3105', '955', '9900', '567', '2000,85', '10706', '20550', '3984', '677,5', '1126', '1210', '1422,6', '2280', '1329', '2000,7', '900,2', '2923', '13400', '1507', '1152', '7095', '27350', '1271,1', '2390', '13140', '1001,7', '3084', '5472', '1605', '53541', '4815', '16400', '300', '2299,8', '2156', '4199', '9200', '1385', '646,5', '3763', '6670', '7298', '2472,5', '4018', '9790', '894', '567,3', '1509', '12211', '10397', '1635', '5340', '3119', '20645', '1395', '6598', '4743', '660', '10000,92', '7945', '2077', '2230', '3735', '1922', '2860', '5660', '4320', '1150', '223', '3411', '771', '1092', '3350', '3000,95', '1649', '2011', '2522', '704', '3398', '1399', '10260', '8390', '4250', '1340,92', '1622', '1207', '260', '9411', '39804', '4788', '551', '5899', '16086', '786', '1130', '3524', '1824', '1700', '10267', '8099', '1704', '3039', '50442', '670', '4014', '11754', '6240', '5383,85', '3288', '1930', '832', '5120', '700,83', '4830', '1013', '2980', '449', '4770', '772', '732', '5036', '2877', '4081', '7238,86', '7964', '686', '413,1', '3830', '681,2', '8389', '2360', '2263', '905', '5989', '400', '2348,8', '3916', '5000', '2655', '956', '3442', '6495', '2888', '1870', '6000,1', '3333', '1784,81', '3194', '3392', '7800', '160', '756', '460', '552', '2112', '346', '1898', '3810', '631', '5002', '4145', '798', '8342,38', '10980', '7740', '3600', '1499', '2288', '2014', '936', '2535', '1559', '15600', '6396', '9425', '2740', '4798', '514', '1779', '3650', '694,2', '2998', '2210', '1653', '7700', '1016', '3787', '10', '2491', '725', '413', '1322,9', '3000', '3502', '2129', '24500', '2911', '13203', '2356', '7100', '53370', '4177', '6217', '2698', '42906', '2454', '1299', '15000,4', '5320', '7259', '974', '709', '10729', '7567', '6820', '25300', '2167', '1700,95', '2457,9', '7300', '696', '17669', '854', '5155', '3097,8', '2947', '7124', '2000', '2327', '4978', '13000', '6326', '4395', '478', '1750', '887', '6646', '949', '3310', '2096', '1297', '3433', '247,2', '359', '877', '344,8', '3990', '1610', '290', '3590', '4268,72', '1915', '692', '1660', '3294', '55000', '2698,93', '6050', '634,2', '44963', '1887', '2394', '13200', '387', '14760', '14786', '1854', '3318', '31350', '1363', '5980', '4139,36', '3698', '1272', '1112', '2373', '1035', '2765', '10227,2', '1121', '5246,5', '2459', '4597', '3060', '1530', '507', '1292', '39400', '341,1', '3439', '1238', '885', '1523', '2398', '10136', '3080', '623', '5540', '720', '485', '739', '12335', '10725', '509', '4992', '2650', '710', '50000', '55982', '5950', '583', '1786,9', '4536', '728', '4629', '3000,4', '3703', '780,3', '16657', '3669,6', '9663', '3374', '3599', '213', '3657', '3779', '2517', '2900', '3720', '9040', '32750', '21900', '1610,4', '3240', '2197', '8816', '1855', '5812', '687', '2506', '5440', '9770', '1058', '50120', '1226', '3210', '3160', '1012', '1009', '1290', '682', '1039', '490', '326', '6599,8', '8800', '2966,2', '53530', '1540,84', '5928', '2078', '13580', '2689', '2898', '18080', '4346', '629', '2600', '7836', '2270', '12251', '2843', '10162', '2149', '4000,91', '2797', '2482,84', '2370', '3220', '391,2', '1849', '10460', '1392,4', '508,5', '10240', '4820', '5023', '769', '1533', '820', '6519', '1148', '436', '56638', '6257', '1563', '1249,95', '4686', '13300', '1821', '3537', '1717,92', '7795', '52182', '1889', '7477', '8263', '539', '995', '2970', '765', '54929', '656', '4275,2', '2685', '1767', '3006', '7261', '2140', '1680', '4990', '3829,6', '1300,92', '561', '1892', '10177', '11800', '2245', '643', '2857', '1487', '5045', '910', '8000', '4352,37', '251,1', '6365', '7995', '2587', '1674', '1056', '1721', '301', '10619', '20000', '699', '3183', '8945', '3297', '3511', '7707', '9000', '369', '3320', '3403', '3449', '4370', '2047', '12144,42', '3148', '667', '10350', '3270,82', '636', '549', '1475', '3492', '2000,9', '1107', '2076', '518', '2614', '6975', '811', '9068', '4828', '1671', '580', '605', '7531', '10700', '2490,95', '1287', '513', '4319', '5100', '4091', '2022', '2265', '7500', '1677', '903', '3602', '4198', '8082', '1894', '2420,1', '3159', '3170', '4155', '1818', '3440', '1008', '4160', '977', '770', '4499', '373', '1540', '10394,5', '456', '1225', '1155', '479,8', '2088', '13613', '469', '1265', '285', '5726,3', '2588', '4210', '842', '3413', '10147', '5145', '6357', '1940', '3304', '5814', '11860', '3078', '9250', '918', '13536', '11762,27', '8540', '1866,6', '3245,95', '695', '1806', '6320', '1760', '3995', '3482', '6513', '529', '500', '531', '280', '2865', '2712', '6785', '1876', '3454', '2039', '3126', '468,1', '15000', '1786', '557', '33694', '1619', '2001', '564', '5200', '9964', '1231', '16515', '16668,82', '429', '3180', '1745', '4640', '598', '12999', '630', '965,92', '10500', '1179', '2278', '586', '2605', '2798', '200', '3800', '1371', '4387', '3200', '1093,4', '0', '9602', '895', '1442', '13100', '386', '3010', '515', '619', '1695', '479', '17610', '51929', '1480', '849', '4809', '5609', '7207', '7822', '2000,79', '11230', '8734', '437', '1243', '833', '2260', '2620', '1015', '1570', '8680', '8900', '2000,2', '65000', '10100', '9300', '638', '1327', '1041', '633', '4983,2', '2201', '2567', '1071', '2346', '4098', '512', '4020', '1702', '2632', '13790', '1255,41', '2776', '7820', '6400', '16100', '440', '4800', '5708', '2350', '40100', '9750', '2559', '979', '1364', '1841', '2698,89', '2335', '2192', '744', '9444', '1000', '7142', '1356', '480', '269', '5667', '18735', '2150', '2703', '695,2', '1319', '2826', '3311', '4490', '988', '1302', '1050,33', '515,85', '639', '2690', '3159,86', '2999,6', '488', '8820', '7764', '30303', '2634', '1048', '8618', '846', '2568', '599,95', '2331', '2218', '726', '4000,22', '5900', '3425', '1330', '3739', '2910', '363,5', '1290,6', '2405,69', '10140', '815', '1735', '1080', '15091', '1608', '2237', '337', '485,8', '1116', '1328', '1350', '3910', '612', '3092', '4197', '524,85', '3480', '366', '729,1', '1999,8', '481,8', '14990,94', '2024', '276,6', '749', '3498', '10425', '8000,91', '419', '1235', '381', '1625', '2294', '4348', '6700', '18375', '2608', '1504', '45000', '2770', '921', '28257', '2760', '4358', '1418', '311', '4567', '451', '10008', '1835', '75500', '1571', '12012', '1405', '3335', '363', '1244,7', '1198', '1129', '555,2', '1648,5', '6910', '2199,95', '774', '3619', '5305', '1486', '3840', '6933', '606,2', '10041', '2433', '2758', '2383', '535', '2935', '2384', '9016', '11440', '1106', '8349', '4200', '2630', '616', '2220', '818', '2571', '783', '2667', '628', '2466', '54080', '410', '1383', '645', '6160', '1679', '2299,9', '1877', '5038,1', '4551', '1250', '3463', '458', '1661', '9574', '3677', '3110', '9498', '11090', '5000,1', '26565', '15701', '6957', '18152', '958', '3045', '4980,91', '1808', '2142', '3149', '2285', '1460', '1888', '3252', '900', '705', '3391', '4775', '2680', '1248', '4806', '2580', '2816', '9490', '3266', '24000', '2915', '5999,2', '10650', '915', '4953', '3293', '50500', '8998', '1726', '49038', '4353', '2885', '601', '3023', '12520', '10152', '2500,95', '35000', '555', '9754', '4517', '1070', '3414', '613', '5550', '589', '2092,94', '1255', '4660', '1799', '2016', '12600', '1703', '848', '9898', '3870', '599', '2222', '1534', '5350', '19355', '538', '1103', '14220', '590', '2000,22', '1479', '1365', '1751', '7953', '720,2', '392', '6387', '4850,8', '1730', '9685', '18000', '1515', '2062', '1392', '1543,5', '9037', '4095', '4110', '10557', '2708', '2997', '1291', '1933', '3484', '13700', '339', '3319,7', '19950', '299,92', '1245', '2028', '3585', '1030', '390', '669', '433', '296,8', '5735', '3752', '2279', '10007', '2345', '62250', '987', '2347', '34698,2', '1384', '9991', '29080,92', '3140', '4315', '1458', '1924', '17000', '292,2', '1202', '10098', '11080', '334', '5718', '1351', '638,7', '14440', '2493', '3680', '11221,5', '4005', '2007', '48210', '25400', '5170', '371', '1159', '1481', '2000,4', '12044', '1875', '1800,1', '3426', '2399', '4082', '14385', '2485', '2080', '1937', '9871', '2985', '1680,82', '2152', '3980', '4100', '3157', '8450', '899', '1737', '475', '550', '2286', '1270', '10560', '10026', '16500', '7630', '1381', '2934', '1498', '3214', '9955', '2100', '368', '14753', '19151', '1000,1', '9910', '6837', '1515,7', '758', '2247', '2375,68', '793', '8499', '857', '687,7', '1045', '16750', '1374,88', '9570', '797', '2200', '4650', '1103,85', '2700,75', '10270', '1102', '539,09', '644', '1522', '5847', '2013', '2807', '2027,7', '5650', '1489', '1394', '3495', '2287', '3015', '1474,3', '10527', '2754', '2540', '998', '4720', '1440', '606', '1962', '3290', '3500', '2151', '869', '863', '1341', '1338', '4318', '1069', '1812', '672', '5999', '3223', '3885', '9267', '9020', '13807', '2160', '2569', '594', '1999,2', '4364', '4925', '2952', '2223', '778', '838', '3609', '576', '10095', '9800', '559', '2989', '11292', '2803', '1763', '4919', '7110', '473', '7880', '1072', '2864', '2403', '258', '912', '1000,2', '8710', '2323', '416', '4400', '3970', '7270', '445', '364', '845,5', '1089', '1004', '2832', '1094', '2753', '1525', '6948', '418', '11020', '9039', '5140', '618', '7519', '3901', '2198', '1151', '8650', '6115', '4194,3', '389', '4739', '5790', '943', '1002', '6297', '22097,99', '168', '6138', '2440', '2825,5', '516', '2688', '4430', '1470', '2467', '5979', '9700', '1584', '34923', '28800', '372', '75570', '3100,1', '13818', '1408', '2937', '3370', '1790', '239', '13776', '499', '6445,86', '5000,91', '430', '3000,2', '3765', '690', '1693', '5730', '3130', '1188', '7447', '3610', '4916', '7900', '6995,92', '1181', '3499', '5998', '837,91', '953', '780', '927', '530', '1075', '5400', '4746', '2855', '558', '342', '1495', '1424', '12358', '19924', '1650', '5746', '925', '541', '9391', '5033', '2899', '1220', '1700,92', '1936', '40664', '1124', '1788', '3850', '969,8', '2500,4', '16070', '3202', '439,95', '316', '1411', '26802', '5767', '1814', '3236', '2490', '2136', '2333', '6228', '3298,92', '409', '1834', '2166', '5844', '1294', '1810', '11500', '3550', '6399,9', '7480', '1566', '7659,01', '1434', '431', '1987', '1185', '650', '1271', '3162,71', '655', '1747', '1970', '1361', '1899,9', '2790', '3228', '510', '760', '2084', '2570', '2599', '715', '15140', '33590', '2098', '379', '3278,9', '2595', '4700', '6800', '10097', '1869', '1519', '380', '3169', '1063', '60432', '353', '1969', '6923', '2095', '2458', '3740', '29590', '3960', '3700', '1497', '365', '375', '5143', '1873', '999,2', '1634', '4989,92', '6509', '1512,1', '11382', '150', '7547,8', '1639', '3257,04', '1374', '3490', '873', '1170', '7174,87', '2235', '520', '4399', '1196', '4274', '800,82', '1490', '1493', '2880', '1463', '1841,91', '383', '2962,1', '2852', '1999', '1961', '14000', '2835', '6196', '305,1', '3469', '4206,8', '1831', '1360,92', '1546', '1258', '7020', '2890', '2178', '5260', '435', '4060', '2547', '772,3', '247', '5611', '1379', '3055', '1864', '3660', '1168', '7350', '4186,59', '2495', '2845', '2000,92', '1995', '2046', '1598', '13500', '1629', '4190', '2900,5', '6782', '1125', '2115', '424', '855,9', '2772,13', '7243', '2604', '658', '1508', '875', '272', '1190', '7420', '268', '1398', '6532', '48800', '1215', '2349,6', '3205', '2615', '40000', '46832', '10525', '19990', '1550', '1516', '1520', '19000', '1990', '5504', '24800', '1310', '1310,62', '663', '1065', '3064', '1544', '1581', '867', '574', '1899,8', '21839', '11689', '7660', '2199', '2200,05', '540', '2239', '1872', '1252', '4239', '12500', '7128', '444,1', '7950', '4846,96', '9418', '1717', '1778', '1059', '3339', '1615', '990', '3270', '4817', '6554', '5373', '4434', '1820,94', '7528', '1949', '2110', '582', '3621,7', '2368', '2482', '2700', '9445,95', '930', '1457', '3337', '712', '1055', '847', '6500', '1410', '1952', '13126', '3049', '8790', '1115', '2954', '2870', '1099,9', '2369', '1050', '2590', '6000,81', '446,05', '750', '1309,65', '596', '1625,2', '15680', '319', '3760', '457', '2950', '2387', '7125', '10330', '1108', '3150', '1820', '3688', '1020', '1802', '2528', '4900', '3209', '625', '2625', '973', '3408,8', '14190', '1845', '26090', '1000,95', '5279', '723', '8640', '2586', '384', '1450', '1840', '4360', '508,79', '1095', '2879', '7590', '893', '54230', '1268', '691', '1535', '2320', '2400', '3730', '508', '1731', '1288', '18589', '675', '3745', '1195', '3451', '100', '393', '3450', '5240', '1670,69', '845', '1781,83', '736', '5300', '3245', '1318', '1110', '830', '1368', '2920', '570', '11990', '39487', '565', '11673', '3650,1', '1689', '14640', '858', '5703', '528,5', '5890', '18850', '10981', '1899,1', '330', '2228', '573', '651', '5060', '4593', '3043', '1400,1', '3020', '3520', '11924', '5744,5', '3795', '4712', '9661,66', '3568', '230,3', '1289', '11900', '0,92', '4600', '911', '2330', '6625,16', '1042', '48052,1', '2030', '4450', '503', '1171', '1842', '1469', '1353', '4000,92', '824', '10695', '5000,87', '14100', '4230', '1433', '3216', '3846', '511', '2155', '980', '465', '4030', '4343', '6127', '2070', '5250', '3416', '1240', '6534', '4235', '11660', '1161', '1333', '6832', '23800', '2520', '5940', '9600', '2988', '1609', '13650', '6712', '2437,5', '2532', '7550', '16293', '1912', '3249', '3670', '4619', '450', '29032', '2901', '9838', '1500', '360', '12300', '1158', '5800', '2470', '1420', '20890', '2231', '407', '40758', '3088', '1874,7', '2702', '1004,2', '6641', '669,3', '1865', '5177', '448,9', '5500', '7116', '420', '1246', '615', '3538', '2157', '2578,8', '5450', '2999,9', '982', '5710', '3073,8', '299,1', '2550', '197', '1876,25', '1295', '9530', '1165', '1053', '2958', '2635', '1230', '9528', '1200', '1279', '1921', '3198', '17930', '1710', '2271', '3666,2', '3120', '9254', '1430', '2597', '4498,91', '7794,92', '1293', '1000,67', '1366,05', '1312', '7747', '1399,7', '4523', '1305', '1666', '15939', '10637,7', '8879,48', '10800', '29500', '7631', '15900', '4565', '2375', '422,1', '26000', '2949,7', '6748', '2811', '6575', '1355', '3930', '2686', '2328', '10696', '1739,69', '7811', '1597', '489', '22500', '2324', '859', '7623,3', '1120', '240,6', '1500,2', '519', '1018', '44500', '1337', '3165', '3470', '1256', '3774', '2690,92', '1895', '3030', '1935', '4935', '3364', '1099', '5226,9', '4750', '3134', '5081', '5375', '553', '9375', '2248', '3390', '21696', '4476', '2410', '1796,94', '2729', '6550', '1431', '49200', '4280', '1200,2', '58800', '4937', '684', '1417', '1545', '46500', '1269', '26410', '3135', '0,95', '7034', '2750', '8200', '8100', '3037', '6844', '5700', '39600', '2034', '1955', '2869,9', '2574', '3595', '8190', '579', '4898', '5631', '2352', '1400', '3717', '1800', '11337', '1897', '4675', '4045', '4590', '5192', '1400,95', '874', '19430', '3195', '388', '1000,89', '1147', '1049', '2450', '6875', '16481', '6410', '1957', '238', '9272', '734', '3215', '9520', '438', '8064', '1176', '2499,8', '3400', '575,2', '2380', '6650', '5437', '8688,09', '1996', '4310', '880', '10200', '724', '1708,5', '10205,5', '3935', '8125', '688', '1348', '3800,2', '3000,92', '26550', '9695', '942', '1555', '6317', '1172', '443', '1399,8', '934', '1561', '421', '1025', '2253', '2840', '1549', '2419', '1026', '2940', '3334', '2846', '20235', '2315', '16350', '293', '1700,91', '3265', '2610', '25131,59', '9788', '3597', '799,92', '3172', '3899,95', '8688', '28000', '9996', '2613', '426', '3050', '6200', '5760', '16250', '4690', '3900', '1500,5', '9784', '1759', '19521', '332', '2355', '4752', '75606', '2538', '1557', '4950', '3275', '3711', '1590', '1445', '4270', '1960', '3997', '2480', '764', '11560', '3360', '970', '1705,5', '1179,6', '4086', '1950', '1694', '17110', '8328', '2926,4', '2640', '485,2', '4823', '23900', '400,2', '249,3', '1051', '7845', '1153,5', '5248,91', '522,4', '54910', '1239', '4040', '2052', '425', '4510', '12910', '1138', '640', '3137,9', '6481,31', '643,7', '1573', '2674', '176', '3212', '49582', '635', '2020', '7506', '11425,8', '825', '1789', '1860,9', '2593', '1180', '1093', '9568', '608', '1980', '5817', '1047,82', '463,2', '5097', '1077', '1279,9', '1090', '276', '10512', '25000', '1979', '35800', '1809', '9457', '2500,8', '2515', '2596', '3658', '999', '546', '5562', '1260', '306', '839', '2180', '7000', '5722,21', '4647', '5000,8', '9325', '11548', '304', '7118', '2233', '588', '1253,7', '5074', '1140', '2549', '2050', '21500', '2325', '553,6', '1899', '34000', '2293', '855', '7520', '1199', '159', '2114', '781', '49356', '1257', '51127', '3534', '2031', '2477', '10434', '950,92', '405', '1708', '759', '16000', '3277', '6603', '1670', '7669', '7400', '1064,2', '10502', '799', '11320', '2017', '1556', '225', '2372', '2244', '3448', '2863', '556,2', '5050', '3363', '1800,2', '283', '3158', '1100', '1320', '4697', '2560', '4245', '2598', '2044', '3014', '281', '1091', '3369', '9979', '592', '14221', '2848', '1956', '1331', '9922', '5594', '1135', '1111', '1386', '3328', '868', '790', '10400', '3187,74', '4851', '5352', '2555', '11024', '1691,6', '532', '6007', '6290', '1776', '8040', '5990', '3346', '8650,48', '22399', '11528', '16484', '2651', '828', '1600', '6900', '1036', '5010', '1685', '5838', '2240', '1591', '38000', '7185', '5001,9', '5198', '677,3', '3679', '4680', '7600', '3260', '5210', '10933', '1306', '2055', '1599', '6541', '5150', '11597', '9824', '1514', '2688,69', '1284', '933', '1638', '464', '2338', '449,1', '2358', '4350', '21000', '775', '649', '5445,92', '249', '627', '6777', '3899', '4870', '510,9', '54870', '4184', '25089', '2955', '11233', '9699,69', '8120', '1488', '1813', '9500', '2510', '2429', '1182', '7240', '4986,5', '1619,95', '2283', '754', '3822', '10000,1', '18719', '8300', '3138', '2019', '23700', '659', '23000', '19958', '13395', '459', '8480', '1453', '10795', '1373', '70940', '2175', '2159', '3880', '5095', '6929', '3264', '2041', '4666', '2499', '21648', '337,1', '9960', '795', '602', '5532,66', '6323', '16000,1', '4267', '4027', '3718,2', '2572', '964', '1866', '4444', '787', '1850', '3357', '804,5', '60245', '2241', '8522,2', '6890', '10750', '15670', '6789', '2186', '355', '740', '3340', '1261', '1547', '3569', '1860', '637,4', '7080', '1568', '2135', '3087', '2206', '2040', '9664', '3280', '1780', '1084', '1197', '3510', '7165', '620', '9472', '730', '4580', '10489,92', '727', '626', '24500,03', '250', '1390', '14806', '315', '10515', '2469', '2745', '9550', '9096', '11890', '862', '5750', '11490', '3136', '1281', '800', '4340', '4455', '269,1', '8274', '2850', '718', '2849', '1720', '1928', '1178', '2364', '13360', '345,3', '2205', '1560', '399', '3371', '2508', '752', '10497', '1828', '36330', '5460', '748', '2067', '29860', '2981', '6100', '3950', '404,1', '457,5', '2498', '1920', '3749,74', '2316', '1722', '217,5', '395', '3235', '777', '562', '323,25', '5366', '637,3', '600', '3000,91', '4948', '1771', '3410', '3090', '7200', '850', '891', '1213', '8940', '3003,3', '1393', '525', '1326', '544', '8500', '2025', '3186', '840', '20595', '3099', '10230', '6730', '320', '234', '4000', '496', '1010', '14200', '816', '2553', '1119', '1482', '4715', '4587', '1682', '3000,68', '3104', '7464', '1884', '1132', '1247', '4287', '713', '2340', '9108', '2414', '21750', '1139', '3620', '1216', '1524', '2289', '2442', '7913', '1339,9', '14500', '3444', '230', '1740', '2413', '1999,94', '4500', '653', '1060', '1574,1', '2975', '1819', '4632', '1823', '13670', '1141', '11600', '3330', '6610', '8700', '2649', '1982', '4390', '652', '15500', '3538,92', '7776', '10465', '9270', '788', '6480', '6820,45', '2444', '1273', '3750', '6340', '5811', '377', '779', '1975', '989', '1632', '4653', '6325', '10000,2', '929', '2190', '700', '2170', '4910', '717,2', '1005', '3380', '735', '8250', '11000', '120', '889', '5850', '755', '1278', '3489', '3907', '642', '4403', '10723', '1901', '2200,91', '1264', '746', '1040', '11116', '3999', '3596', '2131', '2800', '757', '7553', '3639,5', '10759', '309', '1620', '3299', '12100', '10051', '18800', '738', '948', '50', '4263', '2584', '1596', '140000', '4335', '930,91', '981', '6300', '10090', '3815', '1572', '5690', '1883', '3359', '1565', '860', '3230', '1050,92', '650,95', '813', '1701', '8751', '1686', '2420', '4225,44', '7990', '1752', '3575'}\n",
      "\n",
      "\n",
      "==========\n",
      "LOAN_AVG_DLQ_AMT\n",
      "{'756,1', '950', '1626', '1608,255', '1706,3', '1360', '2276,54666666667', '1072,34', '2676,2125', '3140', '3539,82', '605,496', '1496,3275', '865,05', '909,424285714286', '1875,70333333333', '1222,06', '2467,33', '2060', '533', '4140', '948,58', '2000', '1386,115', '2742,25', '1120', '849,19', '605,32', '2701,26', '510,136666666667', '2779,4', '4260', '1630', '3470', '1093,22', '761,866666666667', '2120', '1750', '1069,6', '1090,8', '1300', '1810,155', '3310', '5170', '830,7', '1033', '613,21', '355,04', '1276,66666666667', '2702,4', '7340', '3030', '1749,69', '777,84', '1830', '3990', '1610', '1269,82', '3590', '752,923076923077', '2569,05', '553', '820,124', '1402,92', '680', '845,55', '872,065', '7780', '2080', '1601,63', '1065,62', '3390', '367', '2410', '1196,43', '3782,39', '959,955', '6133,41', '988,85', '2476,77', '2568,45', '684,89', '4760', '4810', '863,68', '1007,8', '1179,86', '2379,46', '446,31', '1155,125', '2262,12', '2530', '1352,85714285714', '289,02', '1033,905', '1200,99', '550', '2130', '1164,99666666667', '1270', '767,7', '3283,1', '1697,22', '2750', '890', '1040,78666666667', '2100', '1138,2', '3209,5', '451,495', '2751,25', '543,17', '134,78', '1894,04', '1639,24571428571', '1400', '1391,47', '1176,82', '1800', '2201,11', '1259,39', '437,26', '1439,94', '2200', '3037,58', '4650', '1909,16', '1305,97', '651,16', '702,23', '2910,25', '3060', '1986,88', '2462,1', '1516,872', '989,15', '5650', '1530', '2524,28', '1193,9675', '4220', '2720', '846,74', '1288,7', '1370', '1286,73', '2450', '339,83', '3190', '2540', '1010,55', '1930,595', '3080', '720', '2263,2', '1109,855', '1440', '1371,86', '763,185', '2250', '3500', '2650', '710', '1230,63', '772,73', '3400', '1666,28', '3102,49333333333', '1258,585', '1373,99333333333', '887,79', '776,3', '6650', '1538,69', '9060', '766,26', '2380', '2732,2', '2386,505', '2160', '4310', '880', '1205,4725', '3433,42', '1778,635', '975', '1144,03', '904,08', '3509,805', '1052,63', '980,42', '990,85', '1059,47', '569,121428571429', '678,2', '1591,94', '1182,23', '549,88', '796,59', '1002,60333333333', '2900', '1113,335', '1535,89', '1006,59', '59,68', '567,51', '2598,9', '3240', '3777,93333333333', '2090', '1851,55', '1145,85', '2840', '3460', '2940', '3172,83', '3160', '1880', '4400', '6660', '1290', '2419,9', '3970', '1690', '1329,54', '776,59', '682', '490', '1247,92', '1127,76', '2031,34333333333', '2610', '856,64', '2343,41', '18307,16', '1094', '3959', '981,71', '1410,53333333333', '1296,74', '554,36', '857,956666666667', '2290', '791,56', '1829,73', '4001,34', '2600', '5140', '2088,86', '2270', '1411,31', '1899,7', '1197,38333333333', '136,76', '3860,18', '2127,1', '1325,63', '433,306666666667', '1580', '669,12', '2370', '3050', '5760', '6200', '970,155', '4690', '880,2', '560', '3900', '3530', '1411,835', '2151,50333333333', '656,705', '820', '3100', '2440', '2538', '1590', '1949,8', '1470', '1745,7', '1960', '3780', '2480', '2158,72', '849,085', '94,89', '3360', '1398,58', '6080', '1883,04', '3501,45', '970', '2272,5', '1399,25', '2441,465', '2300', '1950', '673,89', '6260', '2101,256', '2970', '762,93', '2640', '957,63', '1867,66166666667', '457,71', '444', '1790', '3303,2', '2959', '610,986666666667', '4620', '1374,28', '2140', '3570', '1900', '1680', '3702,8', '2237,245', '430', '1920,9575', '1314,11', '728,49', '2629,87', '805,86', '862,43', '690', '2202,69', '367,35', '3610', '1570,46', '1512', '640', '753', '2310', '6041,86', '910', '14990', '2232,28333333333', '1508,79', '648,68', '499,69', '896,1', '809,42', '1789,04', '821,45', '7670', '791,98', '1776,96666666667', '1160', '780', '530', '2020', '677,474', '2510,2', '1555,00090909091', '1180', '3914,24', '1199,27', '1650', '1980', '3089,155', '2010', '1427,295', '4370', '892,18', '1634,81', '1220', '2810', '1300,386', '2259,35', '1593,76', '1424,9175', '3890', '1878,86', '1090', '4376,4', '779,415', '3850', '1259,1', '2002,45', '1237,24', '5526,72666666667', '946,49', '588,13', '1260', '1879,28', '2180', '1429,99', '3769,3625', '2490', '1066,605', '269,51', '3691,2675', '2349,51', '1910', '1459,99', '957,59', '810', '2070,52', '3237,94', '2960', '1890', '1139,49', '2961', '1731,06', '1007,36', '1140', '1810', '2710', '2050', '5048,19', '1922,69', '6490', '580', '2679,82', '650', '855', '4729,07', '1108,96333333333', '763,3', '3127,19', '1970', '2265', '1095,89', '270', '2790', '1215,45777777778', '2240,34', '2163,94', '510', '760', '4940', '2570', '3637,43', '1296,4', '4884,95', '1599,9', '582,386666666667', '6689,82', '4050', '478,13', '1292,59', '957,46', '1966,99', '767,566', '894,29', '2258,3', '3440', '4700', '4630', '3170', '1670', '380', '4160', '1830,2', '859,84', '770', '3315', '4055,03', '1510', '1540', '2005,15', '1594,914', '749,82', '1317,06', '875,09', '2370,01', '3960', '2269,735', '2464,55', '2441,4', '600,93', '3070', '1100', '1320', '1692,49', '2560', '1147,5', '3428,56', '2554,005', '315,796666666667', '4210', '3040', '750,175', '177,34', '1258,69', '1940', '2816,25', '896,31', '4120', '3490', '2509,38', '1170', '1405,53', '1135', '2090,53', '882,01', '1490', '1939,61', '2880', '433,3425', '651,625', '4550', '2670', '1760', '407,8', '1831,51333333333', '4300', '1155,02142857143', '790', '1985,3', '836,6', '1386,96', '5160', '526,563333333333', '455,32', '806,19', '966,953333333333', '1335,47', '3201,95', '1171,686', '1942,72', '1140,2', '837,48', '1272,72', '1093,75', '2890', '665,57', '500', '1600', '1597,92', '1713,74', '2178', '1280', '2240', '115,65', '2235,225', '4710', '1369,755', '517,51', '960', '619,4', '3660', '1552,325', '588,9', '1208,09', '558,06625', '1478,49', '1675,75', '1179,394', '1264,23', '1241,32428571429', '4190', '4680', '2261,19', '3180', '4640', '3260', '918,255', '2083', '1468,38', '5076,65', '630', '51,8', '1002,22', '610', '940', '1190', '821,93', '5780', '1770', '1953,6', '1817,76', '1077,605', '598,5', '2699,88', '1889,43', '2368,84', '3300', '957,4', '3200', '1215', '0', '2044,155', '726,57', '3509,22', '2930', '1663,27', '986,606666666667', '1283,93', '755,063333333333', '642,31', '4350', '1716,52', '438,19', '630,49', '3010', '1056,95', '1313,33333333333', '1931,44', '603,55', '5397,15', '825,10875', '1550', '5410', '560,86', '1636,04', '870', '1520', '2094,3', '1480', '1990', '1768,07', '789,23', '1085,5', '699,78', '1310', '3770', '1388,83769230769', '1433,4', '3651,445', '2820', '687,11', '2547,85', '8020', '2858,6', '2260', '1160,96', '1015', '2510', '1570', '1605,95', '4115,33333333333', '1582,435', '1107,5', '5510', '704,93', '370', '540', '1683,49', '3635,77', '518,9', '979,63', '5394,29', '1477,37', '2429,09', '966,07', '1340', '1344,33', '1010,43', '2755,21', '1615', '990', '3870,25', '2359,898', '3086,66666666667', '3250', '1175,57', '4020', '4472,91333333333', '568,7', '324,16', '2990', '3880', '1120,93', '1304,0625', '1319,56', '984,79', '620,75', '989,39', '2110', '1088,48', '673,02', '440', '2350', '1549,18', '1288,63', '3106,29', '670,085', '1640', '2365,47', '1149,395', '836,79', '727,63', '778,32', '2700', '3420', '930', '683,9975', '1000', '2082,47857142857', '2184,66', '1850', '604,353333333333', '1095,61', '586,646666666667', '647,42', '2979,31', '480', '62,46', '1108,574', '6500', '1892,238', '1410', '2150', '1489,13', '2142,2', '1004,225', '2794,22333333333', '1312,44', '2870', '2573,8', '1113,74', '812,693333333333', '5030', '2059,46', '1833,77', '1050', '2690,33333333333', '740', '2585', '2590', '920', '2500', '750', '991,19', '578,06', '1880,59', '3760', '1860', '2549,52', '3279,705', '2950', '1380', '1820', '3150', '1144,98', '2372,77', '1724,15333333333', '1581,82', '740,575', '2430', '2040', '1020', '1102,7', '2409,01', '1780', '1116,49', '2492,54', '965,1', '3119,99', '14870', '2186,585', '87,39', '599,19', '620', '5560', '3018,275', '3510', '2660', '730', '1149,495', '38,32', '1761,03', '578,3', '709,96', '310', '816,83', '2989,98', '3659,0625', '110,91', '1450', '1390', '1840', '1330', '2910', '5428,62', '1152,15', '913,4975', '2701,5', '800', '1080', '429,11', '2425', '1412,55', '1350', '2850', '2320', '5040', '2400', '3910', '1210', '1720', '1324,41285714286', '2280', '3630', '1959,99', '976,68', '481,506', '892,95', '1742,41', '100', '1091,2', '2340,06777777778', '804,32', '3480', '1560', '722,59', '2590,15', '224,59', '1459,54666666667', '782,21', '2247,51', '2390', '3540', '1409,965', '3716,35', '386,666666666667', '1717,47333333333', '559,94', '1684,04', '502,1', '2497,09', '918,55', '862,5', '1110', '830', '300', '574,21', '4827,666', '2920', '619,73', '1589,92333333333', '570', '2185', '4070', '5075,99', '6130', '869,26', '1418,86', '5872,64', '2647,9', '859,92', '2018,255', '1671,7', '1321,68833333333', '812,11', '1920', '1258,49', '2770', '0,04', '917,57', '1539,2', '2760', '1679,2', '543,33', '908,78', '327,98', '2112,17', '2273,72', '9280', '13920', '1288,898', '310,126', '3626,91', '5698,46', '1077,03', '2097,97333333333', '1439,815', '567,16', '5830', '2119,77', '600', '330', '2315,64857142857', '714', '1751,37', '879', '1070,05', '3410', '366,58', '660', '3940', '3020', '850', '3520', '63,31', '2230', '1134,58', '2860', '1626,75', '1299,55', '2066,905', '824,581428571429', '4320', '840,7', '1259,71333333333', '1614,36', '1150', '3840', '1119,27', '840', '911,793333333333', '2477,64', '4600', '1314,58666666667', '1070,52', '4920', '2330', '1402,43', '798,53', '4000', '1348,68', '3322,7775', '2030', '4450', '1010', '4508,2', '2916,18', '613,12', '1686,92', '1639,99', '1413,765', '370,77', '425,97', '1309,89', '4250', '827,57', '4200', '1733,88', '2630', '2220', '2739,76', '1957,21', '2957,71', '1130', '769,43', '860,505', '2013,19', '2707,25', '11310', '702,565', '198,88', '1700', '954,65', '1848,05', '2340', '879,74', '1250', '2269,565', '552,57', '6310', '2796,66', '1841,9', '3110', '2287,02', '980', '3620', '818,74', '1529,06', '682,56', '516,18', '604,43', '782,705', '4030', '1563,45', '670', '1097,86', '1740', '1804,9', '2070', '1266,34', '5430', '49,35', '1259,43', '1441,57', '1240', '3762,5', '1060', '1460', '1088,05', '1844,885', '1930', '2084,32', '5370', '900', '1649,37', '1258,95', '2157,32', '5603,82', '1932,5', '2680', '3589,09', '2293,65', '1359,6', '2580', '2980', '596,29', '3330', '663,05', '4390', '2520', '4770', '846,55', '2326,81', '1509,44', '2139,63375', '1068,47', '7010', '1426,72', '2009', '830,53', '2105', '2154,02', '3750', '674,263333333333', '3670', '497,62', '450', '1740,19', '2360', '4240', '1500', '360', '1275,785', '3202,2', '1793,66', '2470', '1420', '400', '3964,85', '875,2', '2190', '700', '802,36', '1492,404', '5110', '4530', '2170', '4158,85', '1439,9', '2925', '1870', '1677,48', '735', '240', '2830', '1283,89', '823,54', '1070', '1141,06', '5500', '1845,5', '3820', '2406,8', '6070', '1221,92', '5850', '5550', '929,51', '2466,8625', '1098,8', '4660', '0,71', '1539,13', '472,11', '3024', '560,36', '1029,75', '758,82', '2361,22', '5269,78', '216,59', '3810', '631', '532,24', '3072,475', '1040', '1781,225', '3506,07', '2800', '2550', '855,675', '849,91', '673,6825', '4445,6', '3600', '658,42', '1620', '6390', '2782,89', '5545,0225', '1053', '4290', '2503,19', '2740', '758,95', '1730', '5870', '1260,55', '1670,18', '1230', '951', '1200', '1498,26', '535,53', '509,52', '1066,005', '769,915', '1710', '1003,255', '901,64', '4164,34', '768,97', '2210', '3120', '1798,49', '1430', '2656,68', '2128,74', '860', '3230', '1387,15', '3971,6', '3768,7', '3000', '28012,2', '1154,34', '1792,71', '1010,27', '7100', '2239,37', '1030', '2518,18', '724,38', '5320', '4565', '2051,5', '668,53'}\n",
      "\n",
      "\n",
      "==========\n",
      "LOAN_MAX_DLQ_AMT\n",
      "{'756,1', '950', '1706,3', '1360', '3140', '3539,82', '883,33', '1222,06', '2467,33', '2060', '533', '4140', '948,58', '470', '2000', '2742,25', '1120', '849,19', '605,32', '2701,26', '797,16', '2779,4', '4260', '1395,7', '1630', '3470', '1093,22', '2120', '1750', '1069,6', '1090,8', '1300', '1870,69', '830,7', '3310', '5170', '1033', '2702,4', '613,21', '355,04', '7340', '961,94', '3030', '1749,69', '3018,62', '3089,5', '777,84', '1830', '1860,72', '3990', '1610', '3590', '2569,05', '553', '3285,74', '680', '2080', '3390', '1065,62', '367', '2410', '1196,43', '3782,39', '6133,41', '988,85', '2568,45', '684,89', '4760', '5980,18', '1819,09', '1007,8', '863,68', '1179,86', '2379,46', '446,31', '2262,12', '2530', '289,02', '1200,99', '550', '2130', '1270', '767,7', '3283,1', '1697,22', '2750', '890', '2100', '1138,2', '2751,25', '543,17', '134,78', '1894,04', '4960', '1185,5', '1400', '1391,47', '1176,82', '1800', '1783,55', '1259,39', '437,26', '2201,11', '1439,94', '2200', '4650', '1909,16', '2064,08', '651,16', '702,23', '604,76', '3060', '1986,88', '2462,1', '989,15', '5650', '1530', '2524,28', '1450,22', '4220', '2720', '846,74', '1288,7', '1370', '2450', '339,83', '3190', '2540', '1010,55', '3080', '2058,71', '720', '2263,2', '1440', '1371,86', '2250', '3500', '2650', '710', '1230,63', '2782,93', '772,73', '3400', '1666,28', '887,79', '2380', '1095,61', '776,3', '6650', '1538,69', '9060', '766,26', '2732,2', '755,76', '937,79', '2160', '4310', '880', '7890', '3433,42', '1386,14', '975', '1144,03', '904,08', '1351,06', '1052,63', '980,42', '990,85', '1059,47', '678,2', '1591,94', '549,88', '796,59', '2900', '589,45', '1006,59', '59,68', '567,51', '2598,9', '3240', '2090', '1851,55', '1145,85', '2840', '3460', '2940', '3172,83', '3160', '1880', '4400', '6660', '1290', '2419,9', '3970', '1690', '1324,5', '776,59', '682', '1519,64', '490', '1247,92', '1127,76', '2610', '856,64', '2343,41', '1094', '3959', '981,71', '1296,74', '554,36', '3920', '2290', '791,56', '4001,34', '2600', '5140', '2088,86', '2270', '1411,31', '918,28', '136,76', '3860,18', '2127,1', '1325,63', '1580', '669,12', '2370', '3050', '3220', '5760', '6200', '4690', '880,2', '560', '3900', '3530', '820', '3100', '1930,47', '2440', '1590', '919,88', '1949,8', '1470', '1745,7', '1960', '3780', '2480', '4880', '1387,47', '2158,72', '94,89', '3360', '1398,58', '6080', '1883,04', '3501,45', '970', '2300', '1950', '673,89', '2969,75', '6260', '2970', '1408,32', '762,93', '2640', '957,63', '457,71', '444', '1790', '3303,2', '2959', '4620', '1110,39', '1374,28', '2140', '3570', '1900', '1680', '3702,8', '728,49', '430', '5470', '2629,87', '862,43', '690', '2202,69', '826,77', '367,35', '3610', '640', '2310', '6041,86', '910', '14990', '1508,79', '648,68', '1672,88', '499,69', '896,1', '809,42', '1789,04', '7670', '791,98', '1837,31', '1160', '780', '530', '2020', '2510,2', '1180', '3914,24', '1199,27', '1650', '1980', '1046,01', '2010', '4370', '892,18', '1220', '1650,53', '1090,01', '2810', '1593,76', '3890', '1090', '3850', '605,59', '1259,1', '2002,45', '1370,25', '946,49', '588,13', '1260', '2180', '572,22', '1429,99', '1066', '2490', '269,51', '957,59', '2349,51', '1910', '1459,99', '810', '3237,94', '2960', '1890', '1139,49', '1731,06', '1140', '1810', '2710', '2050', '5048,19', '6490', '580', '2679,82', '650', '4729,07', '3127,19', '1970', '2265', '1095,89', '270', '2790', '2163,94', '510', '760', '4940', '2570', '3637,43', '2589,2', '1427,4', '4884,95', '1599,9', '489,13', '6689,82', '4050', '478,13', '1292,59', '1296,4', '1966,99', '894,29', '3170', '2258,3', '3440', '4700', '1670', '4160', '770', '4055,03', '1510', '1540', '2005,15', '749,82', '1317,06', '875,09', '3960', '776,6', '3700', '2441,4', '600,93', '3070', '1100', '1320', '1692,49', '2560', '3428,56', '4210', '3040', '2902,89', '177,34', '1940', '2816,25', '896,31', '4120', '3490', '2509,38', '1170', '18310', '1405,53', '2090,53', '3560', '1490', '1939,61', '2880', '4550', '2670', '1760', '407,8', '4300', '790', '1985,3', '836,6', '5160', '2281,1', '806,19', '1335,47', '3201,95', '1942,72', '1140,2', '837,48', '5580', '1272,72', '2890', '665,57', '500', '1600', '1597,92', '2178', '1280', '2240', '115,65', '4710', '828,51', '960', '517,51', '3660', '1208,09', '2102,75', '1478,49', '1828,89', '4190', '4680', '2261,19', '3180', '4640', '3260', '1056,64', '1468,38', '5076,65', '630', '51,8', '2083', '1002,22', '610', '940', '1190', '821,93', '5780', '1770', '1953,6', '1817,76', '620,18', '2699,88', '1889,43', '2368,84', '3300', '957,4', '3200', '0', '724,93', '726,57', '3509,22', '2930', '1663,27', '1283,93', '910,63', '642,31', '1716,52', '4350', '438,19', '630,49', '1154,9', '3010', '1056,95', '2497', '1931,44', '603,55', '5397,15', '856,3', '1550', '5410', '1636,04', '870', '1520', '2094,3', '1480', '1990', '1768,07', '789,23', '1085,5', '699,78', '1310', '3770', '1433,4', '2547,85', '2820', '687,11', '8020', '2858,6', '2260', '2620', '1160,96', '1819,26', '1387,3', '1015', '2510', '1570', '704,93', '370', '540', '1683,49', '3635,77', '518,9', '979,63', '5394,29', '1086,57', '1477,37', '1302,38', '609,52', '2429,09', '966,07', '1340', '1344,33', '2755,21', '1615', '990', '3870,25', '3250', '1175,57', '586,5', '1452', '1012,9', '4020', '568,7', '2044,32', '324,16', '2990', '3880', '1120,93', '1319,56', '1729,66', '620,75', '989,39', '2110', '673,02', '440', '2350', '1549,18', '1288,63', '3106,29', '1479,51', '1640', '2365,47', '836,79', '778,32', '2700', '3420', '930', '1000', '2184,66', '1850', '647,42', '62,46', '480', '6500', '1410', '2150', '1489,13', '2142,2', '1312,44', '2573,8', '2870', '918,83', '1113,74', '5030', '2059,46', '2830', '1833,77', '1050', '1601,63', '740', '2590', '920', '2500', '750', '991,19', '1249,61', '578,06', '1880,59', '3760', '1860', '2549,52', '2950', '4490', '1380', '1820', '3150', '2375,59', '1144,98', '2372,77', '1581,82', '1102,7', '2430', '2040', '1020', '1116,49', '2409,01', '1780', '2492,54', '965,1', '14870', '1489,45', '87,39', '599,19', '620', '5560', '3510', '2660', '38,32', '730', '1761,03', '578,3', '736,3', '310', '816,83', '2989,98', '110,91', '1450', '1390', '1840', '1330', '2910', '5428,62', '800', '1080', '429,11', '2425', '790,77', '1350', '2850', '2320', '5040', '1300,16', '2400', '3910', '1210', '1720', '2280', '3630', '1959,99', '976,68', '892,95', '1742,41', '100', '3480', '804,32', '1560', '3450', '2590,15', '722,59', '224,59', '2247,51', '2390', '3540', '997,66', '2858,62', '3716,35', '490,88', '559,94', '502,1', '862,5', '2497,09', '918,55', '1110', '830', '300', '574,21', '598,5', '2920', '619,73', '570', '4070', '869,26', '1418,86', '5075,99', '6130', '5872,64', '2647,9', '481,51', '473,16', '859,92', '1671,7', '812,11', '1920', '1258,49', '2770', '0,04', '917,57', '1539,2', '2760', '1679,2', '543,33', '908,78', '327,98', '2112,17', '1093,75', '2289,89', '13920', '9280', '3626,91', '5698,46', '1077,03', '567,16', '5340', '5830', '2119,77', '3780,1', '600', '330', '714', '1751,37', '879', '2642,83', '1070,05', '3410', '366,58', '660', '3940', '3020', '850', '3520', '954,34', '63,31', '2230', '1134,58', '2860', '1626,75', '1299,55', '4320', '1614,36', '1150', '3840', '1119,27', '840', '2477,64', '4600', '1070,52', '4920', '2330', '1402,43', '798,53', '4000', '1348,68', '4450', '2030', '1010', '4508,2', '2916,18', '1686,92', '1639,99', '370,77', '1309,89', '4250', '827,57', '4200', '2220,72', '1733,88', '2630', '2220', '2739,76', '783', '1957,21', '2957,71', '1130', '769,43', '2013,19', '2707,25', '840,4', '11310', '2398,8', '1700', '954,65', '1848,05', '2340', '879,74', '1250', '552,57', '1841,9', '6310', '2796,66', '3110', '2287,02', '980', '3620', '818,74', '1529,06', '1840,14', '516,18', '604,43', '3357,52', '4030', '1563,45', '670', '1097,86', '1740', '1804,9', '2070', '1266,34', '5430', '49,35', '1259,43', '1240', '3762,5', '1060', '1460', '1088,05', '1930', '2084,32', '5370', '900', '1649,37', '2157,32', '3589,09', '5603,82', '1105,07', '4830', '2680', '2293,65', '1359,6', '2580', '2980', '596,29', '3330', '663,05', '4446,3', '4390', '2520', '4770', '846,55', '1509,44', '943,56', '937,6', '1068,47', '7010', '1426,72', '2009', '830,53', '3111,86', '660,86', '2154,02', '3750', '3670', '497,62', '450', '1740,19', '2360', '4240', '1500', '360', '3202,2', '1793,66', '2470', '1420', '400', '3964,85', '875,2', '2618,78', '2190', '700', '802,36', '5110', '4530', '2170', '4158,85', '1439,9', '1870', '1677,48', '3820', '240', '823,54', '1070', '1141,06', '5500', '1845,5', '331', '2406,8', '6070', '1221,92', '5850', '5550', '1098,8', '4660', '0,71', '1539,13', '472,11', '560,36', '1029,75', '2361,22', '5269,78', '216,59', '3810', '581,67', '631', '1040', '2064,03', '3506,07', '2800', '2550', '849,91', '590', '658,42', '3600', '1365', '1620', '6390', '2979,35', '1053', '4290', '2503,19', '2740', '758,95', '1730', '5870', '1260,55', '1670,18', '1230', '1200', '1498,26', '535,53', '1710', '901,64', '4164,34', '768,97', '2210', '3120', '1798,49', '1430', '2656,68', '1901,3', '860', '3230', '1387,15', '3971,6', '3768,7', '3000', '28012,2', '1154,34', '849,07', '1792,71', '1010,27', '7100', '2239,37', '1030', '2518,18', '724,38', '4565', '5320', '2051,5', '668,53'}\n",
      "\n",
      "\n",
      "==========\n",
      "sample\n",
      "{'train'}\n",
      "\n",
      "\n"
     ]
    }
   ],
   "source": [
    "for i in df_train.columns: # перебираем все столбцы\n",
    "    if str(df_train[i].dtype) == 'object': # если тип столбца - object\n",
    "        print('='*10)\n",
    "        print(i) # выводим название столбца\n",
    "        print(set(df_train[i])) # выводим все его значения (но делаем set - чтоб значения не повторялись)\n",
    "        print('\\n') # выводим пустую строку"
   ]
  },
  {
   "cell_type": "markdown",
   "metadata": {
    "collapsed": true
   },
   "source": [
    "Mожно заметить что некоторые переменные, которые обозначены как строки (например PERSONAL_INCOME) на самом деле числа, но по какой-то причине были распознаны как строки\n",
    "\n",
    "Причина же что использовалась запятая для разделения не целой части числа.."
   ]
  },
  {
   "cell_type": "markdown",
   "metadata": {},
   "source": [
    "Перекодировать их можно например так:"
   ]
  },
  {
   "cell_type": "code",
   "execution_count": 14,
   "metadata": {
    "collapsed": false
   },
   "outputs": [
    {
     "data": {
      "text/plain": [
       "0         7000.0\n",
       "1         4100.0\n",
       "2        40000.0\n",
       "3        20000.0\n",
       "4        17000.0\n",
       "5         7000.0\n",
       "6        10000.0\n",
       "7         7500.0\n",
       "8         9000.0\n",
       "9         4000.0\n",
       "10       15000.0\n",
       "11       12000.0\n",
       "12        8000.0\n",
       "13       20000.0\n",
       "14       18500.0\n",
       "15       14000.0\n",
       "16        6000.0\n",
       "17        9000.0\n",
       "18        5000.0\n",
       "19       15000.0\n",
       "20        6100.0\n",
       "21       22180.0\n",
       "22        9000.0\n",
       "23        8700.0\n",
       "24        7000.0\n",
       "25        6000.0\n",
       "26       15000.0\n",
       "27       12000.0\n",
       "28       11000.0\n",
       "29        8000.0\n",
       "          ...   \n",
       "30103    12000.0\n",
       "30104    10000.0\n",
       "30105    10000.0\n",
       "30106     8000.0\n",
       "30107    11000.0\n",
       "30108     7000.0\n",
       "30109    10000.0\n",
       "30110     8000.0\n",
       "30111    25000.0\n",
       "30112    10000.0\n",
       "30113    12000.0\n",
       "30114     7000.0\n",
       "30115    12000.0\n",
       "30116    14500.0\n",
       "30117    12000.0\n",
       "30118     8000.0\n",
       "30119     7000.0\n",
       "30120    10000.0\n",
       "30121    10000.0\n",
       "30122    10000.0\n",
       "30123    15000.0\n",
       "30124     8100.0\n",
       "30125     9500.0\n",
       "30126    13000.0\n",
       "30127    10000.0\n",
       "30128    12000.0\n",
       "30129    10000.0\n",
       "30130     6000.0\n",
       "30131     4500.0\n",
       "30132    20000.0\n",
       "Name: PERSONAL_INCOME, Length: 30133, dtype: float64"
      ]
     },
     "execution_count": 14,
     "metadata": {},
     "output_type": "execute_result"
    }
   ],
   "source": [
    "df['PERSONAL_INCOME'].map(lambda x: x.replace(',', '.')).astype('float')"
   ]
  },
  {
   "cell_type": "markdown",
   "metadata": {},
   "source": [
    "Такой эффект наблюдается в столбцах `PERSONAL_INCOME`, `CREDIT`, `FST_PAYMENT`, `LOAN_AVG_DLQ_AMT`, `LOAN_MAX_DLQ_AMT`"
   ]
  },
  {
   "cell_type": "markdown",
   "metadata": {},
   "source": [
    "### Теперь ваше небольшое исследование"
   ]
  },
  {
   "cell_type": "markdown",
   "metadata": {
    "collapsed": true
   },
   "source": [
    "#### Задание 1. Есть ли пропуски в данных? Что с ними сделать?\n",
    "\n",
    "(единственного верного ответа нет - аргументируйте)"
   ]
  },
  {
   "cell_type": "code",
   "execution_count": 15,
   "metadata": {
    "collapsed": false
   },
   "outputs": [
    {
     "name": "stdout",
     "output_type": "stream",
     "text": [
      "GEN_INDUSTRY \t 1367 9.0% пропуск(а/ов) \t 32 разных значений\n",
      "GEN_TITLE \t 1367 9.0% пропуск(а/ов) \t 13 разных значений\n",
      "ORG_TP_STATE \t 1367 9.0% пропуск(а/ов) \t 6 разных значений\n",
      "ORG_TP_FCAPITAL \t 1365 9.0% пропуск(а/ов) \t 3 разных значений\n",
      "JOB_DIR \t 1367 9.0% пропуск(а/ов) \t 11 разных значений\n",
      "TP_PROVINCE \t 295 1.9% пропуск(а/ов) \t 71 разных значений\n",
      "REGION_NM \t 1 0.0% пропуск(а/ов) \t 12 разных значений\n",
      "WORK_TIME \t 1368 9.0% пропуск(а/ов) \t 303 разных значений\n",
      "PREVIOUS_CARD_NUM_UTILIZED \t 14935 98.1% пропуск(а/ов) \t 3 разных значений\n"
     ]
    }
   ],
   "source": [
    "# Проверим в каких полях есть пропуски\n",
    "for i in df_train.columns: # перебираем все столбцы\n",
    "    missed_values=len(df_train[df_train[i].isnull()])\n",
    "    if missed_values>0: # если есть пустые\n",
    "        values_num=len(df_train[i].unique())\n",
    "        print(i, '\\t', missed_values, '{:.1%}'.format(missed_values/len(df_train)), 'пропуск(а/ов)', '\\t', values_num, 'разных значений') # выводим название столбца"
   ]
  },
  {
   "cell_type": "code",
   "execution_count": null,
   "metadata": {
    "collapsed": false
   },
   "outputs": [],
   "source": [
    "\"\"\"\n",
    "Варианты работы с пропусками:\n",
    "\n",
    "для категориальных признаков\n",
    "        - или проигнорировать (при OneHotEncoding получим равные нулю для дамми-признаки)\n",
    "        - или заменить на моду (нужно смотреть на распределение - есть ли какое-то явно доминирующее значение)\n",
    "\n",
    "для метрических признаков\n",
    "        - заменить средней, медианой\n",
    "\n",
    "+ дополнительно посмотреть, если пропуски касаются одних и тех же наблюдений - проигнорировать все наблюдение \n",
    "\n",
    "Если же очень много пропусков - можно проигнорировать признак, но снова же - смотреть внимательно:\n",
    "можно приравнять нулю, минус единице..., и если признак будет иметь хорошую предсказательную способность - игнорировать его нельзя \n",
    "\n",
    "\"\"\" \n",
    "    "
   ]
  },
  {
   "cell_type": "markdown",
   "metadata": {
    "collapsed": true
   },
   "source": [
    "#### Задание 2. Есть ли категориальные признаки? Что с ними делать?"
   ]
  },
  {
   "cell_type": "code",
   "execution_count": null,
   "metadata": {
    "collapsed": false
   },
   "outputs": [],
   "source": [
    "\"\"\"\n",
    "Есть, т.к. выше уже смотрели на данные и имеем признаки:\n",
    "\n",
    "    EDUCATION                     \n",
    "    MARITAL_STATUS                \n",
    "    GEN_INDUSTRY                  \n",
    "    GEN_TITLE                     \n",
    "    ORG_TP_STATE                  \n",
    "    ORG_TP_FCAPITAL               \n",
    "    JOB_DIR                       \n",
    "    FAMILY_INCOME                              \n",
    "    REG_ADDRESS_PROVINCE          \n",
    "    FACT_ADDRESS_PROVINCE         \n",
    "    POSTAL_ADDRESS_PROVINCE       \n",
    "    TP_PROVINCE                   \n",
    "    REGION_NM      \n",
    "    \n",
    "Общее действие - One-Hot-Encoding и генерация дамми-переменных\n",
    "    \n",
    "    Но нужно смотреть на природу каждого признака, количество уникальных значений. \n",
    "Так, например, если будем использовать адрес, то модель может легко переобучиться на примере одного клиента, \n",
    "и мы можем просто не получить в тестовой или уже \"боевой\" выборке клиента с точно таким же адресом.\n",
    "\n",
    "\"\"\""
   ]
  },
  {
   "cell_type": "markdown",
   "metadata": {},
   "source": [
    "#### Задание 3. Фунция предобработки"
   ]
  },
  {
   "cell_type": "markdown",
   "metadata": {},
   "source": [
    "Напишите функцию, которая бы\n",
    "\n",
    "* Удаляло идентификатор `AGREEMENT_RK`\n",
    "* Избавлялась от проблем с '.' и ',' в стобцах PERSONAL_INCOME, CREDIT, FST_PAYMENT, LOAN_AVG_DLQ_AMT, LOAN_MAX_DLQ_AMT\n",
    "* Что-то делала с пропусками\n",
    "* Кодировала категориальные признаки\n",
    "\n",
    "В результате, ваш датафрейм должен содержать только числа и не содержать пропусков!"
   ]
  },
  {
   "cell_type": "code",
   "execution_count": 16,
   "metadata": {
    "collapsed": true
   },
   "outputs": [],
   "source": [
    "def preproc_data(df_input):\n",
    "    df_output = df_input.copy()\n",
    "    \n",
    "    ## Your Code Here\n",
    "\n",
    "    # Удаляем идентификатор \n",
    "    df_output.drop(['AGREEMENT_RK'], axis=1, inplace=True)\n",
    "\n",
    "    # Исправляем ошибки чтения десятичного разделителя\n",
    "    for col in ['PERSONAL_INCOME', 'CREDIT', 'FST_PAYMENT', 'LOAN_AVG_DLQ_AMT', 'LOAN_MAX_DLQ_AMT']:\n",
    "        df_output[col]=df_output[col].map(lambda x: x.replace(',', '.')).astype('float')\n",
    "\n",
    "    # заполняем пропуски\n",
    "    for col in df_output.columns: # перебираем все столбцы\n",
    "\n",
    "        missed_values=len(df_output[df_output[col].isnull()]) # считаем количество null-значений\n",
    "\n",
    "        if missed_values>0: # если есть таковые\n",
    "\n",
    "            if str(df_output[col].dtype) == 'object': #если категориальная - заполняем пустой строкой\n",
    "                df_output[col][df_output[col].isnull()]='пусто'\n",
    "\n",
    "            else: # если не категориальная - медианой\n",
    "                df_output[col][df_output[col].isnull()]=df_output[col][~df_output[col].isnull()].median()\n",
    "\n",
    "\n",
    "    # определяем категориальные признаки\n",
    "    cat_features=[col for col in df_output.columns if str(df_output[col].dtype) == 'object']\n",
    "    cat_features.remove('sample') # исключаем признак выборки\n",
    "\n",
    "    # \"приклеиваем\" дамми-признаки столюцами справа\n",
    "    df_output=pd.concat([df_output, pd.get_dummies(df_output[cat_features])], axis=1)\n",
    "    # удаляем исходный категориальные признаки\n",
    "    df_output.drop(cat_features, axis=1, inplace=True)\n",
    "    \n",
    "    return df_output"
   ]
  },
  {
   "cell_type": "code",
   "execution_count": 17,
   "metadata": {
    "collapsed": false
   },
   "outputs": [
    {
     "name": "stderr",
     "output_type": "stream",
     "text": [
      "C:\\Users\\prikhno.k\\AppData\\Local\\Continuum\\Anaconda3\\lib\\site-packages\\ipykernel\\__main__.py:21: SettingWithCopyWarning: \n",
      "A value is trying to be set on a copy of a slice from a DataFrame\n",
      "\n",
      "See the caveats in the documentation: http://pandas.pydata.org/pandas-docs/stable/indexing.html#indexing-view-versus-copy\n",
      "C:\\Users\\prikhno.k\\AppData\\Local\\Continuum\\Anaconda3\\lib\\site-packages\\ipykernel\\__main__.py:24: SettingWithCopyWarning: \n",
      "A value is trying to be set on a copy of a slice from a DataFrame\n",
      "\n",
      "See the caveats in the documentation: http://pandas.pydata.org/pandas-docs/stable/indexing.html#indexing-view-versus-copy\n"
     ]
    }
   ],
   "source": [
    "df_preproc = df.pipe(preproc_data)\n",
    "\n",
    "df_train_preproc = df_preproc.query('sample == \"train\"').drop(['sample'], axis=1)\n",
    "df_test_preproc = df_preproc.query('sample == \"test\"').drop(['sample'], axis=1)"
   ]
  },
  {
   "cell_type": "markdown",
   "metadata": {},
   "source": [
    "#### Задание 4. Отделите целевую переменную и остальные признаки\n",
    "\n",
    "Должно получится:\n",
    "* 2 матрицы: X и X_test\n",
    "* 2 вектора: y и y_test"
   ]
  },
  {
   "cell_type": "code",
   "execution_count": 18,
   "metadata": {
    "collapsed": false
   },
   "outputs": [],
   "source": [
    "y, y_test = df_train_preproc['TARGET'], df_test_preproc['TARGET']\n",
    "X, X_test = df_train_preproc.drop(['TARGET'], axis=1), df_test_preproc.drop(['TARGET'], axis=1)"
   ]
  },
  {
   "cell_type": "markdown",
   "metadata": {},
   "source": [
    "#### Задание 5. Обучение и оценка качества разных моделей"
   ]
  },
  {
   "cell_type": "code",
   "execution_count": 19,
   "metadata": {
    "collapsed": false
   },
   "outputs": [
    {
     "name": "stderr",
     "output_type": "stream",
     "text": [
      "C:\\Users\\prikhno.k\\AppData\\Local\\Continuum\\Anaconda3\\lib\\site-packages\\sklearn\\cross_validation.py:44: DeprecationWarning: This module was deprecated in version 0.18 in favor of the model_selection module into which all the refactored classes and functions are moved. Also note that the interface of the new CV iterators are different from that of this module. This module will be removed in 0.20.\n",
      "  \"This module will be removed in 0.20.\", DeprecationWarning)\n"
     ]
    }
   ],
   "source": [
    "from sklearn.cross_validation import train_test_split\n",
    "# test_size=0.3, random_state=42\n",
    "\n",
    "## Your Code Here\n",
    "# разбиваем выборку на обучающую и контрольную\n",
    "y_train, y_control, X_train, X_control=train_test_split(y, X, test_size=0.3, random_state=42)"
   ]
  },
  {
   "cell_type": "code",
   "execution_count": 20,
   "metadata": {
    "collapsed": false
   },
   "outputs": [],
   "source": [
    "# Попробовать следующие \"черные ящики\": интерфейс одинаковый \n",
    "# Постепенно мы узнаем, что они делают а сейчас учимся понимать какой работает качественнее\n",
    "#     fit, \n",
    "#     predict, \n",
    "#     predict_proba\n",
    "\n",
    "from sklearn.tree import DecisionTreeClassifier\n",
    "from sklearn.ensemble import RandomForestClassifier\n",
    "from sklearn.linear_model import LogisticRegression\n",
    "\n",
    "## Your Code Here\n",
    "clf_1=DecisionTreeClassifier()\n",
    "clf_2=RandomForestClassifier()\n",
    "clf_3=LogisticRegression()\n",
    "\n",
    "clf_1.fit(X_train, y_train)\n",
    "clf_2.fit(X_train, y_train)\n",
    "clf_3.fit(X_train, y_train)\n",
    "\n",
    "y_pred_1, y_pred_proba_1=clf_1.predict(X_control), clf_1.predict_proba(X_control)[:,1]\n",
    "y_pred_2, y_pred_proba_2=clf_2.predict(X_control), clf_2.predict_proba(X_control)[:,1]\n",
    "y_pred_3, y_pred_proba_3=clf_3.predict(X_control), clf_3.predict_proba(X_control)[:,1]"
   ]
  },
  {
   "cell_type": "code",
   "execution_count": 21,
   "metadata": {
    "collapsed": false
   },
   "outputs": [
    {
     "name": "stdout",
     "output_type": "stream",
     "text": [
      "(1) DecisionTreeClassifier:  accuracy=79.4% |  precision=17.0% |  recall=17.8%\n",
      "(2) RandomForestClassifier:  accuracy=87.6% |  precision=16.7% |  recall=0.5%\n",
      "(3) LogisticRegression:  accuracy=87.8% |  precision=28.6% |  recall=0.4%\n"
     ]
    }
   ],
   "source": [
    "# Посчитать метрики стандартные\n",
    "# accuracy, precision, recall\n",
    "\n",
    "from sklearn.metrics import accuracy_score, precision_score, recall_score\n",
    "\n",
    "## Your Code Here\n",
    "print('(1) DecisionTreeClassifier: '+\n",
    "      ' accuracy='+'{:.1%}'.format(accuracy_score(y_control, y_pred_1))+\n",
    "      ' |  precision='+'{:.1%}'.format(precision_score(y_control, y_pred_1))+\n",
    "      ' |  recall='+'{:.1%}'.format(recall_score(y_control, y_pred_1)))\n",
    "\n",
    "print('(2) RandomForestClassifier: '+\n",
    "      ' accuracy='+'{:.1%}'.format(accuracy_score(y_control, y_pred_2))+\n",
    "      ' |  precision='+'{:.1%}'.format(precision_score(y_control, y_pred_2))+\n",
    "      ' |  recall='+'{:.1%}'.format(recall_score(y_control, y_pred_2)))\n",
    "\n",
    "print('(3) LogisticRegression: '+\n",
    "      ' accuracy='+'{:.1%}'.format(accuracy_score(y_control, y_pred_3))+\n",
    "      ' |  precision='+'{:.1%}'.format(precision_score(y_control, y_pred_3))+\n",
    "      ' |  recall='+'{:.1%}'.format(recall_score(y_control, y_pred_3)))"
   ]
  },
  {
   "cell_type": "code",
   "execution_count": 22,
   "metadata": {
    "collapsed": false
   },
   "outputs": [
    {
     "data": {
      "text/plain": [
       "<matplotlib.legend.Legend at 0x1f4e4d2a780>"
      ]
     },
     "execution_count": 22,
     "metadata": {},
     "output_type": "execute_result"
    },
    {
     "data": {
      "image/png": "[encoded data removed]",
      "text/plain": [
       "<matplotlib.figure.Figure at 0x1f4e2ffb748>"
      ]
     },
     "metadata": {},
     "output_type": "display_data"
    }
   ],
   "source": [
    "# Визуалищировать эти метрики всех моделей на одном графике (чтоб визуально сравнить)\n",
    "# Возможно вас удивит качество! Но задача подобрана специально ;) Такое качество тоже бывает\n",
    "\n",
    "## Your Code Here\n",
    "plt.plot([accuracy_score(y_control, y_pred_1), accuracy_score(y_control, y_pred_2), accuracy_score(y_control, y_pred_3)], label='accuracy')\n",
    "plt.plot([precision_score(y_control, y_pred_1), precision_score(y_control, y_pred_2), precision_score(y_control, y_pred_3)], label='precision')\n",
    "plt.plot([recall_score(y_control, y_pred_1), recall_score(y_control, y_pred_2), recall_score(y_control, y_pred_3)], label='recall')\n",
    "\n",
    "plt.legend(bbox_to_anchor=(0., 1.02, 1., .102), loc=3,\n",
    "           ncol=3, mode=\"expand\", borderaxespad=0.)"
   ]
  },
  {
   "cell_type": "code",
   "execution_count": 23,
   "metadata": {
    "collapsed": false,
    "scrolled": true
   },
   "outputs": [
    {
     "name": "stdout",
     "output_type": "stream",
     "text": [
      "(1) DecisionTreeClassifier:  roc_auc_score=0.5287\n",
      "(2) RandomForestClassifier:  roc_auc_score=0.5824\n",
      "(3) LogisticRegression:  roc_auc_score=0.6372\n"
     ]
    },
    {
     "data": {
      "text/plain": [
       "<matplotlib.legend.Legend at 0x1f4e5016080>"
      ]
     },
     "execution_count": 23,
     "metadata": {},
     "output_type": "execute_result"
    },
    {
     "data": {
      "image/png": "[encoded data removed]",
      "text/plain": [
       "<matplotlib.figure.Figure at 0x1f4e4d74be0>"
      ]
     },
     "metadata": {},
     "output_type": "display_data"
    }
   ],
   "source": [
    "# Потроить roc-кривые всех можелей на одном графике\n",
    "# Вывести roc_auc каждой моделе\n",
    "# Подпишите оси и линии\n",
    "\n",
    "## Your Code Here\n",
    "from sklearn.metrics import roc_auc_score, roc_curve\n",
    "\n",
    "print('(1) DecisionTreeClassifier: '+\n",
    "      ' roc_auc_score='+'{:.4}'.format(roc_auc_score(y_control, y_pred_proba_1)))\n",
    "\n",
    "print('(2) RandomForestClassifier: '+\n",
    "      ' roc_auc_score='+'{:.4}'.format(roc_auc_score(y_control, y_pred_proba_2)))\n",
    "\n",
    "print('(3) LogisticRegression: '+\n",
    "      ' roc_auc_score='+'{:.4}'.format(roc_auc_score(y_control, y_pred_proba_3)))\n",
    "\n",
    "\n",
    "plt.figure()\n",
    "plt.title='ROC curves'\n",
    "plt.grid=True\n",
    "plt.xlim((-0.01, 1.01))\n",
    "plt.ylim((-0.01, 1.01))\n",
    "plt.xlabel='fpr'\n",
    "plt.ylabel='tpr'\n",
    "\n",
    "fpr, tpr, thresholds=roc_curve(y_control, y_pred_proba_1)\n",
    "plt.plot(fpr, tpr, label='clf_1')\n",
    "\n",
    "fpr, tpr, thresholds=roc_curve(y_control, y_pred_proba_2)\n",
    "plt.plot(fpr, tpr, label='clf_2')\n",
    "\n",
    "fpr, tpr, thresholds=roc_curve(y_control, y_pred_proba_3)\n",
    "plt.plot(fpr, tpr, label='clf_3')\n",
    "plt.legend(bbox_to_anchor=(0., 1.02, 1., .102), loc=3,\n",
    "           ncol=3, mode=\"expand\", borderaxespad=0.)\n"
   ]
  },
  {
   "cell_type": "code",
   "execution_count": 24,
   "metadata": {
    "collapsed": false
   },
   "outputs": [
    {
     "name": "stdout",
     "output_type": "stream",
     "text": [
      "(1) DecisionTreeClassifier:  mean CV roc_auc_score=0.5256\n",
      "(2) RandomForestClassifier:  mean CV roc_auc_score=0.5842\n",
      "(3) LogisticRegression:  mean CV roc_auc_score=0.6462\n"
     ]
    }
   ],
   "source": [
    "from sklearn.cross_validation import cross_val_score\n",
    "# Сделать k-fold (10 фолдов) кросс-валидацию каждой модели\n",
    "# И посчитать средний roc_auc\n",
    "\n",
    "## Your Code Here\n",
    "cv1=cross_val_score(estimator=clf_1, X=X, y=y, cv=10, scoring='roc_auc').mean()\n",
    "cv2=cross_val_score(estimator=clf_2, X=X, y=y, cv=10, scoring='roc_auc').mean()\n",
    "cv3=cross_val_score(estimator=clf_3, X=X, y=y, cv=10, scoring='roc_auc').mean()\n",
    "\n",
    "print('(1) DecisionTreeClassifier: '+\n",
    "      ' mean CV roc_auc_score='+'{:.4}'.format(cv1))\n",
    "\n",
    "print('(2) RandomForestClassifier: '+\n",
    "      ' mean CV roc_auc_score='+'{:.4}'.format(cv2))\n",
    "\n",
    "print('(3) LogisticRegression: '+\n",
    "      ' mean CV roc_auc_score='+'{:.4}'.format(cv3))"
   ]
  },
  {
   "cell_type": "code",
   "execution_count": 25,
   "metadata": {
    "collapsed": true
   },
   "outputs": [],
   "source": [
    "# Взять лучшую модель и сделать предсказания (с вероятностями (!!!)) для test выборки\n",
    "\n",
    "## Your Code Here\n",
    "# Лучшей определили модель №3 !!!\n",
    "predict = clf_3.predict_proba(X_test)[:,1]"
   ]
  },
  {
   "cell_type": "code",
   "execution_count": 26,
   "metadata": {
    "collapsed": false
   },
   "outputs": [
    {
     "name": "stdout",
     "output_type": "stream",
     "text": [
      "ROC AUC = 0.62\n"
     ]
    },
    {
     "data": {
      "text/plain": [
       "[<matplotlib.lines.Line2D at 0x1f4e2fed8d0>]"
      ]
     },
     "execution_count": 26,
     "metadata": {},
     "output_type": "execute_result"
    },
    {
     "data": {
      "image/png": "[encoded data removed]",
      "text/plain": [
       "<matplotlib.figure.Figure at 0x1f4e2fedef0>"
      ]
     },
     "metadata": {},
     "output_type": "display_data"
    }
   ],
   "source": [
    "# Померить roc_auc на тесте\n",
    "# Вывести текстом и на графике =)\n",
    "\n",
    "## Your Code Here\n",
    "print('ROC AUC = '+'{:.4}'.format(roc_auc_score(y_test, predict)))\n",
    "\n",
    "plt.figure()\n",
    "plt.title='ROC curves'\n",
    "plt.grid=True\n",
    "plt.xlim((-0.01, 1.01))\n",
    "plt.ylim((-0.01, 1.01))\n",
    "plt.xlabel='fpr'\n",
    "plt.ylabel='tpr'\n",
    "\n",
    "fpr, tpr, thresholds=roc_curve(y_test, predict)\n",
    "plt.plot(fpr, tpr)"
   ]
  },
  {
   "cell_type": "markdown",
   "metadata": {},
   "source": [
    "### Больше обязательных заданий нет, но ниже вы можете провести исследование, поиграться с данными\n",
    "### Это возможность написать код, который я посмотрю и в случае чего откомметирую. ;)\n",
    "### Это не оценивается и остается на ваше усмотрение. Просто дополнительная возможность"
   ]
  },
  {
   "cell_type": "code",
   "execution_count": 27,
   "metadata": {
    "collapsed": true
   },
   "outputs": [],
   "source": [
    "### И далее ;)\n",
    "\n",
    "# Сори, не успеваю..."
   ]
  },
  {
   "cell_type": "code",
   "execution_count": null,
   "metadata": {
    "collapsed": true
   },
   "outputs": [],
   "source": []
  }
 ],
 "metadata": {
  "anaconda-cloud": {},
  "kernelspec": {
   "display_name": "Python [conda env:Anaconda3]",
   "language": "python",
   "name": "conda-env-Anaconda3-py"
  },
  "language_info": {
   "codemirror_mode": {
    "name": "ipython",
    "version": 3
   },
   "file_extension": ".py",
   "mimetype": "text/x-python",
   "name": "python",
   "nbconvert_exporter": "python",
   "pygments_lexer": "ipython3",
   "version": "3.5.2"
  },
  "toc": {
   "base_numbering": 1,
   "nav_menu": {
    "height": "31px",
    "width": "253px"
   },
   "number_sections": false,
   "sideBar": true,
   "skip_h1_title": false,
   "title_cell": "Table of Contents",
   "title_sidebar": "Contents",
   "toc_cell": false,
   "toc_position": {},
   "toc_section_display": "block",
   "toc_window_display": false
  }
 },
 "nbformat": 4,
 "nbformat_minor": 2
}
